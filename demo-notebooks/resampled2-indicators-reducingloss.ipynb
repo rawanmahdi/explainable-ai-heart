{
 "cells": [
  {
   "cell_type": "code",
   "execution_count": 1,
   "source": [
    "import tensorflow as tf\n",
    "from tensorflow import keras\n",
    "from keras import layers\n",
    "import pandas as pd\n",
    "import numpy as np\n",
    "import matplotlib.pyplot as plt\n",
    "from sklearn.model_selection import train_test_split\n",
    "from sklearn.metrics import classification_report \n",
    "from imblearn.under_sampling import RandomUnderSampler"
   ],
   "outputs": [],
   "metadata": {}
  },
  {
   "cell_type": "code",
   "execution_count": 2,
   "source": [
    "heart_csv_path = 'C:/Users/Rawan Alamily/Downloads/McSCert Co-op/explainable-ai-heart/predictive-models/personal-indicators-model/data/life-heart.csv'\n",
    "dataframe = pd.read_csv(heart_csv_path)\n",
    "print(dataframe.describe())\n",
    "print(dataframe.shape)\n",
    "dataframe['target'] = np.where(dataframe['heartDisease']=='Yes', 1, 0)\n",
    "dataframe = dataframe.drop(columns=['heartDisease'])\n",
    "RANDOM_SEED = 42\n",
    "np.random.seed(RANDOM_SEED)\n",
    "neg, pos = np.bincount(dataframe['target'])"
   ],
   "outputs": [
    {
     "output_type": "stream",
     "name": "stdout",
     "text": [
      "                 bmi  physicalHealth   mentalHealth     sleepHours\n",
      "count  319795.000000    319795.00000  319795.000000  319795.000000\n",
      "mean       28.325399         3.37171       3.898366       7.097075\n",
      "std         6.356100         7.95085       7.955235       1.436007\n",
      "min        12.020000         0.00000       0.000000       1.000000\n",
      "25%        24.030000         0.00000       0.000000       6.000000\n",
      "50%        27.340000         0.00000       0.000000       7.000000\n",
      "75%        31.420000         2.00000       3.000000       8.000000\n",
      "max        94.850000        30.00000      30.000000      24.000000\n",
      "(319795, 17)\n"
     ]
    }
   ],
   "metadata": {}
  },
  {
   "cell_type": "code",
   "execution_count": 3,
   "source": [
    "train, val, test = np.split(dataframe.sample(frac=1), [int(0.8*len(dataframe)), int(0.9*len(dataframe))])\n",
    "y_train = train.pop('target')\n",
    "X_train = train\n",
    "y_val = val.pop('target')\n",
    "X_val = val\n",
    "y_test = test.pop('target')\n",
    "X_test = test\n",
    "# RESAMPLE VIA UNDERSAMPLING MAJORITY CLASS\n",
    "neg, pos = np.bincount(y_train)"
   ],
   "outputs": [],
   "metadata": {}
  },
  {
   "cell_type": "code",
   "execution_count": 4,
   "source": [
    "# RESAMPLE VIA UNDERSAMPLING MAJORITY CLASS\n",
    "neg, pos = np.bincount(y_train)\n",
    "print(\"No.negative samples before undersampling\",neg)\n",
    "print(\"No.positive samples before undersampling\",pos)"
   ],
   "outputs": [
    {
     "output_type": "stream",
     "name": "stdout",
     "text": [
      "No.negative samples before undersampling 233923\n",
      "No.positive samples before undersampling 21913\n"
     ]
    }
   ],
   "metadata": {}
  },
  {
   "cell_type": "code",
   "execution_count": 5,
   "source": [
    "df = dataframe.copy()\n",
    "y = df.pop('target')\n",
    "X = df"
   ],
   "outputs": [],
   "metadata": {}
  },
  {
   "cell_type": "code",
   "execution_count": 7,
   "source": [
    "rus = RandomUnderSampler(random_state=0)\n",
    "rus.fit(X,y)\n",
    "X_train_resampled, y_train_resampled = rus.fit_resample(X_train,y_train)\n",
    "\n",
    "neg0, pos0 = np.bincount(y_train_resampled)\n",
    "print(\"No.negative samples after undersampling\",neg0)\n",
    "print(\"No.positive samples after undersampling\",pos0)"
   ],
   "outputs": [
    {
     "output_type": "stream",
     "name": "stdout",
     "text": [
      "No.negative samples after undersampling 21913\n",
      "No.positive samples after undersampling 21913\n"
     ]
    }
   ],
   "metadata": {}
  },
  {
   "cell_type": "code",
   "execution_count": 16,
   "source": [
    "def df_to_dataset(features, labels, batch_size=32, resample=False):\n",
    "    tf_dataset = tf.data.Dataset.from_tensor_slices((dict(features), labels)).cache()\n",
    "    shuffled_tf_dataset = tf_dataset.shuffle(buffer_size=len(df)) # shuffling values \n",
    "    return shuffled_tf_dataset.batch(batch_size).prefetch(2)# returning 32 samples per batch"
   ],
   "outputs": [],
   "metadata": {}
  },
  {
   "cell_type": "code",
   "execution_count": 17,
   "source": [
    "def get_normalization_layer(feature_name, dataset, batch_size=32):\n",
    "    # normalize numeric features\n",
    "    normalizer = layers.Normalization(axis=None)\n",
    "    # extract feature from dataset\n",
    "    #feature_data = dataset[feature_name]\n",
    "    feature_data = dataset.map(lambda x, y: x[feature_name])\n",
    "    normalizer.adapt(feature_data, batch_size=batch_size)\n",
    "    return normalizer\n",
    "def get_category_encoding_layer(feature_name, dataset, dtype, max_tokens=None, batch_size=32):\n",
    "    if dtype == 'string':\n",
    "        index = layers.StringLookup(max_tokens=max_tokens)\n",
    "    else:\n",
    "        index = layers.IntegerLookup(max_tokens=max_tokens)\n",
    "    # extract feature from dataset\n",
    "    #feature_ds = dataset[feature_name]\n",
    "    feature_data = dataset.map(lambda x, y: x[feature_name])\n",
    "    # 'learn' all possible feature values, assign each an int index \n",
    "    index.adapt(feature_data, batch_size=batch_size)\n",
    "    # encode integer index\n",
    "    encoder = layers.CategoryEncoding(num_tokens=index.vocabulary_size(), output_mode=\"one_hot\")\n",
    "    # multi-hot encode indeices - lambda function captures layers\n",
    "    return lambda feature: encoder(index(feature))"
   ],
   "outputs": [],
   "metadata": {}
  },
  {
   "cell_type": "code",
   "execution_count": 19,
   "source": [
    "train_resampled_ds= df_to_dataset(X_train_resampled, y_train_resampled)\n",
    "val_ds= df_to_dataset(X_val, y_val)\n",
    "test_ds= df_to_dataset(X_test, y_test)"
   ],
   "outputs": [],
   "metadata": {}
  },
  {
   "cell_type": "code",
   "execution_count": 20,
   "source": [
    "inputs = []\n",
    "encoded_features =[]\n",
    "\n",
    "# numerical\n",
    "for header in [\"bmi\", \"physicalHealth\", \"mentalHealth\", 'sleepHours' ]:\n",
    "    num_col = tf.keras.Input(shape=(1,), name=header)\n",
    "    # keras inputs array\n",
    "    inputs.append(num_col)\n",
    "\n",
    "    norm_layer = get_normalization_layer(feature_name=header, dataset=train_resampled_ds)\n",
    "    encoded_num_col = norm_layer(num_col)\n",
    "    # encoded feature\n",
    "    encoded_features.append(encoded_num_col)\n",
    "\n",
    "# categorical\n",
    "for header in [\"smoking\",\"alcoholDrinking\",\"stroke\",\"diffWalk\",\n",
    "                \"sex\", \"ageGroup\", \"diabetic\", \"physicalActivity\", \n",
    "                \"overallHealth\", \"asthma\", \"kidneyDisease\", \"skinCancer\"]:\n",
    "    \n",
    "    # declare header as a keras Input\n",
    "    cat_col = tf.keras.Input(shape=(1,), name=header, dtype='string')\n",
    "    # keras inputs array\n",
    "    inputs.append(cat_col)\n",
    "\n",
    "    # get preprocessing layer \n",
    "    cat_layer = get_category_encoding_layer(feature_name=header,\n",
    "                                            dataset=train_resampled_ds, \n",
    "                                            dtype='string', \n",
    "                                            max_tokens=None)\n",
    "    encoded_cat_col = cat_layer(cat_col)\n",
    "    # encoded feature\n",
    "    encoded_features.append(encoded_cat_col)"
   ],
   "outputs": [],
   "metadata": {}
  },
  {
   "cell_type": "code",
   "execution_count": 21,
   "source": [
    "# KERAS FUNCTIONAL API - MODEL BUILD   \n",
    "# merge list feature inputs into one vector\n",
    "features = tf.keras.layers.concatenate(encoded_features)\n",
    "x = tf.keras.layers.Dense(units=128, activation=\"relu\")(features)\n",
    "x = tf.keras.layers.Dropout(rate=0.2)(x)\n",
    "x = tf.keras.layers.Dense(units=128, activation='relu')(x)\n",
    "output = tf.keras.layers.Dense(units=1, activation='sigmoid')(x)\n",
    "model = tf.keras.Model(inputs, output)"
   ],
   "outputs": [],
   "metadata": {}
  },
  {
   "cell_type": "code",
   "execution_count": 23,
   "source": [
    "model.compile(optimizer='adam', \n",
    "              loss='binary_crossentropy', \n",
    "              metrics = ['accuracy'])\n",
    "\n",
    "result = model.fit(train_resampled_ds,\n",
    "                    validation_data=val_ds, \n",
    "                    epochs=50,\n",
    "                    verbose=1)"
   ],
   "outputs": [
    {
     "output_type": "stream",
     "name": "stdout",
     "text": [
      "Epoch 1/50\n",
      "1370/1370 [==============================] - 10s 7ms/step - loss: 0.4889 - accuracy: 0.7682 - val_loss: 0.5489 - val_accuracy: 0.7078\n",
      "Epoch 2/50\n",
      "1370/1370 [==============================] - 9s 6ms/step - loss: 0.4877 - accuracy: 0.7666 - val_loss: 0.4675 - val_accuracy: 0.7446\n",
      "Epoch 3/50\n",
      "1370/1370 [==============================] - 9s 6ms/step - loss: 0.4865 - accuracy: 0.7695 - val_loss: 0.5364 - val_accuracy: 0.7144\n",
      "Epoch 4/50\n",
      "1370/1370 [==============================] - 8s 6ms/step - loss: 0.4855 - accuracy: 0.7694 - val_loss: 0.4661 - val_accuracy: 0.7458\n",
      "Epoch 5/50\n",
      "1370/1370 [==============================] - 7s 5ms/step - loss: 0.4837 - accuracy: 0.7693 - val_loss: 0.5190 - val_accuracy: 0.7118\n",
      "Epoch 6/50\n",
      "1370/1370 [==============================] - 8s 6ms/step - loss: 0.4823 - accuracy: 0.7705 - val_loss: 0.4877 - val_accuracy: 0.7283\n",
      "Epoch 7/50\n",
      "1370/1370 [==============================] - 8s 6ms/step - loss: 0.4815 - accuracy: 0.7719 - val_loss: 0.5205 - val_accuracy: 0.7232\n",
      "Epoch 8/50\n",
      "1370/1370 [==============================] - 9s 6ms/step - loss: 0.4805 - accuracy: 0.7728 - val_loss: 0.5034 - val_accuracy: 0.7319\n",
      "Epoch 9/50\n",
      "1370/1370 [==============================] - 8s 6ms/step - loss: 0.4787 - accuracy: 0.7726 - val_loss: 0.5213 - val_accuracy: 0.7257\n",
      "Epoch 10/50\n",
      "1370/1370 [==============================] - 6s 4ms/step - loss: 0.4784 - accuracy: 0.7737 - val_loss: 0.4817 - val_accuracy: 0.7407\n",
      "Epoch 11/50\n",
      "1370/1370 [==============================] - 9s 6ms/step - loss: 0.4758 - accuracy: 0.7729 - val_loss: 0.4904 - val_accuracy: 0.7431\n",
      "Epoch 12/50\n",
      "1370/1370 [==============================] - 6s 4ms/step - loss: 0.4756 - accuracy: 0.7735 - val_loss: 0.5200 - val_accuracy: 0.7196\n",
      "Epoch 13/50\n",
      "1370/1370 [==============================] - 6s 4ms/step - loss: 0.4742 - accuracy: 0.7761 - val_loss: 0.5382 - val_accuracy: 0.7159\n",
      "Epoch 14/50\n",
      "1370/1370 [==============================] - 6s 4ms/step - loss: 0.4718 - accuracy: 0.7766 - val_loss: 0.4998 - val_accuracy: 0.7367\n",
      "Epoch 15/50\n",
      "1370/1370 [==============================] - 6s 4ms/step - loss: 0.4712 - accuracy: 0.7760 - val_loss: 0.5354 - val_accuracy: 0.7289\n",
      "Epoch 16/50\n",
      "1370/1370 [==============================] - 6s 4ms/step - loss: 0.4703 - accuracy: 0.7771 - val_loss: 0.5476 - val_accuracy: 0.7010\n",
      "Epoch 17/50\n",
      "1370/1370 [==============================] - 5s 4ms/step - loss: 0.4691 - accuracy: 0.7786 - val_loss: 0.5297 - val_accuracy: 0.7148\n",
      "Epoch 18/50\n",
      "1370/1370 [==============================] - 5s 4ms/step - loss: 0.4680 - accuracy: 0.7778 - val_loss: 0.5006 - val_accuracy: 0.7311\n",
      "Epoch 19/50\n",
      "1370/1370 [==============================] - 5s 4ms/step - loss: 0.4670 - accuracy: 0.7804 - val_loss: 0.4971 - val_accuracy: 0.7442\n",
      "Epoch 20/50\n",
      "1370/1370 [==============================] - 7s 5ms/step - loss: 0.4646 - accuracy: 0.7810 - val_loss: 0.5067 - val_accuracy: 0.7291\n",
      "Epoch 21/50\n",
      "1370/1370 [==============================] - 5s 4ms/step - loss: 0.4632 - accuracy: 0.7801 - val_loss: 0.5711 - val_accuracy: 0.7052\n",
      "Epoch 22/50\n",
      "1370/1370 [==============================] - 5s 3ms/step - loss: 0.4630 - accuracy: 0.7805 - val_loss: 0.5115 - val_accuracy: 0.7148\n",
      "Epoch 23/50\n",
      "1370/1370 [==============================] - 7s 5ms/step - loss: 0.4626 - accuracy: 0.7813 - val_loss: 0.5614 - val_accuracy: 0.7090\n",
      "Epoch 24/50\n",
      "1370/1370 [==============================] - 8s 5ms/step - loss: 0.4608 - accuracy: 0.7829 - val_loss: 0.5386 - val_accuracy: 0.7193\n",
      "Epoch 25/50\n",
      "1370/1370 [==============================] - 5s 4ms/step - loss: 0.4587 - accuracy: 0.7843 - val_loss: 0.5150 - val_accuracy: 0.7367\n",
      "Epoch 26/50\n",
      "1370/1370 [==============================] - 6s 4ms/step - loss: 0.4583 - accuracy: 0.7828 - val_loss: 0.5145 - val_accuracy: 0.7310\n",
      "Epoch 27/50\n",
      "1370/1370 [==============================] - 7s 5ms/step - loss: 0.4573 - accuracy: 0.7839 - val_loss: 0.5506 - val_accuracy: 0.7174\n",
      "Epoch 28/50\n",
      "1370/1370 [==============================] - 6s 4ms/step - loss: 0.4552 - accuracy: 0.7859 - val_loss: 0.5352 - val_accuracy: 0.7265\n",
      "Epoch 29/50\n",
      "1370/1370 [==============================] - 6s 4ms/step - loss: 0.4539 - accuracy: 0.7862 - val_loss: 0.5522 - val_accuracy: 0.7124\n",
      "Epoch 30/50\n",
      "1370/1370 [==============================] - 6s 4ms/step - loss: 0.4520 - accuracy: 0.7877 - val_loss: 0.5298 - val_accuracy: 0.7183\n",
      "Epoch 31/50\n",
      "1370/1370 [==============================] - 8s 6ms/step - loss: 0.4530 - accuracy: 0.7866 - val_loss: 0.5396 - val_accuracy: 0.7241\n",
      "Epoch 32/50\n",
      "1370/1370 [==============================] - 8s 6ms/step - loss: 0.4518 - accuracy: 0.7868 - val_loss: 0.5411 - val_accuracy: 0.7210\n",
      "Epoch 33/50\n",
      "1370/1370 [==============================] - 7s 5ms/step - loss: 0.4497 - accuracy: 0.7885 - val_loss: 0.5222 - val_accuracy: 0.7303\n",
      "Epoch 34/50\n",
      "1370/1370 [==============================] - 9s 6ms/step - loss: 0.4482 - accuracy: 0.7885 - val_loss: 0.5681 - val_accuracy: 0.7070\n",
      "Epoch 35/50\n",
      "1370/1370 [==============================] - 8s 5ms/step - loss: 0.4468 - accuracy: 0.7898 - val_loss: 0.5276 - val_accuracy: 0.7273\n",
      "Epoch 36/50\n",
      "1370/1370 [==============================] - 9s 6ms/step - loss: 0.4451 - accuracy: 0.7904 - val_loss: 0.5406 - val_accuracy: 0.7239\n",
      "Epoch 37/50\n",
      "1370/1370 [==============================] - 6s 4ms/step - loss: 0.4448 - accuracy: 0.7923 - val_loss: 0.5979 - val_accuracy: 0.6941\n",
      "Epoch 38/50\n",
      "1370/1370 [==============================] - 8s 6ms/step - loss: 0.4442 - accuracy: 0.7908 - val_loss: 0.5715 - val_accuracy: 0.7120\n",
      "Epoch 39/50\n",
      "1370/1370 [==============================] - 9s 6ms/step - loss: 0.4436 - accuracy: 0.7907 - val_loss: 0.5208 - val_accuracy: 0.7387\n",
      "Epoch 40/50\n",
      "1370/1370 [==============================] - 9s 6ms/step - loss: 0.4427 - accuracy: 0.7904 - val_loss: 0.5647 - val_accuracy: 0.7069\n",
      "Epoch 41/50\n",
      "1370/1370 [==============================] - 9s 6ms/step - loss: 0.4405 - accuracy: 0.7930 - val_loss: 0.5342 - val_accuracy: 0.7195\n",
      "Epoch 42/50\n",
      "1370/1370 [==============================] - 7s 5ms/step - loss: 0.4425 - accuracy: 0.7925 - val_loss: 0.5444 - val_accuracy: 0.7197\n",
      "Epoch 43/50\n",
      "1370/1370 [==============================] - 8s 6ms/step - loss: 0.4386 - accuracy: 0.7956 - val_loss: 0.5393 - val_accuracy: 0.7219\n",
      "Epoch 44/50\n",
      "1370/1370 [==============================] - 8s 6ms/step - loss: 0.4385 - accuracy: 0.7931 - val_loss: 0.5719 - val_accuracy: 0.7136\n",
      "Epoch 45/50\n",
      "1370/1370 [==============================] - 9s 6ms/step - loss: 0.4372 - accuracy: 0.7946 - val_loss: 0.5418 - val_accuracy: 0.7265\n",
      "Epoch 46/50\n",
      "1370/1370 [==============================] - 7s 5ms/step - loss: 0.4378 - accuracy: 0.7944 - val_loss: 0.5891 - val_accuracy: 0.7095\n",
      "Epoch 47/50\n",
      "1370/1370 [==============================] - 8s 6ms/step - loss: 0.4350 - accuracy: 0.7964 - val_loss: 0.5797 - val_accuracy: 0.7146\n",
      "Epoch 48/50\n",
      "1370/1370 [==============================] - 5s 4ms/step - loss: 0.4352 - accuracy: 0.7953 - val_loss: 0.5525 - val_accuracy: 0.7142\n",
      "Epoch 49/50\n",
      "1370/1370 [==============================] - 8s 6ms/step - loss: 0.4326 - accuracy: 0.7962 - val_loss: 0.5671 - val_accuracy: 0.7193\n",
      "Epoch 50/50\n",
      "1370/1370 [==============================] - 5s 4ms/step - loss: 0.4339 - accuracy: 0.7970 - val_loss: 0.5705 - val_accuracy: 0.7095\n"
     ]
    }
   ],
   "metadata": {}
  },
  {
   "cell_type": "code",
   "execution_count": 24,
   "source": [
    "plt.plot(result.history['loss'], label='loss')\n",
    "plt.plot(result.history['val_loss'], label='val_loss')\n",
    "plt.legend()"
   ],
   "outputs": [
    {
     "output_type": "execute_result",
     "data": {
      "text/plain": [
       "<matplotlib.legend.Legend at 0x138a13f7400>"
      ]
     },
     "metadata": {},
     "execution_count": 24
    },
    {
     "output_type": "display_data",
     "data": {
      "image/png": "[encoded data removed]",
      "text/plain": [
       "<Figure size 640x480 with 1 Axes>"
      ]
     },
     "metadata": {}
    }
   ],
   "metadata": {}
  },
  {
   "cell_type": "code",
   "execution_count": 27,
   "source": [
    "predictions = model.predict(test_ds)\n",
    "binary_predictions = tf.round(predictions).numpy().flatten()\n",
    "print(classification_report(y_test, binary_predictions))"
   ],
   "outputs": [
    {
     "output_type": "stream",
     "name": "stdout",
     "text": [
      "1000/1000 [==============================] - 2s 2ms/step\n",
      "              precision    recall  f1-score   support\n",
      "\n",
      "           0       0.91      0.66      0.77     29200\n",
      "           1       0.09      0.33      0.14      2780\n",
      "\n",
      "    accuracy                           0.63     31980\n",
      "   macro avg       0.50      0.50      0.45     31980\n",
      "weighted avg       0.84      0.63      0.71     31980\n",
      "\n"
     ]
    }
   ],
   "metadata": {}
  },
  {
   "cell_type": "code",
   "execution_count": 28,
   "source": [
    "# observe class imbalance\n",
    "neg, pos = np.bincount(y_train)\n",
    "print(\"No.negative samples before undersampling\",neg)\n",
    "print(\"No.positive samples before undersampling\",pos)"
   ],
   "outputs": [
    {
     "output_type": "stream",
     "name": "stdout",
     "text": [
      "No.negative samples before undersampling 233923\n",
      "No.positive samples before undersampling 21913\n"
     ]
    }
   ],
   "metadata": {}
  },
  {
   "cell_type": "code",
   "execution_count": 30,
   "source": [
    "train, val, test = np.split(dataframe.sample(frac=1), [int(0.8*len(dataframe)), int(0.9*len(dataframe))])\n",
    "y_train = train.pop('target')\n",
    "X_train = train\n",
    "y_val = val.pop('target')\n",
    "X_val = val\n",
    "y_test = test.pop('target')\n",
    "X_test = test\n",
    "print(\"Training sample:\",len(y_train))\n",
    "print(\"Testing sample:\", len(y_test))\n",
    "print(\"Validation sample:\",len(y_val))"
   ],
   "outputs": [
    {
     "output_type": "stream",
     "name": "stdout",
     "text": [
      "Training sample: 255836\n",
      "Testing sample: 31980\n",
      "Validation sample: 31979\n"
     ]
    }
   ],
   "metadata": {}
  },
  {
   "cell_type": "code",
   "execution_count": 31,
   "source": [
    "# observe class imbalance\n",
    "neg, pos = np.bincount(y_train)\n",
    "print(\"No.negative samples before undersampling\",neg)\n",
    "print(\"No.positive samples before undersampling\",pos)"
   ],
   "outputs": [
    {
     "output_type": "stream",
     "name": "stdout",
     "text": [
      "No.negative samples before undersampling 233933\n",
      "No.positive samples before undersampling 21903\n"
     ]
    }
   ],
   "metadata": {}
  },
  {
   "cell_type": "code",
   "execution_count": 32,
   "source": [
    "# resample via undersampling majority class - this is favoured over oversampling as the dataset is very large\n",
    "rus = RandomUnderSampler(random_state=0)\n",
    "rus.fit(X,y)\n",
    "# only resample training dataset\n",
    "X_train_resampled, y_train_resampled = rus.fit_resample(X_train,y_train)\n",
    "\n",
    "neg0, pos0 = np.bincount(y_train_resampled)\n",
    "print(\"No.negative samples after undersampling\",neg0)\n",
    "print(\"No.positive samples after undersampling\",pos0)"
   ],
   "outputs": [
    {
     "output_type": "stream",
     "name": "stdout",
     "text": [
      "No.negative samples after undersampling 21903\n",
      "No.positive samples after undersampling 21903\n"
     ]
    }
   ],
   "metadata": {}
  },
  {
   "cell_type": "code",
   "execution_count": 35,
   "source": [
    "train, val, test = np.split(dataframe.sample(frac=1), [int(0.6*len(dataframe)), int(0.9*len(dataframe))])\n",
    "y_train = train.pop('target')\n",
    "X_train = train\n",
    "y_val = val.pop('target')\n",
    "X_val = val\n",
    "y_test = test.pop('target')\n",
    "X_test = test\n",
    "print(\"Training sample:\",len(y_train))\n",
    "print(\"Testing sample:\", len(y_test))\n",
    "print(\"Validation sample:\",len(y_val))"
   ],
   "outputs": [
    {
     "output_type": "stream",
     "name": "stdout",
     "text": [
      "Training sample: 191877\n",
      "Testing sample: 31980\n",
      "Validation sample: 95938\n"
     ]
    }
   ],
   "metadata": {}
  },
  {
   "cell_type": "code",
   "execution_count": 36,
   "source": [
    "# resample via undersampling majority class - this is favoured over oversampling as the dataset is very large\n",
    "rus = RandomUnderSampler(random_state=0)\n",
    "rus.fit(X,y)\n",
    "# only resample training dataset\n",
    "X_train_resampled, y_train_resampled = rus.fit_resample(X_train,y_train)\n",
    "X_val_resampled, y_val_resampled = rus.fit_resample(X_val, y_val)\n",
    "neg0, pos0 = np.bincount(y_train_resampled)\n",
    "print(\"No.negative samples after undersampling\",neg0)\n",
    "print(\"No.positive samples after undersampling\",pos0)\n",
    "\n",
    "print(len(y_val_resampled))"
   ],
   "outputs": [
    {
     "output_type": "stream",
     "name": "stdout",
     "text": [
      "No.negative samples after undersampling 16438\n",
      "No.positive samples after undersampling 16438\n",
      "16438\n"
     ]
    }
   ],
   "metadata": {}
  },
  {
   "cell_type": "code",
   "execution_count": 37,
   "source": [
    "train, val, test = np.split(dataframe.sample(frac=1), [int(0.6*len(dataframe)), int(0.9*len(dataframe))])\n",
    "y_train = train.pop('target')\n",
    "X_train = train\n",
    "y_val = val.pop('target')\n",
    "X_val = val\n",
    "y_test = test.pop('target')\n",
    "X_test = test\n",
    "print(\"Training sample:\",len(y_train))\n",
    "print(\"Testing sample:\", len(y_test))\n",
    "print(\"Validation sample:\",len(y_val))"
   ],
   "outputs": [
    {
     "output_type": "stream",
     "name": "stdout",
     "text": [
      "Training sample: 191877\n",
      "Testing sample: 31980\n",
      "Validation sample: 95938\n"
     ]
    }
   ],
   "metadata": {}
  },
  {
   "cell_type": "code",
   "execution_count": 38,
   "source": [
    "# resample via undersampling majority class - this is favoured over oversampling as the dataset is very large\n",
    "rus = RandomUnderSampler(random_state=0)\n",
    "rus.fit(X,y)\n",
    "# only resample training dataset\n",
    "X_train_resampled, y_train_resampled = rus.fit_resample(X_train,y_train)\n",
    "X_val_resampled, y_val_resampled = rus.fit_resample(X_val, y_val)\n",
    "neg0, pos0 = np.bincount(y_train_resampled)\n",
    "print(\"No.negative samples after undersampling\",neg0)\n",
    "print(\"No.positive samples after undersampling\",pos0)\n",
    "print(len(y_train_resampled))\n",
    "print(len(y_val_resampled))"
   ],
   "outputs": [
    {
     "output_type": "stream",
     "name": "stdout",
     "text": [
      "No.negative samples after undersampling 16448\n",
      "No.positive samples after undersampling 16448\n",
      "32896\n",
      "16404\n"
     ]
    }
   ],
   "metadata": {}
  },
  {
   "cell_type": "code",
   "execution_count": 39,
   "source": [
    "def df_to_dataset(features, labels, batch_size=32, resample=False):\n",
    "    tf_dataset = tf.data.Dataset.from_tensor_slices((dict(features), labels)).cache()\n",
    "    shuffled_tf_dataset = tf_dataset.shuffle(buffer_size=len(df)) # shuffling values \n",
    "    return shuffled_tf_dataset.batch(batch_size).prefetch(2)# returning 32 samples per batch"
   ],
   "outputs": [],
   "metadata": {}
  },
  {
   "cell_type": "code",
   "execution_count": 40,
   "source": [
    "def get_normalization_layer(feature_name, dataset, batch_size=32):\n",
    "    # normalize numeric features\n",
    "    normalizer = layers.Normalization(axis=None)\n",
    "    # extract feature from dataset\n",
    "    #feature_data = dataset[feature_name]\n",
    "    feature_data = dataset.map(lambda x, y: x[feature_name])\n",
    "    normalizer.adapt(feature_data, batch_size=batch_size)\n",
    "    return normalizer\n",
    "def get_category_encoding_layer(feature_name, dataset, dtype, max_tokens=None, batch_size=32):\n",
    "    if dtype == 'string':\n",
    "        index = layers.StringLookup(max_tokens=max_tokens)\n",
    "    else:\n",
    "        index = layers.IntegerLookup(max_tokens=max_tokens)\n",
    "    # extract feature from dataset\n",
    "    #feature_ds = dataset[feature_name]\n",
    "    feature_data = dataset.map(lambda x, y: x[feature_name])\n",
    "    # 'learn' all possible feature values, assign each an int index \n",
    "    index.adapt(feature_data, batch_size=batch_size)\n",
    "    # encode integer index\n",
    "    encoder = layers.CategoryEncoding(num_tokens=index.vocabulary_size(), output_mode=\"one_hot\")\n",
    "    # multi-hot encode indeices - lambda function captures layers\n",
    "    return lambda feature: encoder(index(feature))"
   ],
   "outputs": [],
   "metadata": {}
  },
  {
   "cell_type": "code",
   "execution_count": 41,
   "source": [
    "train_resampled_ds= df_to_dataset(X_train_resampled, y_train_resampled)\n",
    "val_ds= df_to_dataset(X_val_resampled, y_val_resampled)\n",
    "test_ds= df_to_dataset(X_test, y_test)"
   ],
   "outputs": [],
   "metadata": {}
  },
  {
   "cell_type": "code",
   "execution_count": 42,
   "source": [
    "inputs = []\n",
    "encoded_features =[]\n",
    "\n",
    "# numerical\n",
    "for header in [\"bmi\", \"physicalHealth\", \"mentalHealth\", 'sleepHours' ]:\n",
    "    num_col = tf.keras.Input(shape=(1,), name=header)\n",
    "    # keras inputs array\n",
    "    inputs.append(num_col)\n",
    "\n",
    "    norm_layer = get_normalization_layer(feature_name=header, dataset=train_resampled_ds)\n",
    "    encoded_num_col = norm_layer(num_col)\n",
    "    # encoded feature\n",
    "    encoded_features.append(encoded_num_col)\n",
    "\n",
    "# categorical\n",
    "for header in [\"smoking\",\"alcoholDrinking\",\"stroke\",\"diffWalk\",\n",
    "                \"sex\", \"ageGroup\", \"diabetic\", \"physicalActivity\", \n",
    "                \"overallHealth\", \"asthma\", \"kidneyDisease\", \"skinCancer\"]:\n",
    "    \n",
    "    # declare header as a keras Input\n",
    "    cat_col = tf.keras.Input(shape=(1,), name=header, dtype='string')\n",
    "    # keras inputs array\n",
    "    inputs.append(cat_col)\n",
    "\n",
    "    # get preprocessing layer \n",
    "    cat_layer = get_category_encoding_layer(feature_name=header,\n",
    "                                            dataset=train_resampled_ds, \n",
    "                                            dtype='string', \n",
    "                                            max_tokens=None)\n",
    "    encoded_cat_col = cat_layer(cat_col)\n",
    "    # encoded feature\n",
    "    encoded_features.append(encoded_cat_col)"
   ],
   "outputs": [],
   "metadata": {}
  },
  {
   "cell_type": "code",
   "execution_count": 43,
   "source": [
    "# KERAS FUNCTIONAL API - MODEL BUILD   \n",
    "# merge list feature inputs into one vector\n",
    "features = tf.keras.layers.concatenate(encoded_features)\n",
    "x = tf.keras.layers.Dense(units=128, activation=\"relu\")(features)\n",
    "x = tf.keras.layers.Dropout(rate=0.2)(x)\n",
    "x = tf.keras.layers.Dense(units=128, activation='relu')(x)\n",
    "output = tf.keras.layers.Dense(units=1, activation='sigmoid')(x)\n",
    "model = tf.keras.Model(inputs, output)"
   ],
   "outputs": [],
   "metadata": {}
  },
  {
   "cell_type": "code",
   "execution_count": 46,
   "source": [
    "model.compile(optimizer='adam', \n",
    "              loss='binary_crossentropy', \n",
    "              metrics = ['accuracy'])\n",
    "\n",
    "result = model.fit(train_resampled_ds,\n",
    "                    validation_data=val_ds, \n",
    "                    epochs=20,\n",
    "                    verbose=1)"
   ],
   "outputs": [
    {
     "output_type": "stream",
     "name": "stdout",
     "text": [
      "Epoch 1/20\n",
      "1028/1028 [==============================] - 5s 4ms/step - loss: 0.4641 - accuracy: 0.7787 - val_loss: 0.5021 - val_accuracy: 0.7569\n",
      "Epoch 2/20\n",
      "1028/1028 [==============================] - 4s 3ms/step - loss: 0.4614 - accuracy: 0.7809 - val_loss: 0.5048 - val_accuracy: 0.7588\n",
      "Epoch 3/20\n",
      "1028/1028 [==============================] - 6s 6ms/step - loss: 0.4590 - accuracy: 0.7816 - val_loss: 0.5048 - val_accuracy: 0.7580\n",
      "Epoch 4/20\n",
      "1028/1028 [==============================] - 5s 5ms/step - loss: 0.4580 - accuracy: 0.7824 - val_loss: 0.5074 - val_accuracy: 0.7575\n",
      "Epoch 5/20\n",
      "1028/1028 [==============================] - 4s 3ms/step - loss: 0.4571 - accuracy: 0.7830 - val_loss: 0.5111 - val_accuracy: 0.7555\n",
      "Epoch 6/20\n",
      "1028/1028 [==============================] - 5s 5ms/step - loss: 0.4545 - accuracy: 0.7835 - val_loss: 0.5105 - val_accuracy: 0.7559\n",
      "Epoch 7/20\n",
      "1028/1028 [==============================] - 5s 5ms/step - loss: 0.4531 - accuracy: 0.7835 - val_loss: 0.5111 - val_accuracy: 0.7561\n",
      "Epoch 8/20\n",
      "1028/1028 [==============================] - 6s 6ms/step - loss: 0.4520 - accuracy: 0.7859 - val_loss: 0.5119 - val_accuracy: 0.7560\n",
      "Epoch 9/20\n",
      "1028/1028 [==============================] - 5s 5ms/step - loss: 0.4483 - accuracy: 0.7879 - val_loss: 0.5108 - val_accuracy: 0.7549\n",
      "Epoch 10/20\n",
      "1028/1028 [==============================] - 6s 5ms/step - loss: 0.4487 - accuracy: 0.7868 - val_loss: 0.5130 - val_accuracy: 0.7563\n",
      "Epoch 11/20\n",
      "1028/1028 [==============================] - 5s 5ms/step - loss: 0.4470 - accuracy: 0.7864 - val_loss: 0.5143 - val_accuracy: 0.7532\n",
      "Epoch 12/20\n",
      "1028/1028 [==============================] - 5s 5ms/step - loss: 0.4442 - accuracy: 0.7903 - val_loss: 0.5138 - val_accuracy: 0.7521\n",
      "Epoch 13/20\n",
      "1028/1028 [==============================] - 5s 5ms/step - loss: 0.4447 - accuracy: 0.7883 - val_loss: 0.5167 - val_accuracy: 0.7541\n",
      "Epoch 14/20\n",
      "1028/1028 [==============================] - 5s 5ms/step - loss: 0.4421 - accuracy: 0.7915 - val_loss: 0.5174 - val_accuracy: 0.7538\n",
      "Epoch 15/20\n",
      "1028/1028 [==============================] - 5s 5ms/step - loss: 0.4401 - accuracy: 0.7925 - val_loss: 0.5205 - val_accuracy: 0.7491\n",
      "Epoch 16/20\n",
      "1028/1028 [==============================] - 5s 5ms/step - loss: 0.4390 - accuracy: 0.7938 - val_loss: 0.5207 - val_accuracy: 0.7483\n",
      "Epoch 17/20\n",
      "1028/1028 [==============================] - 5s 4ms/step - loss: 0.4376 - accuracy: 0.7915 - val_loss: 0.5238 - val_accuracy: 0.7485\n",
      "Epoch 18/20\n",
      "1028/1028 [==============================] - 5s 4ms/step - loss: 0.4368 - accuracy: 0.7935 - val_loss: 0.5251 - val_accuracy: 0.7486\n",
      "Epoch 19/20\n",
      "1028/1028 [==============================] - 6s 5ms/step - loss: 0.4341 - accuracy: 0.7948 - val_loss: 0.5290 - val_accuracy: 0.7493\n",
      "Epoch 20/20\n",
      "1028/1028 [==============================] - 6s 5ms/step - loss: 0.4328 - accuracy: 0.7959 - val_loss: 0.5290 - val_accuracy: 0.7467\n"
     ]
    }
   ],
   "metadata": {}
  },
  {
   "cell_type": "code",
   "execution_count": 47,
   "source": [
    "plt.plot(result.history['loss'], label='loss')\n",
    "plt.plot(result.history['val_loss'], label='val_loss')\n",
    "plt.legend()"
   ],
   "outputs": [
    {
     "output_type": "execute_result",
     "data": {
      "text/plain": [
       "<matplotlib.legend.Legend at 0x1388f036b90>"
      ]
     },
     "metadata": {},
     "execution_count": 47
    },
    {
     "output_type": "display_data",
     "data": {
      "image/png": "[encoded data removed]",
      "text/plain": [
       "<Figure size 640x480 with 1 Axes>"
      ]
     },
     "metadata": {}
    }
   ],
   "metadata": {}
  },
  {
   "cell_type": "code",
   "execution_count": 48,
   "source": [
    "predictions = model.predict(test_ds)\n",
    "binary_predictions = tf.round(predictions).numpy().flatten()\n",
    "print(classification_report(y_test, binary_predictions))"
   ],
   "outputs": [
    {
     "output_type": "stream",
     "name": "stdout",
     "text": [
      "1000/1000 [==============================] - 3s 2ms/step\n",
      "              precision    recall  f1-score   support\n",
      "\n",
      "           0       0.91      0.68      0.78     29257\n",
      "           1       0.08      0.30      0.13      2723\n",
      "\n",
      "    accuracy                           0.65     31980\n",
      "   macro avg       0.50      0.49      0.45     31980\n",
      "weighted avg       0.84      0.65      0.73     31980\n",
      "\n"
     ]
    }
   ],
   "metadata": {}
  },
  {
   "cell_type": "code",
   "execution_count": 49,
   "source": [
    "# KERAS FUNCTIONAL API - MODEL BUILD   \n",
    "# merge list feature inputs into one vector\n",
    "features = tf.keras.layers.concatenate(encoded_features)\n",
    "x = tf.keras.layers.Dense(units=128, activation=\"relu\")(features)\n",
    "x = tf.keras.layers.Dropout(rate=0.2)(x)\n",
    "x = tf.keras.layers.Dense(units=214, activation='relu')(x)\n",
    "x = tf.keras.layers.Dropout(rate=0.2)(x)\n",
    "x = tf.keras.layers.Dense(units=214, activation=\"relu\")(x)\n",
    "x = tf.keras.layers.Dropout(rate=0.2)(x)\n",
    "x = tf.keras.layers.Dense(units=128, activation='relu')(x)\n",
    "output = tf.keras.layers.Dense(units=1, activation='sigmoid')(x)\n",
    "model = tf.keras.Model(inputs, output)"
   ],
   "outputs": [],
   "metadata": {}
  },
  {
   "cell_type": "code",
   "execution_count": 50,
   "source": [
    "model.compile(optimizer='adam', \n",
    "              loss='binary_crossentropy', \n",
    "              metrics = ['accuracy'])\n",
    "\n",
    "result = model.fit(train_resampled_ds,\n",
    "                    validation_data=val_ds, \n",
    "                    epochs=10,\n",
    "                    verbose=1)"
   ],
   "outputs": [
    {
     "output_type": "stream",
     "name": "stdout",
     "text": [
      "Epoch 1/10\n",
      "1028/1028 [==============================] - 12s 8ms/step - loss: 0.5141 - accuracy: 0.7507 - val_loss: 0.5022 - val_accuracy: 0.7605\n",
      "Epoch 2/10\n",
      "1028/1028 [==============================] - 5s 5ms/step - loss: 0.4963 - accuracy: 0.7629 - val_loss: 0.5033 - val_accuracy: 0.7592\n",
      "Epoch 3/10\n",
      "1028/1028 [==============================] - 7s 7ms/step - loss: 0.4915 - accuracy: 0.7678 - val_loss: 0.4971 - val_accuracy: 0.7616\n",
      "Epoch 4/10\n",
      "1028/1028 [==============================] - 8s 7ms/step - loss: 0.4894 - accuracy: 0.7672 - val_loss: 0.4954 - val_accuracy: 0.7606\n",
      "Epoch 5/10\n",
      "1028/1028 [==============================] - 8s 7ms/step - loss: 0.4874 - accuracy: 0.7690 - val_loss: 0.4985 - val_accuracy: 0.7599\n",
      "Epoch 6/10\n",
      "1028/1028 [==============================] - 8s 7ms/step - loss: 0.4877 - accuracy: 0.7682 - val_loss: 0.4974 - val_accuracy: 0.7598\n",
      "Epoch 7/10\n",
      "1028/1028 [==============================] - 7s 6ms/step - loss: 0.4860 - accuracy: 0.7694 - val_loss: 0.4957 - val_accuracy: 0.7615\n",
      "Epoch 8/10\n",
      "1028/1028 [==============================] - 8s 8ms/step - loss: 0.4840 - accuracy: 0.7705 - val_loss: 0.4985 - val_accuracy: 0.7598\n",
      "Epoch 9/10\n",
      "1028/1028 [==============================] - 8s 8ms/step - loss: 0.4829 - accuracy: 0.7709 - val_loss: 0.4982 - val_accuracy: 0.7584\n",
      "Epoch 10/10\n",
      "1028/1028 [==============================] - 8s 7ms/step - loss: 0.4811 - accuracy: 0.7729 - val_loss: 0.5064 - val_accuracy: 0.7587\n"
     ]
    }
   ],
   "metadata": {}
  },
  {
   "cell_type": "code",
   "execution_count": 51,
   "source": [
    "plt.plot(result.history['loss'], label='loss')\n",
    "plt.plot(result.history['val_loss'], label='val_loss')\n",
    "plt.legend()"
   ],
   "outputs": [
    {
     "output_type": "execute_result",
     "data": {
      "text/plain": [
       "<matplotlib.legend.Legend at 0x1388f3b3310>"
      ]
     },
     "metadata": {},
     "execution_count": 51
    },
    {
     "output_type": "display_data",
     "data": {
      "image/png": "[encoded data removed]",
      "text/plain": [
       "<Figure size 640x480 with 1 Axes>"
      ]
     },
     "metadata": {}
    }
   ],
   "metadata": {}
  },
  {
   "cell_type": "code",
   "execution_count": 52,
   "source": [
    "# KERAS FUNCTIONAL API - MODEL BUILD   \n",
    "# merge list feature inputs into one vector\n",
    "features = tf.keras.layers.concatenate(encoded_features)\n",
    "x = tf.keras.layers.Dense(units=128, activation=\"relu\")(features)\n",
    "# x = tf.keras.layers.Dropout(rate=0.2)(x)\n",
    "x = tf.keras.layers.Dense(units=214, activation='relu')(x)\n",
    "x = tf.keras.layers.Dropout(rate=0.05)(x)\n",
    "x = tf.keras.layers.Dense(units=214, activation=\"relu\")(x)\n",
    "# x = tf.keras.layers.Dropout(rate=0.2)(x)\n",
    "x = tf.keras.layers.Dense(units=128, activation='relu')(x)\n",
    "output = tf.keras.layers.Dense(units=1, activation='sigmoid')(x)\n",
    "model = tf.keras.Model(inputs, output)"
   ],
   "outputs": [],
   "metadata": {}
  },
  {
   "cell_type": "code",
   "execution_count": 53,
   "source": [
    "model.compile(optimizer='adam', \n",
    "              loss='binary_crossentropy', \n",
    "              metrics = ['accuracy'])\n",
    "\n",
    "result = model.fit(train_resampled_ds,\n",
    "                    validation_data=val_ds, \n",
    "                    epochs=10,\n",
    "                    verbose=1)"
   ],
   "outputs": [
    {
     "output_type": "stream",
     "name": "stdout",
     "text": [
      "Epoch 1/10\n",
      "1028/1028 [==============================] - 12s 8ms/step - loss: 0.5045 - accuracy: 0.7574 - val_loss: 0.4990 - val_accuracy: 0.7591\n",
      "Epoch 2/10\n",
      "1028/1028 [==============================] - 12s 12ms/step - loss: 0.4909 - accuracy: 0.7653 - val_loss: 0.5016 - val_accuracy: 0.7594\n",
      "Epoch 3/10\n",
      "1028/1028 [==============================] - 13s 12ms/step - loss: 0.4858 - accuracy: 0.7676 - val_loss: 0.5038 - val_accuracy: 0.7562\n",
      "Epoch 4/10\n",
      "1028/1028 [==============================] - 12s 11ms/step - loss: 0.4847 - accuracy: 0.7694 - val_loss: 0.4976 - val_accuracy: 0.7581\n",
      "Epoch 5/10\n",
      "1028/1028 [==============================] - 7s 6ms/step - loss: 0.4816 - accuracy: 0.7709 - val_loss: 0.4991 - val_accuracy: 0.7602\n",
      "Epoch 6/10\n",
      "1028/1028 [==============================] - 7s 7ms/step - loss: 0.4795 - accuracy: 0.7716 - val_loss: 0.5043 - val_accuracy: 0.7587\n",
      "Epoch 7/10\n",
      "1028/1028 [==============================] - 7s 7ms/step - loss: 0.4760 - accuracy: 0.7735 - val_loss: 0.5016 - val_accuracy: 0.7585\n",
      "Epoch 8/10\n",
      "1028/1028 [==============================] - 7s 7ms/step - loss: 0.4727 - accuracy: 0.7755 - val_loss: 0.5010 - val_accuracy: 0.7604\n",
      "Epoch 9/10\n",
      "1028/1028 [==============================] - 5s 5ms/step - loss: 0.4688 - accuracy: 0.7782 - val_loss: 0.5053 - val_accuracy: 0.7585\n",
      "Epoch 10/10\n",
      "1028/1028 [==============================] - 7s 6ms/step - loss: 0.4635 - accuracy: 0.7816 - val_loss: 0.5042 - val_accuracy: 0.7543\n"
     ]
    }
   ],
   "metadata": {}
  },
  {
   "cell_type": "code",
   "execution_count": 54,
   "source": [
    "plt.plot(result.history['loss'], label='loss')\n",
    "plt.plot(result.history['val_loss'], label='val_loss')\n",
    "plt.legend()"
   ],
   "outputs": [
    {
     "output_type": "execute_result",
     "data": {
      "text/plain": [
       "<matplotlib.legend.Legend at 0x138a164c2b0>"
      ]
     },
     "metadata": {},
     "execution_count": 54
    },
    {
     "output_type": "display_data",
     "data": {
      "image/png": "[encoded data removed]",
      "text/plain": [
       "<Figure size 640x480 with 1 Axes>"
      ]
     },
     "metadata": {}
    }
   ],
   "metadata": {}
  },
  {
   "cell_type": "code",
   "execution_count": 55,
   "source": [
    "def df_to_dataset(features, labels, batch_size=512, resample=False):\n",
    "    tf_dataset = tf.data.Dataset.from_tensor_slices((dict(features), labels)).cache()\n",
    "    shuffled_tf_dataset = tf_dataset.shuffle(buffer_size=len(df)) # shuffling values \n",
    "    return shuffled_tf_dataset.batch(batch_size).prefetch(2)# returning 32 samples per batch"
   ],
   "outputs": [],
   "metadata": {}
  },
  {
   "cell_type": "code",
   "execution_count": 56,
   "source": [
    "def get_normalization_layer(feature_name, dataset, batch_size=32):\n",
    "    # normalize numeric features\n",
    "    normalizer = layers.Normalization(axis=None)\n",
    "    # extract feature from dataset\n",
    "    #feature_data = dataset[feature_name]\n",
    "    feature_data = dataset.map(lambda x, y: x[feature_name])\n",
    "    normalizer.adapt(feature_data, batch_size=batch_size)\n",
    "    return normalizer\n",
    "def get_category_encoding_layer(feature_name, dataset, dtype, max_tokens=None, batch_size=32):\n",
    "    if dtype == 'string':\n",
    "        index = layers.StringLookup(max_tokens=max_tokens)\n",
    "    else:\n",
    "        index = layers.IntegerLookup(max_tokens=max_tokens)\n",
    "    # extract feature from dataset\n",
    "    #feature_ds = dataset[feature_name]\n",
    "    feature_data = dataset.map(lambda x, y: x[feature_name])\n",
    "    # 'learn' all possible feature values, assign each an int index \n",
    "    index.adapt(feature_data, batch_size=batch_size)\n",
    "    # encode integer index\n",
    "    encoder = layers.CategoryEncoding(num_tokens=index.vocabulary_size(), output_mode=\"one_hot\")\n",
    "    # multi-hot encode indeices - lambda function captures layers\n",
    "    return lambda feature: encoder(index(feature))"
   ],
   "outputs": [],
   "metadata": {}
  },
  {
   "cell_type": "code",
   "execution_count": 57,
   "source": [
    "train_resampled_ds= df_to_dataset(X_train_resampled, y_train_resampled)\n",
    "val_ds= df_to_dataset(X_val_resampled, y_val_resampled)\n",
    "test_ds= df_to_dataset(X_test, y_test)"
   ],
   "outputs": [],
   "metadata": {}
  },
  {
   "cell_type": "code",
   "execution_count": 58,
   "source": [
    "inputs = []\n",
    "encoded_features =[]\n",
    "\n",
    "# numerical\n",
    "for header in [\"bmi\", \"physicalHealth\", \"mentalHealth\", 'sleepHours' ]:\n",
    "    num_col = tf.keras.Input(shape=(1,), name=header)\n",
    "    # keras inputs array\n",
    "    inputs.append(num_col)\n",
    "\n",
    "    norm_layer = get_normalization_layer(feature_name=header, dataset=train_resampled_ds)\n",
    "    encoded_num_col = norm_layer(num_col)\n",
    "    # encoded feature\n",
    "    encoded_features.append(encoded_num_col)\n",
    "\n",
    "# categorical\n",
    "for header in [\"smoking\",\"alcoholDrinking\",\"stroke\",\"diffWalk\",\n",
    "                \"sex\", \"ageGroup\", \"diabetic\", \"physicalActivity\", \n",
    "                \"overallHealth\", \"asthma\", \"kidneyDisease\", \"skinCancer\"]:\n",
    "    \n",
    "    # declare header as a keras Input\n",
    "    cat_col = tf.keras.Input(shape=(1,), name=header, dtype='string')\n",
    "    # keras inputs array\n",
    "    inputs.append(cat_col)\n",
    "\n",
    "    # get preprocessing layer \n",
    "    cat_layer = get_category_encoding_layer(feature_name=header,\n",
    "                                            dataset=train_resampled_ds, \n",
    "                                            dtype='string', \n",
    "                                            max_tokens=None)\n",
    "    encoded_cat_col = cat_layer(cat_col)\n",
    "    # encoded feature\n",
    "    encoded_features.append(encoded_cat_col)"
   ],
   "outputs": [],
   "metadata": {}
  },
  {
   "cell_type": "code",
   "execution_count": 59,
   "source": [
    "# KERAS FUNCTIONAL API - MODEL BUILD   \n",
    "# merge list feature inputs into one vector\n",
    "features = tf.keras.layers.concatenate(encoded_features)\n",
    "x = tf.keras.layers.Dense(units=128, activation=\"relu\")(features)\n",
    "# x = tf.keras.layers.Dropout(rate=0.2)(x)\n",
    "x = tf.keras.layers.Dense(units=214, activation='relu')(x)\n",
    "x = tf.keras.layers.Dropout(rate=0.05)(x)\n",
    "x = tf.keras.layers.Dense(units=214, activation=\"relu\")(x)\n",
    "# x = tf.keras.layers.Dropout(rate=0.2)(x)\n",
    "x = tf.keras.layers.Dense(units=128, activation='relu')(x)\n",
    "output = tf.keras.layers.Dense(units=1, activation='sigmoid')(x)\n",
    "model = tf.keras.Model(inputs, output)"
   ],
   "outputs": [],
   "metadata": {}
  },
  {
   "cell_type": "code",
   "execution_count": 60,
   "source": [
    "model.compile(optimizer='adam', \n",
    "              loss='binary_crossentropy', \n",
    "              metrics = ['accuracy'])\n",
    "\n",
    "result = model.fit(train_resampled_ds,\n",
    "                    validation_data=val_ds, \n",
    "                    epochs=100,\n",
    "                    verbose=1)"
   ],
   "outputs": [
    {
     "output_type": "stream",
     "name": "stdout",
     "text": [
      "Epoch 1/100\n",
      "65/65 [==============================] - 3s 21ms/step - loss: 0.5317 - accuracy: 0.7365 - val_loss: 0.4995 - val_accuracy: 0.7579\n",
      "Epoch 2/100\n",
      "65/65 [==============================] - 1s 13ms/step - loss: 0.4890 - accuracy: 0.7651 - val_loss: 0.4971 - val_accuracy: 0.7601\n",
      "Epoch 3/100\n",
      "65/65 [==============================] - 1s 14ms/step - loss: 0.4838 - accuracy: 0.7695 - val_loss: 0.5009 - val_accuracy: 0.7543\n",
      "Epoch 4/100\n",
      "65/65 [==============================] - 1s 13ms/step - loss: 0.4825 - accuracy: 0.7700 - val_loss: 0.4960 - val_accuracy: 0.7567\n",
      "Epoch 5/100\n",
      "65/65 [==============================] - 1s 13ms/step - loss: 0.4804 - accuracy: 0.7718 - val_loss: 0.5060 - val_accuracy: 0.7562\n",
      "Epoch 6/100\n",
      "65/65 [==============================] - 1s 13ms/step - loss: 0.4767 - accuracy: 0.7728 - val_loss: 0.5060 - val_accuracy: 0.7549\n",
      "Epoch 7/100\n",
      "65/65 [==============================] - 1s 13ms/step - loss: 0.4744 - accuracy: 0.7740 - val_loss: 0.5010 - val_accuracy: 0.7578\n",
      "Epoch 8/100\n",
      "65/65 [==============================] - 1s 13ms/step - loss: 0.4727 - accuracy: 0.7745 - val_loss: 0.5141 - val_accuracy: 0.7532\n",
      "Epoch 9/100\n",
      "65/65 [==============================] - 1s 12ms/step - loss: 0.4701 - accuracy: 0.7776 - val_loss: 0.5045 - val_accuracy: 0.7579\n",
      "Epoch 10/100\n",
      "65/65 [==============================] - 1s 14ms/step - loss: 0.4667 - accuracy: 0.7774 - val_loss: 0.5009 - val_accuracy: 0.7608\n",
      "Epoch 11/100\n",
      "65/65 [==============================] - 1s 13ms/step - loss: 0.4623 - accuracy: 0.7812 - val_loss: 0.5096 - val_accuracy: 0.7585\n",
      "Epoch 12/100\n",
      "65/65 [==============================] - 1s 13ms/step - loss: 0.4598 - accuracy: 0.7829 - val_loss: 0.5080 - val_accuracy: 0.7596\n",
      "Epoch 13/100\n",
      "65/65 [==============================] - 1s 13ms/step - loss: 0.4536 - accuracy: 0.7859 - val_loss: 0.5113 - val_accuracy: 0.7507\n",
      "Epoch 14/100\n",
      "65/65 [==============================] - 1s 12ms/step - loss: 0.4531 - accuracy: 0.7857 - val_loss: 0.5109 - val_accuracy: 0.7527\n",
      "Epoch 15/100\n",
      "65/65 [==============================] - 1s 12ms/step - loss: 0.4468 - accuracy: 0.7895 - val_loss: 0.5167 - val_accuracy: 0.7500\n",
      "Epoch 16/100\n",
      "65/65 [==============================] - 1s 13ms/step - loss: 0.4401 - accuracy: 0.7926 - val_loss: 0.5246 - val_accuracy: 0.7518\n",
      "Epoch 17/100\n",
      "65/65 [==============================] - 1s 14ms/step - loss: 0.4353 - accuracy: 0.7955 - val_loss: 0.5373 - val_accuracy: 0.7421\n",
      "Epoch 18/100\n",
      "65/65 [==============================] - 1s 13ms/step - loss: 0.4299 - accuracy: 0.7975 - val_loss: 0.5398 - val_accuracy: 0.7406\n",
      "Epoch 19/100\n",
      "65/65 [==============================] - 1s 14ms/step - loss: 0.4221 - accuracy: 0.8010 - val_loss: 0.5453 - val_accuracy: 0.7437\n",
      "Epoch 20/100\n",
      "65/65 [==============================] - 1s 13ms/step - loss: 0.4156 - accuracy: 0.8049 - val_loss: 0.5475 - val_accuracy: 0.7401\n",
      "Epoch 21/100\n",
      "65/65 [==============================] - 1s 14ms/step - loss: 0.4083 - accuracy: 0.8099 - val_loss: 0.5636 - val_accuracy: 0.7371\n",
      "Epoch 22/100\n",
      "65/65 [==============================] - 1s 13ms/step - loss: 0.4042 - accuracy: 0.8104 - val_loss: 0.5739 - val_accuracy: 0.7349\n",
      "Epoch 23/100\n",
      "65/65 [==============================] - 1s 14ms/step - loss: 0.3948 - accuracy: 0.8168 - val_loss: 0.6038 - val_accuracy: 0.7419\n",
      "Epoch 24/100\n",
      "65/65 [==============================] - 1s 14ms/step - loss: 0.3870 - accuracy: 0.8203 - val_loss: 0.5859 - val_accuracy: 0.7349\n",
      "Epoch 25/100\n",
      "65/65 [==============================] - 1s 13ms/step - loss: 0.3812 - accuracy: 0.8220 - val_loss: 0.6017 - val_accuracy: 0.7271\n",
      "Epoch 26/100\n",
      "65/65 [==============================] - 1s 14ms/step - loss: 0.3733 - accuracy: 0.8259 - val_loss: 0.6203 - val_accuracy: 0.7329\n",
      "Epoch 27/100\n",
      "65/65 [==============================] - 1s 14ms/step - loss: 0.3638 - accuracy: 0.8312 - val_loss: 0.6254 - val_accuracy: 0.7360\n",
      "Epoch 28/100\n",
      "65/65 [==============================] - 2s 22ms/step - loss: 0.3629 - accuracy: 0.8302 - val_loss: 0.6285 - val_accuracy: 0.7283\n",
      "Epoch 29/100\n",
      "65/65 [==============================] - 1s 13ms/step - loss: 0.3559 - accuracy: 0.8346 - val_loss: 0.6423 - val_accuracy: 0.7262\n",
      "Epoch 30/100\n",
      "65/65 [==============================] - 1s 16ms/step - loss: 0.3450 - accuracy: 0.8421 - val_loss: 0.6726 - val_accuracy: 0.7269\n",
      "Epoch 31/100\n",
      "65/65 [==============================] - 2s 21ms/step - loss: 0.3353 - accuracy: 0.8455 - val_loss: 0.6854 - val_accuracy: 0.7229\n",
      "Epoch 32/100\n",
      "65/65 [==============================] - 1s 15ms/step - loss: 0.3313 - accuracy: 0.8474 - val_loss: 0.6920 - val_accuracy: 0.7305\n",
      "Epoch 33/100\n",
      "65/65 [==============================] - 1s 15ms/step - loss: 0.3243 - accuracy: 0.8520 - val_loss: 0.7322 - val_accuracy: 0.7255\n",
      "Epoch 34/100\n",
      "65/65 [==============================] - 1s 16ms/step - loss: 0.3174 - accuracy: 0.8538 - val_loss: 0.7420 - val_accuracy: 0.7229\n",
      "Epoch 35/100\n",
      "65/65 [==============================] - 1s 18ms/step - loss: 0.3147 - accuracy: 0.8549 - val_loss: 0.7169 - val_accuracy: 0.7214\n",
      "Epoch 36/100\n",
      "65/65 [==============================] - 1s 16ms/step - loss: 0.3124 - accuracy: 0.8572 - val_loss: 0.7667 - val_accuracy: 0.7215\n",
      "Epoch 37/100\n",
      "65/65 [==============================] - 1s 16ms/step - loss: 0.3030 - accuracy: 0.8605 - val_loss: 0.7729 - val_accuracy: 0.7226\n",
      "Epoch 38/100\n",
      "65/65 [==============================] - 2s 18ms/step - loss: 0.2998 - accuracy: 0.8634 - val_loss: 0.8079 - val_accuracy: 0.7207\n",
      "Epoch 39/100\n",
      "65/65 [==============================] - 2s 20ms/step - loss: 0.2945 - accuracy: 0.8652 - val_loss: 0.8098 - val_accuracy: 0.7139\n",
      "Epoch 40/100\n",
      "65/65 [==============================] - 1s 17ms/step - loss: 0.2924 - accuracy: 0.8674 - val_loss: 0.8254 - val_accuracy: 0.7254\n",
      "Epoch 41/100\n",
      "65/65 [==============================] - 1s 18ms/step - loss: 0.2830 - accuracy: 0.8705 - val_loss: 0.8558 - val_accuracy: 0.7183\n",
      "Epoch 42/100\n",
      "65/65 [==============================] - 2s 17ms/step - loss: 0.2813 - accuracy: 0.8721 - val_loss: 0.8874 - val_accuracy: 0.7251\n",
      "Epoch 43/100\n",
      "65/65 [==============================] - 1s 14ms/step - loss: 0.2824 - accuracy: 0.8726 - val_loss: 0.8744 - val_accuracy: 0.7181\n",
      "Epoch 44/100\n",
      "65/65 [==============================] - 1s 13ms/step - loss: 0.2736 - accuracy: 0.8748 - val_loss: 0.8916 - val_accuracy: 0.7218\n",
      "Epoch 45/100\n",
      "65/65 [==============================] - 1s 13ms/step - loss: 0.2672 - accuracy: 0.8789 - val_loss: 0.9180 - val_accuracy: 0.7101\n",
      "Epoch 46/100\n",
      "65/65 [==============================] - 1s 16ms/step - loss: 0.2635 - accuracy: 0.8811 - val_loss: 0.9315 - val_accuracy: 0.7162\n",
      "Epoch 47/100\n",
      "65/65 [==============================] - 1s 16ms/step - loss: 0.2547 - accuracy: 0.8836 - val_loss: 0.9732 - val_accuracy: 0.7116\n",
      "Epoch 48/100\n",
      "65/65 [==============================] - 1s 16ms/step - loss: 0.2561 - accuracy: 0.8837 - val_loss: 0.9876 - val_accuracy: 0.7128\n",
      "Epoch 49/100\n",
      "65/65 [==============================] - 1s 16ms/step - loss: 0.2574 - accuracy: 0.8821 - val_loss: 0.9868 - val_accuracy: 0.7187\n",
      "Epoch 50/100\n",
      "65/65 [==============================] - 1s 15ms/step - loss: 0.2498 - accuracy: 0.8864 - val_loss: 1.0087 - val_accuracy: 0.7099\n",
      "Epoch 51/100\n",
      "65/65 [==============================] - 1s 18ms/step - loss: 0.2499 - accuracy: 0.8878 - val_loss: 1.0264 - val_accuracy: 0.7115\n",
      "Epoch 52/100\n",
      "65/65 [==============================] - 1s 18ms/step - loss: 0.2502 - accuracy: 0.8864 - val_loss: 1.0021 - val_accuracy: 0.7107\n",
      "Epoch 53/100\n",
      "65/65 [==============================] - 1s 15ms/step - loss: 0.2547 - accuracy: 0.8842 - val_loss: 1.0231 - val_accuracy: 0.7170\n",
      "Epoch 54/100\n",
      "65/65 [==============================] - 1s 17ms/step - loss: 0.2434 - accuracy: 0.8889 - val_loss: 1.0424 - val_accuracy: 0.7154\n",
      "Epoch 55/100\n",
      "65/65 [==============================] - 1s 16ms/step - loss: 0.2383 - accuracy: 0.8918 - val_loss: 1.0491 - val_accuracy: 0.7145\n",
      "Epoch 56/100\n",
      "65/65 [==============================] - 1s 16ms/step - loss: 0.2367 - accuracy: 0.8926 - val_loss: 1.0550 - val_accuracy: 0.7107\n",
      "Epoch 57/100\n",
      "65/65 [==============================] - 1s 17ms/step - loss: 0.2306 - accuracy: 0.8935 - val_loss: 1.1115 - val_accuracy: 0.7170\n",
      "Epoch 58/100\n",
      "65/65 [==============================] - 1s 16ms/step - loss: 0.2317 - accuracy: 0.8944 - val_loss: 1.1059 - val_accuracy: 0.7054\n",
      "Epoch 59/100\n",
      "65/65 [==============================] - 1s 16ms/step - loss: 0.2355 - accuracy: 0.8932 - val_loss: 1.1413 - val_accuracy: 0.7149\n",
      "Epoch 60/100\n",
      "65/65 [==============================] - 2s 20ms/step - loss: 0.2282 - accuracy: 0.8957 - val_loss: 1.1453 - val_accuracy: 0.7095\n",
      "Epoch 61/100\n",
      "65/65 [==============================] - 2s 27ms/step - loss: 0.2307 - accuracy: 0.8933 - val_loss: 1.1345 - val_accuracy: 0.7063\n",
      "Epoch 62/100\n",
      "65/65 [==============================] - 2s 27ms/step - loss: 0.2324 - accuracy: 0.8953 - val_loss: 1.1243 - val_accuracy: 0.7120\n",
      "Epoch 63/100\n",
      "65/65 [==============================] - 2s 29ms/step - loss: 0.2269 - accuracy: 0.8978 - val_loss: 1.1445 - val_accuracy: 0.7101\n",
      "Epoch 64/100\n",
      "65/65 [==============================] - 2s 28ms/step - loss: 0.2274 - accuracy: 0.8967 - val_loss: 1.1178 - val_accuracy: 0.7032\n",
      "Epoch 65/100\n",
      "65/65 [==============================] - 2s 26ms/step - loss: 0.2214 - accuracy: 0.9000 - val_loss: 1.1741 - val_accuracy: 0.7087\n",
      "Epoch 66/100\n",
      "65/65 [==============================] - 2s 27ms/step - loss: 0.2120 - accuracy: 0.9039 - val_loss: 1.2178 - val_accuracy: 0.7104\n",
      "Epoch 67/100\n",
      "65/65 [==============================] - 2s 28ms/step - loss: 0.2141 - accuracy: 0.9014 - val_loss: 1.2456 - val_accuracy: 0.7136\n",
      "Epoch 68/100\n",
      "65/65 [==============================] - 2s 27ms/step - loss: 0.2098 - accuracy: 0.9049 - val_loss: 1.2145 - val_accuracy: 0.7090\n",
      "Epoch 69/100\n",
      "65/65 [==============================] - 2s 28ms/step - loss: 0.2142 - accuracy: 0.9032 - val_loss: 1.2420 - val_accuracy: 0.7181\n",
      "Epoch 70/100\n",
      "65/65 [==============================] - 2s 27ms/step - loss: 0.2137 - accuracy: 0.9037 - val_loss: 1.2456 - val_accuracy: 0.7126\n",
      "Epoch 71/100\n",
      "65/65 [==============================] - 2s 24ms/step - loss: 0.2171 - accuracy: 0.9016 - val_loss: 1.2464 - val_accuracy: 0.7099\n",
      "Epoch 72/100\n",
      "65/65 [==============================] - 2s 26ms/step - loss: 0.2105 - accuracy: 0.9032 - val_loss: 1.2449 - val_accuracy: 0.7146\n",
      "Epoch 73/100\n",
      "65/65 [==============================] - 2s 28ms/step - loss: 0.2063 - accuracy: 0.9059 - val_loss: 1.3007 - val_accuracy: 0.7050\n",
      "Epoch 74/100\n",
      "65/65 [==============================] - 2s 24ms/step - loss: 0.2020 - accuracy: 0.9072 - val_loss: 1.2914 - val_accuracy: 0.7019\n",
      "Epoch 75/100\n",
      "65/65 [==============================] - 2s 17ms/step - loss: 0.2055 - accuracy: 0.9076 - val_loss: 1.2978 - val_accuracy: 0.7032\n",
      "Epoch 76/100\n",
      "65/65 [==============================] - 2s 27ms/step - loss: 0.2070 - accuracy: 0.9065 - val_loss: 1.3085 - val_accuracy: 0.7154\n",
      "Epoch 77/100\n",
      "65/65 [==============================] - 2s 17ms/step - loss: 0.2034 - accuracy: 0.9061 - val_loss: 1.3100 - val_accuracy: 0.7099\n",
      "Epoch 78/100\n",
      "65/65 [==============================] - 1s 12ms/step - loss: 0.2055 - accuracy: 0.9055 - val_loss: 1.3278 - val_accuracy: 0.7117\n",
      "Epoch 79/100\n",
      "65/65 [==============================] - 1s 12ms/step - loss: 0.1968 - accuracy: 0.9108 - val_loss: 1.3214 - val_accuracy: 0.7117\n",
      "Epoch 80/100\n",
      "65/65 [==============================] - 1s 12ms/step - loss: 0.2016 - accuracy: 0.9086 - val_loss: 1.3277 - val_accuracy: 0.7079\n",
      "Epoch 81/100\n",
      "65/65 [==============================] - 1s 12ms/step - loss: 0.1948 - accuracy: 0.9110 - val_loss: 1.3666 - val_accuracy: 0.7050\n",
      "Epoch 82/100\n",
      "65/65 [==============================] - 1s 12ms/step - loss: 0.1898 - accuracy: 0.9150 - val_loss: 1.3460 - val_accuracy: 0.7033\n",
      "Epoch 83/100\n",
      "65/65 [==============================] - 1s 11ms/step - loss: 0.1898 - accuracy: 0.9125 - val_loss: 1.4013 - val_accuracy: 0.7039\n",
      "Epoch 84/100\n",
      "65/65 [==============================] - 1s 11ms/step - loss: 0.1936 - accuracy: 0.9112 - val_loss: 1.3719 - val_accuracy: 0.7043\n",
      "Epoch 85/100\n",
      "65/65 [==============================] - 1s 13ms/step - loss: 0.1925 - accuracy: 0.9136 - val_loss: 1.3982 - val_accuracy: 0.6994\n",
      "Epoch 86/100\n",
      "65/65 [==============================] - 1s 17ms/step - loss: 0.1998 - accuracy: 0.9082 - val_loss: 1.3928 - val_accuracy: 0.7005\n",
      "Epoch 87/100\n",
      "65/65 [==============================] - 1s 16ms/step - loss: 0.1972 - accuracy: 0.9106 - val_loss: 1.3486 - val_accuracy: 0.7074\n",
      "Epoch 88/100\n",
      "65/65 [==============================] - 1s 15ms/step - loss: 0.1929 - accuracy: 0.9126 - val_loss: 1.3614 - val_accuracy: 0.7078\n",
      "Epoch 89/100\n",
      "65/65 [==============================] - 1s 16ms/step - loss: 0.1866 - accuracy: 0.9151 - val_loss: 1.4063 - val_accuracy: 0.7093\n",
      "Epoch 90/100\n",
      "65/65 [==============================] - 1s 17ms/step - loss: 0.1944 - accuracy: 0.9109 - val_loss: 1.3841 - val_accuracy: 0.7064\n",
      "Epoch 91/100\n",
      "65/65 [==============================] - 1s 16ms/step - loss: 0.1862 - accuracy: 0.9149 - val_loss: 1.4146 - val_accuracy: 0.6986\n",
      "Epoch 92/100\n",
      "65/65 [==============================] - 1s 15ms/step - loss: 0.1887 - accuracy: 0.9140 - val_loss: 1.4167 - val_accuracy: 0.7026\n",
      "Epoch 93/100\n",
      "65/65 [==============================] - 1s 16ms/step - loss: 0.1840 - accuracy: 0.9158 - val_loss: 1.4170 - val_accuracy: 0.7112\n",
      "Epoch 94/100\n",
      "65/65 [==============================] - 1s 17ms/step - loss: 0.1847 - accuracy: 0.9150 - val_loss: 1.4527 - val_accuracy: 0.7079\n",
      "Epoch 95/100\n",
      "65/65 [==============================] - 1s 15ms/step - loss: 0.1847 - accuracy: 0.9165 - val_loss: 1.4418 - val_accuracy: 0.7122\n",
      "Epoch 96/100\n",
      "65/65 [==============================] - 1s 15ms/step - loss: 0.1832 - accuracy: 0.9179 - val_loss: 1.4316 - val_accuracy: 0.7066\n",
      "Epoch 97/100\n",
      "65/65 [==============================] - 1s 15ms/step - loss: 0.1842 - accuracy: 0.9163 - val_loss: 1.3956 - val_accuracy: 0.6985\n",
      "Epoch 98/100\n",
      "65/65 [==============================] - 1s 16ms/step - loss: 0.1817 - accuracy: 0.9167 - val_loss: 1.4549 - val_accuracy: 0.7103\n",
      "Epoch 99/100\n",
      "65/65 [==============================] - 1s 15ms/step - loss: 0.1796 - accuracy: 0.9194 - val_loss: 1.4771 - val_accuracy: 0.7054\n",
      "Epoch 100/100\n",
      "65/65 [==============================] - 1s 15ms/step - loss: 0.1802 - accuracy: 0.9180 - val_loss: 1.4836 - val_accuracy: 0.7058\n"
     ]
    }
   ],
   "metadata": {}
  },
  {
   "cell_type": "code",
   "execution_count": 61,
   "source": [
    "plt.plot(result.history['loss'], label='loss')\n",
    "plt.plot(result.history['val_loss'], label='val_loss')\n",
    "plt.legend()"
   ],
   "outputs": [
    {
     "output_type": "execute_result",
     "data": {
      "text/plain": [
       "<matplotlib.legend.Legend at 0x138a1ea6500>"
      ]
     },
     "metadata": {},
     "execution_count": 61
    },
    {
     "output_type": "display_data",
     "data": {
      "image/png": "[encoded data removed]",
      "text/plain": [
       "<Figure size 640x480 with 1 Axes>"
      ]
     },
     "metadata": {}
    }
   ],
   "metadata": {}
  },
  {
   "cell_type": "code",
   "execution_count": 62,
   "source": [
    "# KERAS FUNCTIONAL API - MODEL BUILD   \n",
    "# merge list feature inputs into one vector\n",
    "features = tf.keras.layers.concatenate(encoded_features)\n",
    "x = tf.keras.layers.Dense(units=128, activation=\"relu\")(features)\n",
    "x = tf.keras.layers.Dropout(rate=0.4)(x)\n",
    "x = tf.keras.layers.Dense(units=214, activation='relu')(x)\n",
    "x = tf.keras.layers.Dropout(rate=0.4)(x)\n",
    "x = tf.keras.layers.Dense(units=214, activation=\"relu\")(x)\n",
    "x = tf.keras.layers.Dropout(rate=0.4)(x)\n",
    "x = tf.keras.layers.Dense(units=128, activation='relu')(x)\n",
    "output = tf.keras.layers.Dense(units=1, activation='sigmoid')(x)\n",
    "model = tf.keras.Model(inputs, output)"
   ],
   "outputs": [],
   "metadata": {}
  },
  {
   "cell_type": "code",
   "execution_count": 63,
   "source": [
    "model.compile(optimizer='adam', \n",
    "              loss='binary_crossentropy', \n",
    "              metrics = ['accuracy'])\n",
    "\n",
    "result = model.fit(train_resampled_ds,\n",
    "                    validation_data=val_ds, \n",
    "                    epochs=100,\n",
    "                    verbose=1)"
   ],
   "outputs": [
    {
     "output_type": "stream",
     "name": "stdout",
     "text": [
      "Epoch 1/100\n",
      "65/65 [==============================] - 3s 23ms/step - loss: 0.5805 - accuracy: 0.6961 - val_loss: 0.5107 - val_accuracy: 0.7565\n",
      "Epoch 2/100\n",
      "65/65 [==============================] - 1s 16ms/step - loss: 0.5173 - accuracy: 0.7496 - val_loss: 0.5016 - val_accuracy: 0.7601\n",
      "Epoch 3/100\n",
      "65/65 [==============================] - 1s 15ms/step - loss: 0.5071 - accuracy: 0.7566 - val_loss: 0.5020 - val_accuracy: 0.7619\n",
      "Epoch 4/100\n",
      "65/65 [==============================] - 1s 15ms/step - loss: 0.5006 - accuracy: 0.7622 - val_loss: 0.5001 - val_accuracy: 0.7603\n",
      "Epoch 5/100\n",
      "65/65 [==============================] - 1s 14ms/step - loss: 0.4974 - accuracy: 0.7636 - val_loss: 0.4985 - val_accuracy: 0.7602\n",
      "Epoch 6/100\n",
      "65/65 [==============================] - 1s 14ms/step - loss: 0.4971 - accuracy: 0.7643 - val_loss: 0.5013 - val_accuracy: 0.7604\n",
      "Epoch 7/100\n",
      "65/65 [==============================] - 1s 14ms/step - loss: 0.4924 - accuracy: 0.7671 - val_loss: 0.5004 - val_accuracy: 0.7596\n",
      "Epoch 8/100\n",
      "65/65 [==============================] - 1s 14ms/step - loss: 0.4921 - accuracy: 0.7667 - val_loss: 0.4999 - val_accuracy: 0.7619\n",
      "Epoch 9/100\n",
      "65/65 [==============================] - 1s 14ms/step - loss: 0.4910 - accuracy: 0.7683 - val_loss: 0.4964 - val_accuracy: 0.7612\n",
      "Epoch 10/100\n",
      "65/65 [==============================] - 1s 13ms/step - loss: 0.4895 - accuracy: 0.7666 - val_loss: 0.4964 - val_accuracy: 0.7603\n",
      "Epoch 11/100\n",
      "65/65 [==============================] - 1s 13ms/step - loss: 0.4895 - accuracy: 0.7685 - val_loss: 0.4965 - val_accuracy: 0.7608\n",
      "Epoch 12/100\n",
      "65/65 [==============================] - 1s 14ms/step - loss: 0.4875 - accuracy: 0.7689 - val_loss: 0.4959 - val_accuracy: 0.7613\n",
      "Epoch 13/100\n",
      "65/65 [==============================] - 1s 14ms/step - loss: 0.4875 - accuracy: 0.7675 - val_loss: 0.4994 - val_accuracy: 0.7610\n",
      "Epoch 14/100\n",
      "65/65 [==============================] - 1s 14ms/step - loss: 0.4861 - accuracy: 0.7685 - val_loss: 0.4997 - val_accuracy: 0.7615\n",
      "Epoch 15/100\n",
      "65/65 [==============================] - 1s 14ms/step - loss: 0.4869 - accuracy: 0.7700 - val_loss: 0.5008 - val_accuracy: 0.7599\n",
      "Epoch 16/100\n",
      "65/65 [==============================] - 1s 14ms/step - loss: 0.4868 - accuracy: 0.7688 - val_loss: 0.4993 - val_accuracy: 0.7621\n",
      "Epoch 17/100\n",
      "65/65 [==============================] - 1s 14ms/step - loss: 0.4850 - accuracy: 0.7717 - val_loss: 0.4984 - val_accuracy: 0.7621\n",
      "Epoch 18/100\n",
      "65/65 [==============================] - 1s 14ms/step - loss: 0.4849 - accuracy: 0.7696 - val_loss: 0.4966 - val_accuracy: 0.7621\n",
      "Epoch 19/100\n",
      "65/65 [==============================] - 1s 13ms/step - loss: 0.4841 - accuracy: 0.7696 - val_loss: 0.5001 - val_accuracy: 0.7607\n",
      "Epoch 20/100\n",
      "65/65 [==============================] - 1s 13ms/step - loss: 0.4842 - accuracy: 0.7701 - val_loss: 0.5001 - val_accuracy: 0.7617\n",
      "Epoch 21/100\n",
      "65/65 [==============================] - 1s 14ms/step - loss: 0.4831 - accuracy: 0.7719 - val_loss: 0.4981 - val_accuracy: 0.7622\n",
      "Epoch 22/100\n",
      "65/65 [==============================] - 1s 13ms/step - loss: 0.4825 - accuracy: 0.7702 - val_loss: 0.4963 - val_accuracy: 0.7621\n",
      "Epoch 23/100\n",
      "65/65 [==============================] - 1s 14ms/step - loss: 0.4827 - accuracy: 0.7718 - val_loss: 0.4989 - val_accuracy: 0.7609\n",
      "Epoch 24/100\n",
      "65/65 [==============================] - 1s 15ms/step - loss: 0.4815 - accuracy: 0.7740 - val_loss: 0.4961 - val_accuracy: 0.7617\n",
      "Epoch 25/100\n",
      "65/65 [==============================] - 1s 14ms/step - loss: 0.4805 - accuracy: 0.7726 - val_loss: 0.4986 - val_accuracy: 0.7605\n",
      "Epoch 26/100\n",
      "65/65 [==============================] - 1s 13ms/step - loss: 0.4811 - accuracy: 0.7732 - val_loss: 0.4964 - val_accuracy: 0.7620\n",
      "Epoch 27/100\n",
      "65/65 [==============================] - 1s 13ms/step - loss: 0.4795 - accuracy: 0.7727 - val_loss: 0.4951 - val_accuracy: 0.7617\n",
      "Epoch 28/100\n",
      "65/65 [==============================] - 1s 15ms/step - loss: 0.4794 - accuracy: 0.7737 - val_loss: 0.4949 - val_accuracy: 0.7609\n",
      "Epoch 29/100\n",
      "65/65 [==============================] - 1s 14ms/step - loss: 0.4800 - accuracy: 0.7725 - val_loss: 0.4977 - val_accuracy: 0.7625\n",
      "Epoch 30/100\n",
      "65/65 [==============================] - 1s 14ms/step - loss: 0.4800 - accuracy: 0.7731 - val_loss: 0.4970 - val_accuracy: 0.7607\n",
      "Epoch 31/100\n",
      "65/65 [==============================] - 1s 17ms/step - loss: 0.4793 - accuracy: 0.7743 - val_loss: 0.4978 - val_accuracy: 0.7607\n",
      "Epoch 32/100\n",
      "65/65 [==============================] - 1s 15ms/step - loss: 0.4792 - accuracy: 0.7740 - val_loss: 0.4988 - val_accuracy: 0.7605\n",
      "Epoch 33/100\n",
      "65/65 [==============================] - 1s 16ms/step - loss: 0.4776 - accuracy: 0.7744 - val_loss: 0.4978 - val_accuracy: 0.7598\n",
      "Epoch 34/100\n",
      "65/65 [==============================] - 1s 15ms/step - loss: 0.4770 - accuracy: 0.7731 - val_loss: 0.5006 - val_accuracy: 0.7621\n",
      "Epoch 35/100\n",
      "65/65 [==============================] - 1s 13ms/step - loss: 0.4769 - accuracy: 0.7753 - val_loss: 0.4987 - val_accuracy: 0.7601\n",
      "Epoch 36/100\n",
      "65/65 [==============================] - 1s 14ms/step - loss: 0.4753 - accuracy: 0.7741 - val_loss: 0.4991 - val_accuracy: 0.7633\n",
      "Epoch 37/100\n",
      "65/65 [==============================] - 1s 13ms/step - loss: 0.4763 - accuracy: 0.7718 - val_loss: 0.4978 - val_accuracy: 0.7613\n",
      "Epoch 38/100\n",
      "65/65 [==============================] - 1s 15ms/step - loss: 0.4760 - accuracy: 0.7736 - val_loss: 0.4977 - val_accuracy: 0.7609\n",
      "Epoch 39/100\n",
      "65/65 [==============================] - 1s 15ms/step - loss: 0.4754 - accuracy: 0.7756 - val_loss: 0.4980 - val_accuracy: 0.7613\n",
      "Epoch 40/100\n",
      "65/65 [==============================] - 1s 14ms/step - loss: 0.4754 - accuracy: 0.7749 - val_loss: 0.4987 - val_accuracy: 0.7580\n",
      "Epoch 41/100\n",
      "65/65 [==============================] - 1s 15ms/step - loss: 0.4749 - accuracy: 0.7768 - val_loss: 0.4989 - val_accuracy: 0.7600\n",
      "Epoch 42/100\n",
      "65/65 [==============================] - 1s 13ms/step - loss: 0.4750 - accuracy: 0.7775 - val_loss: 0.5022 - val_accuracy: 0.7584\n",
      "Epoch 43/100\n",
      "65/65 [==============================] - 1s 13ms/step - loss: 0.4744 - accuracy: 0.7766 - val_loss: 0.4996 - val_accuracy: 0.7601\n",
      "Epoch 44/100\n",
      "65/65 [==============================] - 1s 13ms/step - loss: 0.4735 - accuracy: 0.7759 - val_loss: 0.5005 - val_accuracy: 0.7599\n",
      "Epoch 45/100\n",
      "65/65 [==============================] - 1s 14ms/step - loss: 0.4738 - accuracy: 0.7765 - val_loss: 0.5020 - val_accuracy: 0.7612\n",
      "Epoch 46/100\n",
      "65/65 [==============================] - 1s 14ms/step - loss: 0.4724 - accuracy: 0.7768 - val_loss: 0.4989 - val_accuracy: 0.7595\n",
      "Epoch 47/100\n",
      "65/65 [==============================] - 1s 15ms/step - loss: 0.4734 - accuracy: 0.7774 - val_loss: 0.4995 - val_accuracy: 0.7601\n",
      "Epoch 48/100\n",
      "65/65 [==============================] - 1s 14ms/step - loss: 0.4727 - accuracy: 0.7767 - val_loss: 0.5002 - val_accuracy: 0.7600\n",
      "Epoch 49/100\n",
      "65/65 [==============================] - 1s 14ms/step - loss: 0.4717 - accuracy: 0.7763 - val_loss: 0.4999 - val_accuracy: 0.7609\n",
      "Epoch 50/100\n",
      "65/65 [==============================] - 1s 13ms/step - loss: 0.4707 - accuracy: 0.7800 - val_loss: 0.5005 - val_accuracy: 0.7594\n",
      "Epoch 51/100\n",
      "65/65 [==============================] - 1s 13ms/step - loss: 0.4719 - accuracy: 0.7792 - val_loss: 0.5033 - val_accuracy: 0.7586\n",
      "Epoch 52/100\n",
      "65/65 [==============================] - 1s 13ms/step - loss: 0.4706 - accuracy: 0.7774 - val_loss: 0.5022 - val_accuracy: 0.7568\n",
      "Epoch 53/100\n",
      "65/65 [==============================] - 1s 14ms/step - loss: 0.4702 - accuracy: 0.7781 - val_loss: 0.5001 - val_accuracy: 0.7577\n",
      "Epoch 54/100\n",
      "65/65 [==============================] - 1s 13ms/step - loss: 0.4708 - accuracy: 0.7782 - val_loss: 0.5020 - val_accuracy: 0.7588\n",
      "Epoch 55/100\n",
      "65/65 [==============================] - 1s 14ms/step - loss: 0.4701 - accuracy: 0.7777 - val_loss: 0.5014 - val_accuracy: 0.7594\n",
      "Epoch 56/100\n",
      "65/65 [==============================] - 1s 13ms/step - loss: 0.4690 - accuracy: 0.7785 - val_loss: 0.5038 - val_accuracy: 0.7566\n",
      "Epoch 57/100\n",
      "65/65 [==============================] - 1s 14ms/step - loss: 0.4711 - accuracy: 0.7779 - val_loss: 0.5026 - val_accuracy: 0.7574\n",
      "Epoch 58/100\n",
      "65/65 [==============================] - 1s 14ms/step - loss: 0.4696 - accuracy: 0.7783 - val_loss: 0.5021 - val_accuracy: 0.7578\n",
      "Epoch 59/100\n",
      "65/65 [==============================] - 1s 14ms/step - loss: 0.4688 - accuracy: 0.7803 - val_loss: 0.4999 - val_accuracy: 0.7584\n",
      "Epoch 60/100\n",
      "65/65 [==============================] - 1s 15ms/step - loss: 0.4694 - accuracy: 0.7792 - val_loss: 0.5021 - val_accuracy: 0.7566\n",
      "Epoch 61/100\n",
      "65/65 [==============================] - 1s 16ms/step - loss: 0.4671 - accuracy: 0.7808 - val_loss: 0.5018 - val_accuracy: 0.7577\n",
      "Epoch 62/100\n",
      "65/65 [==============================] - 1s 13ms/step - loss: 0.4676 - accuracy: 0.7802 - val_loss: 0.5048 - val_accuracy: 0.7530\n",
      "Epoch 63/100\n",
      "65/65 [==============================] - 1s 13ms/step - loss: 0.4669 - accuracy: 0.7808 - val_loss: 0.5035 - val_accuracy: 0.7584\n",
      "Epoch 64/100\n",
      "65/65 [==============================] - 1s 13ms/step - loss: 0.4669 - accuracy: 0.7808 - val_loss: 0.5023 - val_accuracy: 0.7594\n",
      "Epoch 65/100\n",
      "65/65 [==============================] - 1s 13ms/step - loss: 0.4653 - accuracy: 0.7804 - val_loss: 0.5017 - val_accuracy: 0.7558\n",
      "Epoch 66/100\n",
      "65/65 [==============================] - 2s 23ms/step - loss: 0.4667 - accuracy: 0.7801 - val_loss: 0.5001 - val_accuracy: 0.7576\n",
      "Epoch 67/100\n",
      "65/65 [==============================] - 2s 23ms/step - loss: 0.4662 - accuracy: 0.7801 - val_loss: 0.5024 - val_accuracy: 0.7571\n",
      "Epoch 68/100\n",
      "65/65 [==============================] - 2s 20ms/step - loss: 0.4662 - accuracy: 0.7794 - val_loss: 0.5014 - val_accuracy: 0.7556\n",
      "Epoch 69/100\n",
      "65/65 [==============================] - 1s 17ms/step - loss: 0.4663 - accuracy: 0.7802 - val_loss: 0.5027 - val_accuracy: 0.7588\n",
      "Epoch 70/100\n",
      "65/65 [==============================] - 2s 20ms/step - loss: 0.4643 - accuracy: 0.7821 - val_loss: 0.5034 - val_accuracy: 0.7576\n",
      "Epoch 71/100\n",
      "65/65 [==============================] - 1s 18ms/step - loss: 0.4640 - accuracy: 0.7825 - val_loss: 0.5027 - val_accuracy: 0.7567\n",
      "Epoch 72/100\n",
      "65/65 [==============================] - 2s 18ms/step - loss: 0.4646 - accuracy: 0.7820 - val_loss: 0.5033 - val_accuracy: 0.7568\n",
      "Epoch 73/100\n",
      "65/65 [==============================] - 2s 21ms/step - loss: 0.4649 - accuracy: 0.7801 - val_loss: 0.5027 - val_accuracy: 0.7599\n",
      "Epoch 74/100\n",
      "65/65 [==============================] - 2s 23ms/step - loss: 0.4645 - accuracy: 0.7809 - val_loss: 0.5024 - val_accuracy: 0.7590\n",
      "Epoch 75/100\n",
      "65/65 [==============================] - 2s 28ms/step - loss: 0.4638 - accuracy: 0.7832 - val_loss: 0.5037 - val_accuracy: 0.7576\n",
      "Epoch 76/100\n",
      "65/65 [==============================] - 2s 28ms/step - loss: 0.4619 - accuracy: 0.7819 - val_loss: 0.5050 - val_accuracy: 0.7584\n",
      "Epoch 77/100\n",
      "65/65 [==============================] - 2s 30ms/step - loss: 0.4634 - accuracy: 0.7843 - val_loss: 0.5042 - val_accuracy: 0.7557\n",
      "Epoch 78/100\n",
      "65/65 [==============================] - 2s 26ms/step - loss: 0.4627 - accuracy: 0.7815 - val_loss: 0.5032 - val_accuracy: 0.7566\n",
      "Epoch 79/100\n",
      "65/65 [==============================] - 2s 31ms/step - loss: 0.4627 - accuracy: 0.7818 - val_loss: 0.5064 - val_accuracy: 0.7545\n",
      "Epoch 80/100\n",
      "65/65 [==============================] - 2s 27ms/step - loss: 0.4634 - accuracy: 0.7833 - val_loss: 0.5023 - val_accuracy: 0.7569\n",
      "Epoch 81/100\n",
      "65/65 [==============================] - 2s 31ms/step - loss: 0.4634 - accuracy: 0.7830 - val_loss: 0.5053 - val_accuracy: 0.7543\n",
      "Epoch 82/100\n",
      "65/65 [==============================] - 2s 31ms/step - loss: 0.4611 - accuracy: 0.7852 - val_loss: 0.5042 - val_accuracy: 0.7548\n",
      "Epoch 83/100\n",
      "65/65 [==============================] - 2s 26ms/step - loss: 0.4593 - accuracy: 0.7849 - val_loss: 0.5037 - val_accuracy: 0.7563\n",
      "Epoch 84/100\n",
      "65/65 [==============================] - 3s 33ms/step - loss: 0.4620 - accuracy: 0.7812 - val_loss: 0.5061 - val_accuracy: 0.7537\n",
      "Epoch 85/100\n",
      "65/65 [==============================] - 2s 30ms/step - loss: 0.4611 - accuracy: 0.7832 - val_loss: 0.5055 - val_accuracy: 0.7571\n",
      "Epoch 86/100\n",
      "65/65 [==============================] - 2s 30ms/step - loss: 0.4606 - accuracy: 0.7843 - val_loss: 0.5058 - val_accuracy: 0.7548\n",
      "Epoch 87/100\n",
      "65/65 [==============================] - 2s 30ms/step - loss: 0.4607 - accuracy: 0.7834 - val_loss: 0.5081 - val_accuracy: 0.7545\n",
      "Epoch 88/100\n",
      "65/65 [==============================] - 2s 29ms/step - loss: 0.4594 - accuracy: 0.7832 - val_loss: 0.5074 - val_accuracy: 0.7524\n",
      "Epoch 89/100\n",
      "65/65 [==============================] - 2s 24ms/step - loss: 0.4595 - accuracy: 0.7834 - val_loss: 0.5060 - val_accuracy: 0.7571\n",
      "Epoch 90/100\n",
      "65/65 [==============================] - 2s 24ms/step - loss: 0.4614 - accuracy: 0.7829 - val_loss: 0.5053 - val_accuracy: 0.7541\n",
      "Epoch 91/100\n",
      "65/65 [==============================] - 2s 32ms/step - loss: 0.4591 - accuracy: 0.7837 - val_loss: 0.5060 - val_accuracy: 0.7544\n",
      "Epoch 92/100\n",
      "65/65 [==============================] - 2s 25ms/step - loss: 0.4601 - accuracy: 0.7847 - val_loss: 0.5068 - val_accuracy: 0.7545\n",
      "Epoch 93/100\n",
      "65/65 [==============================] - 2s 20ms/step - loss: 0.4589 - accuracy: 0.7836 - val_loss: 0.5076 - val_accuracy: 0.7529\n",
      "Epoch 94/100\n",
      "65/65 [==============================] - 2s 24ms/step - loss: 0.4592 - accuracy: 0.7844 - val_loss: 0.5070 - val_accuracy: 0.7530\n",
      "Epoch 95/100\n",
      "65/65 [==============================] - 2s 25ms/step - loss: 0.4606 - accuracy: 0.7830 - val_loss: 0.5068 - val_accuracy: 0.7538\n",
      "Epoch 96/100\n",
      "65/65 [==============================] - 2s 27ms/step - loss: 0.4582 - accuracy: 0.7854 - val_loss: 0.5081 - val_accuracy: 0.7541\n",
      "Epoch 97/100\n",
      "65/65 [==============================] - 2s 20ms/step - loss: 0.4571 - accuracy: 0.7843 - val_loss: 0.5073 - val_accuracy: 0.7528\n",
      "Epoch 98/100\n",
      "65/65 [==============================] - 2s 27ms/step - loss: 0.4562 - accuracy: 0.7874 - val_loss: 0.5129 - val_accuracy: 0.7487\n",
      "Epoch 99/100\n",
      "65/65 [==============================] - 2s 28ms/step - loss: 0.4587 - accuracy: 0.7839 - val_loss: 0.5068 - val_accuracy: 0.7544\n",
      "Epoch 100/100\n",
      "65/65 [==============================] - 2s 21ms/step - loss: 0.4598 - accuracy: 0.7854 - val_loss: 0.5080 - val_accuracy: 0.7542\n"
     ]
    }
   ],
   "metadata": {}
  },
  {
   "cell_type": "code",
   "execution_count": 64,
   "source": [
    "plt.plot(result.history['loss'], label='loss')\n",
    "plt.plot(result.history['val_loss'], label='val_loss')\n",
    "plt.legend()"
   ],
   "outputs": [
    {
     "output_type": "execute_result",
     "data": {
      "text/plain": [
       "<matplotlib.legend.Legend at 0x1388d2fe710>"
      ]
     },
     "metadata": {},
     "execution_count": 64
    },
    {
     "output_type": "display_data",
     "data": {
      "image/png": "[encoded data removed]",
      "text/plain": [
       "<Figure size 640x480 with 1 Axes>"
      ]
     },
     "metadata": {}
    }
   ],
   "metadata": {}
  },
  {
   "cell_type": "code",
   "execution_count": 65,
   "source": [
    "# KERAS FUNCTIONAL API - MODEL BUILD   \n",
    "# merge list feature inputs into one vector\n",
    "features = tf.keras.layers.concatenate(encoded_features)\n",
    "x = tf.keras.layers.Dense(units=64, activation=\"relu\")(features)\n",
    "x = tf.keras.layers.Dropout(rate=0.4)(x)\n",
    "x = tf.keras.layers.Dense(units=128, activation='relu')(x)\n",
    "x = tf.keras.layers.Dropout(rate=0.4)(x)\n",
    "x = tf.keras.layers.Dense(units=128, activation=\"relu\")(x)\n",
    "x = tf.keras.layers.Dropout(rate=0.4)(x)\n",
    "x = tf.keras.layers.Dense(units=64, activation='relu')(x)\n",
    "output = tf.keras.layers.Dense(units=1, activation='sigmoid')(x)\n",
    "model = tf.keras.Model(inputs, output)"
   ],
   "outputs": [],
   "metadata": {}
  },
  {
   "cell_type": "code",
   "execution_count": 66,
   "source": [
    "model.compile(optimizer='adam', \n",
    "              loss='binary_crossentropy', \n",
    "              metrics = ['accuracy'])\n",
    "\n",
    "result = model.fit(train_resampled_ds,\n",
    "                    validation_data=val_ds, \n",
    "                    epochs=100,\n",
    "                    verbose=1)"
   ],
   "outputs": [
    {
     "output_type": "stream",
     "name": "stdout",
     "text": [
      "Epoch 1/100\n",
      "65/65 [==============================] - 3s 18ms/step - loss: 0.6095 - accuracy: 0.6683 - val_loss: 0.5262 - val_accuracy: 0.7427\n",
      "Epoch 2/100\n",
      "65/65 [==============================] - 1s 11ms/step - loss: 0.5382 - accuracy: 0.7392 - val_loss: 0.5117 - val_accuracy: 0.7557\n",
      "Epoch 3/100\n",
      "65/65 [==============================] - 1s 12ms/step - loss: 0.5164 - accuracy: 0.7540 - val_loss: 0.5021 - val_accuracy: 0.7603\n",
      "Epoch 4/100\n",
      "65/65 [==============================] - 1s 13ms/step - loss: 0.5098 - accuracy: 0.7578 - val_loss: 0.5013 - val_accuracy: 0.7605\n",
      "Epoch 5/100\n",
      "65/65 [==============================] - 1s 12ms/step - loss: 0.5035 - accuracy: 0.7619 - val_loss: 0.5007 - val_accuracy: 0.7614\n",
      "Epoch 6/100\n",
      "65/65 [==============================] - 1s 11ms/step - loss: 0.5014 - accuracy: 0.7609 - val_loss: 0.4997 - val_accuracy: 0.7620\n",
      "Epoch 7/100\n",
      "65/65 [==============================] - 1s 11ms/step - loss: 0.4993 - accuracy: 0.7631 - val_loss: 0.5039 - val_accuracy: 0.7591\n",
      "Epoch 8/100\n",
      "65/65 [==============================] - 1s 12ms/step - loss: 0.4967 - accuracy: 0.7649 - val_loss: 0.4969 - val_accuracy: 0.7618\n",
      "Epoch 9/100\n",
      "65/65 [==============================] - 1s 12ms/step - loss: 0.4951 - accuracy: 0.7660 - val_loss: 0.4962 - val_accuracy: 0.7612\n",
      "Epoch 10/100\n",
      "65/65 [==============================] - 1s 11ms/step - loss: 0.4951 - accuracy: 0.7671 - val_loss: 0.5033 - val_accuracy: 0.7608\n",
      "Epoch 11/100\n",
      "65/65 [==============================] - 1s 11ms/step - loss: 0.4921 - accuracy: 0.7660 - val_loss: 0.4988 - val_accuracy: 0.7624\n",
      "Epoch 12/100\n",
      "65/65 [==============================] - 1s 12ms/step - loss: 0.4932 - accuracy: 0.7672 - val_loss: 0.4978 - val_accuracy: 0.7627\n",
      "Epoch 13/100\n",
      "65/65 [==============================] - 1s 12ms/step - loss: 0.4918 - accuracy: 0.7692 - val_loss: 0.4996 - val_accuracy: 0.7627\n",
      "Epoch 14/100\n",
      "65/65 [==============================] - 1s 14ms/step - loss: 0.4916 - accuracy: 0.7657 - val_loss: 0.5017 - val_accuracy: 0.7622\n",
      "Epoch 15/100\n",
      "65/65 [==============================] - 1s 12ms/step - loss: 0.4911 - accuracy: 0.7684 - val_loss: 0.5008 - val_accuracy: 0.7619\n",
      "Epoch 16/100\n",
      "65/65 [==============================] - 1s 13ms/step - loss: 0.4902 - accuracy: 0.7687 - val_loss: 0.4976 - val_accuracy: 0.7615\n",
      "Epoch 17/100\n",
      "65/65 [==============================] - 1s 11ms/step - loss: 0.4905 - accuracy: 0.7674 - val_loss: 0.4980 - val_accuracy: 0.7623\n",
      "Epoch 18/100\n",
      "65/65 [==============================] - 1s 12ms/step - loss: 0.4902 - accuracy: 0.7677 - val_loss: 0.5014 - val_accuracy: 0.7610\n",
      "Epoch 19/100\n",
      "65/65 [==============================] - 1s 13ms/step - loss: 0.4895 - accuracy: 0.7671 - val_loss: 0.4993 - val_accuracy: 0.7615\n",
      "Epoch 20/100\n",
      "65/65 [==============================] - 1s 12ms/step - loss: 0.4882 - accuracy: 0.7683 - val_loss: 0.5065 - val_accuracy: 0.7609\n",
      "Epoch 21/100\n",
      "65/65 [==============================] - 1s 13ms/step - loss: 0.4870 - accuracy: 0.7691 - val_loss: 0.5005 - val_accuracy: 0.7621\n",
      "Epoch 22/100\n",
      "65/65 [==============================] - 1s 12ms/step - loss: 0.4873 - accuracy: 0.7693 - val_loss: 0.4983 - val_accuracy: 0.7616\n",
      "Epoch 23/100\n",
      "65/65 [==============================] - 1s 12ms/step - loss: 0.4883 - accuracy: 0.7691 - val_loss: 0.4995 - val_accuracy: 0.7615\n",
      "Epoch 24/100\n",
      "65/65 [==============================] - 1s 12ms/step - loss: 0.4875 - accuracy: 0.7700 - val_loss: 0.4976 - val_accuracy: 0.7613\n",
      "Epoch 25/100\n",
      "65/65 [==============================] - 1s 12ms/step - loss: 0.4858 - accuracy: 0.7709 - val_loss: 0.5012 - val_accuracy: 0.7596\n",
      "Epoch 26/100\n",
      "65/65 [==============================] - 1s 12ms/step - loss: 0.4866 - accuracy: 0.7714 - val_loss: 0.5040 - val_accuracy: 0.7605\n",
      "Epoch 27/100\n",
      "65/65 [==============================] - 1s 12ms/step - loss: 0.4862 - accuracy: 0.7694 - val_loss: 0.4996 - val_accuracy: 0.7609\n",
      "Epoch 28/100\n",
      "65/65 [==============================] - 1s 13ms/step - loss: 0.4865 - accuracy: 0.7705 - val_loss: 0.5000 - val_accuracy: 0.7598\n",
      "Epoch 29/100\n",
      "65/65 [==============================] - 1s 14ms/step - loss: 0.4856 - accuracy: 0.7696 - val_loss: 0.4999 - val_accuracy: 0.7610\n",
      "Epoch 30/100\n",
      "65/65 [==============================] - 1s 11ms/step - loss: 0.4857 - accuracy: 0.7681 - val_loss: 0.5034 - val_accuracy: 0.7612\n",
      "Epoch 31/100\n",
      "65/65 [==============================] - 1s 11ms/step - loss: 0.4849 - accuracy: 0.7699 - val_loss: 0.4975 - val_accuracy: 0.7604\n",
      "Epoch 32/100\n",
      "65/65 [==============================] - 1s 11ms/step - loss: 0.4850 - accuracy: 0.7705 - val_loss: 0.5012 - val_accuracy: 0.7607\n",
      "Epoch 33/100\n",
      "65/65 [==============================] - 1s 14ms/step - loss: 0.4834 - accuracy: 0.7711 - val_loss: 0.4995 - val_accuracy: 0.7609\n",
      "Epoch 34/100\n",
      "65/65 [==============================] - 1s 14ms/step - loss: 0.4847 - accuracy: 0.7716 - val_loss: 0.5004 - val_accuracy: 0.7594\n",
      "Epoch 35/100\n",
      "65/65 [==============================] - 1s 14ms/step - loss: 0.4827 - accuracy: 0.7710 - val_loss: 0.5014 - val_accuracy: 0.7615\n",
      "Epoch 36/100\n",
      "65/65 [==============================] - 1s 12ms/step - loss: 0.4839 - accuracy: 0.7709 - val_loss: 0.5023 - val_accuracy: 0.7592\n",
      "Epoch 37/100\n",
      "65/65 [==============================] - 1s 14ms/step - loss: 0.4822 - accuracy: 0.7724 - val_loss: 0.4998 - val_accuracy: 0.7583\n",
      "Epoch 38/100\n",
      "65/65 [==============================] - 1s 14ms/step - loss: 0.4829 - accuracy: 0.7711 - val_loss: 0.5006 - val_accuracy: 0.7614\n",
      "Epoch 39/100\n",
      "65/65 [==============================] - 1s 15ms/step - loss: 0.4828 - accuracy: 0.7715 - val_loss: 0.4982 - val_accuracy: 0.7612\n",
      "Epoch 40/100\n",
      "65/65 [==============================] - 1s 12ms/step - loss: 0.4836 - accuracy: 0.7717 - val_loss: 0.5015 - val_accuracy: 0.7602\n",
      "Epoch 41/100\n",
      "65/65 [==============================] - 1s 12ms/step - loss: 0.4816 - accuracy: 0.7732 - val_loss: 0.5003 - val_accuracy: 0.7591\n",
      "Epoch 42/100\n",
      "65/65 [==============================] - 1s 12ms/step - loss: 0.4825 - accuracy: 0.7714 - val_loss: 0.4973 - val_accuracy: 0.7601\n",
      "Epoch 43/100\n",
      "65/65 [==============================] - 1s 13ms/step - loss: 0.4813 - accuracy: 0.7732 - val_loss: 0.5009 - val_accuracy: 0.7588\n",
      "Epoch 44/100\n",
      "65/65 [==============================] - 1s 12ms/step - loss: 0.4813 - accuracy: 0.7731 - val_loss: 0.4993 - val_accuracy: 0.7594\n",
      "Epoch 45/100\n",
      "65/65 [==============================] - 1s 14ms/step - loss: 0.4817 - accuracy: 0.7718 - val_loss: 0.5014 - val_accuracy: 0.7597\n",
      "Epoch 46/100\n",
      "65/65 [==============================] - 1s 12ms/step - loss: 0.4809 - accuracy: 0.7742 - val_loss: 0.5000 - val_accuracy: 0.7591\n",
      "Epoch 47/100\n",
      "65/65 [==============================] - 1s 13ms/step - loss: 0.4812 - accuracy: 0.7719 - val_loss: 0.4980 - val_accuracy: 0.7591\n",
      "Epoch 48/100\n",
      "65/65 [==============================] - 1s 12ms/step - loss: 0.4805 - accuracy: 0.7733 - val_loss: 0.5023 - val_accuracy: 0.7578\n",
      "Epoch 49/100\n",
      "65/65 [==============================] - 1s 12ms/step - loss: 0.4808 - accuracy: 0.7715 - val_loss: 0.5008 - val_accuracy: 0.7599\n",
      "Epoch 50/100\n",
      "65/65 [==============================] - 1s 13ms/step - loss: 0.4807 - accuracy: 0.7709 - val_loss: 0.5025 - val_accuracy: 0.7567\n",
      "Epoch 51/100\n",
      "65/65 [==============================] - 1s 13ms/step - loss: 0.4799 - accuracy: 0.7733 - val_loss: 0.5003 - val_accuracy: 0.7585\n",
      "Epoch 52/100\n",
      "65/65 [==============================] - 1s 15ms/step - loss: 0.4802 - accuracy: 0.7722 - val_loss: 0.5048 - val_accuracy: 0.7561\n",
      "Epoch 53/100\n",
      "65/65 [==============================] - 1s 17ms/step - loss: 0.4796 - accuracy: 0.7737 - val_loss: 0.4985 - val_accuracy: 0.7608\n",
      "Epoch 54/100\n",
      "65/65 [==============================] - 1s 16ms/step - loss: 0.4792 - accuracy: 0.7719 - val_loss: 0.5042 - val_accuracy: 0.7585\n",
      "Epoch 55/100\n",
      "65/65 [==============================] - 1s 13ms/step - loss: 0.4796 - accuracy: 0.7718 - val_loss: 0.5025 - val_accuracy: 0.7584\n",
      "Epoch 56/100\n",
      "65/65 [==============================] - 1s 13ms/step - loss: 0.4793 - accuracy: 0.7718 - val_loss: 0.5021 - val_accuracy: 0.7571\n",
      "Epoch 57/100\n",
      "65/65 [==============================] - 1s 12ms/step - loss: 0.4796 - accuracy: 0.7736 - val_loss: 0.4982 - val_accuracy: 0.7598\n",
      "Epoch 58/100\n",
      "65/65 [==============================] - 1s 12ms/step - loss: 0.4797 - accuracy: 0.7735 - val_loss: 0.5010 - val_accuracy: 0.7577\n",
      "Epoch 59/100\n",
      "65/65 [==============================] - 1s 12ms/step - loss: 0.4792 - accuracy: 0.7747 - val_loss: 0.5045 - val_accuracy: 0.7566\n",
      "Epoch 60/100\n",
      "65/65 [==============================] - 1s 12ms/step - loss: 0.4778 - accuracy: 0.7737 - val_loss: 0.4998 - val_accuracy: 0.7586\n",
      "Epoch 61/100\n",
      "65/65 [==============================] - 1s 16ms/step - loss: 0.4797 - accuracy: 0.7731 - val_loss: 0.5030 - val_accuracy: 0.7570\n",
      "Epoch 62/100\n",
      "65/65 [==============================] - 1s 17ms/step - loss: 0.4794 - accuracy: 0.7729 - val_loss: 0.5010 - val_accuracy: 0.7595\n",
      "Epoch 63/100\n",
      "65/65 [==============================] - 1s 19ms/step - loss: 0.4772 - accuracy: 0.7723 - val_loss: 0.4994 - val_accuracy: 0.7597\n",
      "Epoch 64/100\n",
      "65/65 [==============================] - 1s 17ms/step - loss: 0.4774 - accuracy: 0.7754 - val_loss: 0.5052 - val_accuracy: 0.7585\n",
      "Epoch 65/100\n",
      "65/65 [==============================] - 2s 22ms/step - loss: 0.4772 - accuracy: 0.7723 - val_loss: 0.5041 - val_accuracy: 0.7585\n",
      "Epoch 66/100\n",
      "65/65 [==============================] - 1s 15ms/step - loss: 0.4769 - accuracy: 0.7747 - val_loss: 0.5024 - val_accuracy: 0.7601\n",
      "Epoch 67/100\n",
      "65/65 [==============================] - 1s 14ms/step - loss: 0.4767 - accuracy: 0.7749 - val_loss: 0.5013 - val_accuracy: 0.7603\n",
      "Epoch 68/100\n",
      "65/65 [==============================] - 1s 13ms/step - loss: 0.4763 - accuracy: 0.7740 - val_loss: 0.5023 - val_accuracy: 0.7567\n",
      "Epoch 69/100\n",
      "65/65 [==============================] - 1s 13ms/step - loss: 0.4778 - accuracy: 0.7759 - val_loss: 0.5055 - val_accuracy: 0.7534\n",
      "Epoch 70/100\n",
      "65/65 [==============================] - 1s 13ms/step - loss: 0.4766 - accuracy: 0.7754 - val_loss: 0.5014 - val_accuracy: 0.7580\n",
      "Epoch 71/100\n",
      "65/65 [==============================] - 1s 12ms/step - loss: 0.4770 - accuracy: 0.7735 - val_loss: 0.4992 - val_accuracy: 0.7586\n",
      "Epoch 72/100\n",
      "65/65 [==============================] - 1s 12ms/step - loss: 0.4764 - accuracy: 0.7755 - val_loss: 0.4996 - val_accuracy: 0.7574\n",
      "Epoch 73/100\n",
      "65/65 [==============================] - 1s 12ms/step - loss: 0.4760 - accuracy: 0.7765 - val_loss: 0.4990 - val_accuracy: 0.7583\n",
      "Epoch 74/100\n",
      "65/65 [==============================] - 1s 13ms/step - loss: 0.4767 - accuracy: 0.7739 - val_loss: 0.5036 - val_accuracy: 0.7560\n",
      "Epoch 75/100\n",
      "65/65 [==============================] - 1s 14ms/step - loss: 0.4766 - accuracy: 0.7730 - val_loss: 0.5054 - val_accuracy: 0.7551\n",
      "Epoch 76/100\n",
      "65/65 [==============================] - 1s 16ms/step - loss: 0.4765 - accuracy: 0.7745 - val_loss: 0.5008 - val_accuracy: 0.7584\n",
      "Epoch 77/100\n",
      "65/65 [==============================] - 1s 14ms/step - loss: 0.4760 - accuracy: 0.7749 - val_loss: 0.5001 - val_accuracy: 0.7587\n",
      "Epoch 78/100\n",
      "65/65 [==============================] - 2s 22ms/step - loss: 0.4764 - accuracy: 0.7754 - val_loss: 0.5017 - val_accuracy: 0.7602\n",
      "Epoch 79/100\n",
      "65/65 [==============================] - 2s 19ms/step - loss: 0.4756 - accuracy: 0.7741 - val_loss: 0.5038 - val_accuracy: 0.7549\n",
      "Epoch 80/100\n",
      "65/65 [==============================] - 2s 21ms/step - loss: 0.4761 - accuracy: 0.7742 - val_loss: 0.5028 - val_accuracy: 0.7571\n",
      "Epoch 81/100\n",
      "65/65 [==============================] - 2s 25ms/step - loss: 0.4750 - accuracy: 0.7767 - val_loss: 0.5009 - val_accuracy: 0.7559\n",
      "Epoch 82/100\n",
      "65/65 [==============================] - 2s 24ms/step - loss: 0.4742 - accuracy: 0.7774 - val_loss: 0.4997 - val_accuracy: 0.7573\n",
      "Epoch 83/100\n",
      "65/65 [==============================] - 1s 18ms/step - loss: 0.4749 - accuracy: 0.7741 - val_loss: 0.5002 - val_accuracy: 0.7585\n",
      "Epoch 84/100\n",
      "65/65 [==============================] - 2s 25ms/step - loss: 0.4752 - accuracy: 0.7759 - val_loss: 0.5020 - val_accuracy: 0.7577\n",
      "Epoch 85/100\n",
      "65/65 [==============================] - 2s 23ms/step - loss: 0.4745 - accuracy: 0.7754 - val_loss: 0.5017 - val_accuracy: 0.7571\n",
      "Epoch 86/100\n",
      "65/65 [==============================] - 1s 14ms/step - loss: 0.4761 - accuracy: 0.7743 - val_loss: 0.5048 - val_accuracy: 0.7535\n",
      "Epoch 87/100\n",
      "65/65 [==============================] - 1s 16ms/step - loss: 0.4737 - accuracy: 0.7778 - val_loss: 0.5033 - val_accuracy: 0.7548\n",
      "Epoch 88/100\n",
      "65/65 [==============================] - 1s 16ms/step - loss: 0.4754 - accuracy: 0.7765 - val_loss: 0.5041 - val_accuracy: 0.7554\n",
      "Epoch 89/100\n",
      "65/65 [==============================] - 2s 20ms/step - loss: 0.4747 - accuracy: 0.7752 - val_loss: 0.5021 - val_accuracy: 0.7549\n",
      "Epoch 90/100\n",
      "65/65 [==============================] - 2s 21ms/step - loss: 0.4740 - accuracy: 0.7745 - val_loss: 0.5037 - val_accuracy: 0.7566\n",
      "Epoch 91/100\n",
      "65/65 [==============================] - 2s 20ms/step - loss: 0.4749 - accuracy: 0.7765 - val_loss: 0.5022 - val_accuracy: 0.7555\n",
      "Epoch 92/100\n",
      "65/65 [==============================] - 2s 20ms/step - loss: 0.4734 - accuracy: 0.7765 - val_loss: 0.4994 - val_accuracy: 0.7573\n",
      "Epoch 93/100\n",
      "65/65 [==============================] - 2s 19ms/step - loss: 0.4736 - accuracy: 0.7766 - val_loss: 0.5017 - val_accuracy: 0.7575\n",
      "Epoch 94/100\n",
      "65/65 [==============================] - 2s 29ms/step - loss: 0.4748 - accuracy: 0.7754 - val_loss: 0.5002 - val_accuracy: 0.7571\n",
      "Epoch 95/100\n",
      "65/65 [==============================] - 2s 21ms/step - loss: 0.4741 - accuracy: 0.7766 - val_loss: 0.5029 - val_accuracy: 0.7566\n",
      "Epoch 96/100\n",
      "65/65 [==============================] - 2s 18ms/step - loss: 0.4732 - accuracy: 0.7774 - val_loss: 0.5047 - val_accuracy: 0.7566\n",
      "Epoch 97/100\n",
      "65/65 [==============================] - 2s 21ms/step - loss: 0.4729 - accuracy: 0.7766 - val_loss: 0.5046 - val_accuracy: 0.7533\n",
      "Epoch 98/100\n",
      "65/65 [==============================] - 2s 21ms/step - loss: 0.4731 - accuracy: 0.7771 - val_loss: 0.5048 - val_accuracy: 0.7538\n",
      "Epoch 99/100\n",
      "65/65 [==============================] - 2s 20ms/step - loss: 0.4734 - accuracy: 0.7762 - val_loss: 0.5011 - val_accuracy: 0.7554\n",
      "Epoch 100/100\n",
      "65/65 [==============================] - 2s 23ms/step - loss: 0.4733 - accuracy: 0.7766 - val_loss: 0.5070 - val_accuracy: 0.7498\n"
     ]
    }
   ],
   "metadata": {}
  },
  {
   "cell_type": "code",
   "execution_count": 67,
   "source": [
    "plt.plot(result.history['loss'], label='loss')\n",
    "plt.plot(result.history['val_loss'], label='val_loss')\n",
    "plt.legend()"
   ],
   "outputs": [
    {
     "output_type": "execute_result",
     "data": {
      "text/plain": [
       "<matplotlib.legend.Legend at 0x1388d8ead10>"
      ]
     },
     "metadata": {},
     "execution_count": 67
    },
    {
     "output_type": "display_data",
     "data": {
      "image/png": "[encoded data removed]",
      "text/plain": [
       "<Figure size 640x480 with 1 Axes>"
      ]
     },
     "metadata": {}
    }
   ],
   "metadata": {}
  },
  {
   "cell_type": "code",
   "execution_count": 68,
   "source": [
    "train_resampled_ds= df_to_dataset(X_train_resampled, y_train_resampled)\n",
    "#val_ds= df_to_dataset(X_val_resampled, y_val_resampled)\n",
    "val_ds = df_to_dataset(X_val, y_val)\n",
    "test_ds= df_to_dataset(X_test, y_test)"
   ],
   "outputs": [],
   "metadata": {}
  },
  {
   "cell_type": "code",
   "execution_count": 69,
   "source": [
    "inputs = []\n",
    "encoded_features =[]\n",
    "\n",
    "# numerical\n",
    "for header in [\"bmi\", \"physicalHealth\", \"mentalHealth\", 'sleepHours' ]:\n",
    "    num_col = tf.keras.Input(shape=(1,), name=header)\n",
    "    # keras inputs array\n",
    "    inputs.append(num_col)\n",
    "\n",
    "    norm_layer = get_normalization_layer(feature_name=header, dataset=train_resampled_ds)\n",
    "    encoded_num_col = norm_layer(num_col)\n",
    "    # encoded feature\n",
    "    encoded_features.append(encoded_num_col)\n",
    "\n",
    "# categorical\n",
    "for header in [\"smoking\",\"alcoholDrinking\",\"stroke\",\"diffWalk\",\n",
    "                \"sex\", \"ageGroup\", \"diabetic\", \"physicalActivity\", \n",
    "                \"overallHealth\", \"asthma\", \"kidneyDisease\", \"skinCancer\"]:\n",
    "    \n",
    "    # declare header as a keras Input\n",
    "    cat_col = tf.keras.Input(shape=(1,), name=header, dtype='string')\n",
    "    # keras inputs array\n",
    "    inputs.append(cat_col)\n",
    "\n",
    "    # get preprocessing layer \n",
    "    cat_layer = get_category_encoding_layer(feature_name=header,\n",
    "                                            dataset=train_resampled_ds, \n",
    "                                            dtype='string', \n",
    "                                            max_tokens=None)\n",
    "    encoded_cat_col = cat_layer(cat_col)\n",
    "    # encoded feature\n",
    "    encoded_features.append(encoded_cat_col)"
   ],
   "outputs": [],
   "metadata": {}
  },
  {
   "cell_type": "code",
   "execution_count": 70,
   "source": [
    "# KERAS FUNCTIONAL API - MODEL BUILD   \n",
    "# merge list feature inputs into one vector\n",
    "features = tf.keras.layers.concatenate(encoded_features)\n",
    "x = tf.keras.layers.Dense(units=64, activation=\"relu\")(features)\n",
    "x = tf.keras.layers.Dropout(rate=0.4)(x)\n",
    "x = tf.keras.layers.Dense(units=128, activation='relu')(x)\n",
    "x = tf.keras.layers.Dropout(rate=0.4)(x)\n",
    "x = tf.keras.layers.Dense(units=128, activation=\"relu\")(x)\n",
    "x = tf.keras.layers.Dropout(rate=0.4)(x)\n",
    "x = tf.keras.layers.Dense(units=64, activation='relu')(x)\n",
    "output = tf.keras.layers.Dense(units=1, activation='sigmoid')(x)\n",
    "model = tf.keras.Model(inputs, output)"
   ],
   "outputs": [],
   "metadata": {}
  },
  {
   "cell_type": "code",
   "execution_count": 71,
   "source": [
    "model.compile(optimizer='adam', \n",
    "              loss='binary_crossentropy', \n",
    "              metrics = ['accuracy'])\n",
    "\n",
    "result = model.fit(train_resampled_ds,\n",
    "                    validation_data=val_ds, \n",
    "                    epochs=100,\n",
    "                    verbose=1)"
   ],
   "outputs": [
    {
     "output_type": "stream",
     "name": "stdout",
     "text": [
      "Epoch 1/100\n",
      "65/65 [==============================] - 5s 59ms/step - loss: 0.6203 - accuracy: 0.6526 - val_loss: 0.4976 - val_accuracy: 0.7389\n",
      "Epoch 2/100\n",
      "65/65 [==============================] - 3s 42ms/step - loss: 0.5409 - accuracy: 0.7384 - val_loss: 0.4830 - val_accuracy: 0.7327\n",
      "Epoch 3/100\n",
      "65/65 [==============================] - 3s 45ms/step - loss: 0.5199 - accuracy: 0.7526 - val_loss: 0.4801 - val_accuracy: 0.7233\n",
      "Epoch 4/100\n",
      "65/65 [==============================] - 3s 37ms/step - loss: 0.5111 - accuracy: 0.7578 - val_loss: 0.4770 - val_accuracy: 0.7103\n",
      "Epoch 5/100\n",
      "65/65 [==============================] - 3s 37ms/step - loss: 0.5045 - accuracy: 0.7579 - val_loss: 0.5018 - val_accuracy: 0.7069\n",
      "Epoch 6/100\n",
      "65/65 [==============================] - 3s 37ms/step - loss: 0.5016 - accuracy: 0.7612 - val_loss: 0.4958 - val_accuracy: 0.7076\n",
      "Epoch 7/100\n",
      "65/65 [==============================] - 3s 37ms/step - loss: 0.4990 - accuracy: 0.7604 - val_loss: 0.5014 - val_accuracy: 0.7044\n",
      "Epoch 8/100\n",
      "65/65 [==============================] - 3s 36ms/step - loss: 0.4960 - accuracy: 0.7647 - val_loss: 0.4725 - val_accuracy: 0.7148\n",
      "Epoch 9/100\n",
      "65/65 [==============================] - 3s 36ms/step - loss: 0.4965 - accuracy: 0.7635 - val_loss: 0.4778 - val_accuracy: 0.7117\n",
      "Epoch 10/100\n",
      "65/65 [==============================] - 3s 37ms/step - loss: 0.4935 - accuracy: 0.7665 - val_loss: 0.4541 - val_accuracy: 0.7381\n",
      "Epoch 11/100\n",
      "65/65 [==============================] - 3s 36ms/step - loss: 0.4955 - accuracy: 0.7677 - val_loss: 0.4735 - val_accuracy: 0.7131\n",
      "Epoch 12/100\n",
      "65/65 [==============================] - 3s 37ms/step - loss: 0.4929 - accuracy: 0.7657 - val_loss: 0.4681 - val_accuracy: 0.7308\n",
      "Epoch 13/100\n",
      "65/65 [==============================] - 2s 36ms/step - loss: 0.4915 - accuracy: 0.7674 - val_loss: 0.4563 - val_accuracy: 0.7380\n",
      "Epoch 14/100\n",
      "65/65 [==============================] - 2s 35ms/step - loss: 0.4922 - accuracy: 0.7646 - val_loss: 0.4775 - val_accuracy: 0.7335\n",
      "Epoch 15/100\n",
      "65/65 [==============================] - 3s 36ms/step - loss: 0.4911 - accuracy: 0.7687 - val_loss: 0.4628 - val_accuracy: 0.7245\n",
      "Epoch 16/100\n",
      "65/65 [==============================] - 2s 36ms/step - loss: 0.4905 - accuracy: 0.7658 - val_loss: 0.4731 - val_accuracy: 0.7377\n",
      "Epoch 17/100\n",
      "65/65 [==============================] - 2s 36ms/step - loss: 0.4903 - accuracy: 0.7675 - val_loss: 0.4838 - val_accuracy: 0.7256\n",
      "Epoch 18/100\n",
      "65/65 [==============================] - 3s 36ms/step - loss: 0.4898 - accuracy: 0.7683 - val_loss: 0.4767 - val_accuracy: 0.7214\n",
      "Epoch 19/100\n",
      "65/65 [==============================] - 3s 36ms/step - loss: 0.4889 - accuracy: 0.7694 - val_loss: 0.4852 - val_accuracy: 0.7279\n",
      "Epoch 20/100\n",
      "65/65 [==============================] - 3s 36ms/step - loss: 0.4893 - accuracy: 0.7681 - val_loss: 0.4901 - val_accuracy: 0.7325\n",
      "Epoch 21/100\n",
      "65/65 [==============================] - 3s 36ms/step - loss: 0.4885 - accuracy: 0.7694 - val_loss: 0.5050 - val_accuracy: 0.6982\n",
      "Epoch 22/100\n",
      "65/65 [==============================] - 2s 36ms/step - loss: 0.4869 - accuracy: 0.7683 - val_loss: 0.4937 - val_accuracy: 0.7283\n",
      "Epoch 23/100\n",
      "65/65 [==============================] - 4s 54ms/step - loss: 0.4871 - accuracy: 0.7695 - val_loss: 0.4675 - val_accuracy: 0.7394\n",
      "Epoch 24/100\n",
      "65/65 [==============================] - 3s 39ms/step - loss: 0.4860 - accuracy: 0.7707 - val_loss: 0.4786 - val_accuracy: 0.7237\n",
      "Epoch 25/100\n",
      "65/65 [==============================] - 3s 36ms/step - loss: 0.4871 - accuracy: 0.7708 - val_loss: 0.4696 - val_accuracy: 0.7404\n",
      "Epoch 26/100\n",
      "65/65 [==============================] - 2s 36ms/step - loss: 0.4871 - accuracy: 0.7702 - val_loss: 0.4668 - val_accuracy: 0.7516\n",
      "Epoch 27/100\n",
      "65/65 [==============================] - 3s 36ms/step - loss: 0.4862 - accuracy: 0.7701 - val_loss: 0.4847 - val_accuracy: 0.7397\n",
      "Epoch 28/100\n",
      "65/65 [==============================] - 3s 37ms/step - loss: 0.4864 - accuracy: 0.7700 - val_loss: 0.4762 - val_accuracy: 0.7342\n",
      "Epoch 29/100\n",
      "65/65 [==============================] - 3s 37ms/step - loss: 0.4859 - accuracy: 0.7696 - val_loss: 0.4634 - val_accuracy: 0.7482\n",
      "Epoch 30/100\n",
      "65/65 [==============================] - 3s 36ms/step - loss: 0.4842 - accuracy: 0.7709 - val_loss: 0.4565 - val_accuracy: 0.7543\n",
      "Epoch 31/100\n",
      "65/65 [==============================] - 3s 39ms/step - loss: 0.4849 - accuracy: 0.7709 - val_loss: 0.4502 - val_accuracy: 0.7622\n",
      "Epoch 32/100\n",
      "65/65 [==============================] - 3s 36ms/step - loss: 0.4845 - accuracy: 0.7698 - val_loss: 0.4629 - val_accuracy: 0.7548\n",
      "Epoch 33/100\n",
      "65/65 [==============================] - 2s 36ms/step - loss: 0.4841 - accuracy: 0.7716 - val_loss: 0.4666 - val_accuracy: 0.7474\n",
      "Epoch 34/100\n",
      "65/65 [==============================] - 3s 37ms/step - loss: 0.4842 - accuracy: 0.7695 - val_loss: 0.4878 - val_accuracy: 0.7400\n",
      "Epoch 35/100\n",
      "65/65 [==============================] - 2s 36ms/step - loss: 0.4833 - accuracy: 0.7708 - val_loss: 0.4779 - val_accuracy: 0.7470\n",
      "Epoch 36/100\n",
      "65/65 [==============================] - 3s 37ms/step - loss: 0.4843 - accuracy: 0.7708 - val_loss: 0.4598 - val_accuracy: 0.7605\n",
      "Epoch 37/100\n",
      "65/65 [==============================] - 2s 36ms/step - loss: 0.4836 - accuracy: 0.7724 - val_loss: 0.4858 - val_accuracy: 0.7230\n",
      "Epoch 38/100\n",
      "65/65 [==============================] - 3s 37ms/step - loss: 0.4815 - accuracy: 0.7728 - val_loss: 0.4620 - val_accuracy: 0.7477\n",
      "Epoch 39/100\n",
      "65/65 [==============================] - 3s 37ms/step - loss: 0.4835 - accuracy: 0.7716 - val_loss: 0.4711 - val_accuracy: 0.7470\n",
      "Epoch 40/100\n",
      "65/65 [==============================] - 3s 37ms/step - loss: 0.4831 - accuracy: 0.7725 - val_loss: 0.4801 - val_accuracy: 0.7262\n",
      "Epoch 41/100\n",
      "65/65 [==============================] - 3s 37ms/step - loss: 0.4811 - accuracy: 0.7703 - val_loss: 0.4820 - val_accuracy: 0.7349\n",
      "Epoch 42/100\n",
      "65/65 [==============================] - 3s 39ms/step - loss: 0.4819 - accuracy: 0.7708 - val_loss: 0.4624 - val_accuracy: 0.7503\n",
      "Epoch 43/100\n",
      "65/65 [==============================] - 3s 39ms/step - loss: 0.4814 - accuracy: 0.7705 - val_loss: 0.4762 - val_accuracy: 0.7256\n",
      "Epoch 44/100\n",
      "65/65 [==============================] - 3s 38ms/step - loss: 0.4820 - accuracy: 0.7726 - val_loss: 0.4824 - val_accuracy: 0.7340\n",
      "Epoch 45/100\n",
      "65/65 [==============================] - 3s 42ms/step - loss: 0.4813 - accuracy: 0.7729 - val_loss: 0.4607 - val_accuracy: 0.7591\n",
      "Epoch 46/100\n",
      "65/65 [==============================] - 3s 40ms/step - loss: 0.4800 - accuracy: 0.7727 - val_loss: 0.4838 - val_accuracy: 0.7380\n",
      "Epoch 47/100\n",
      "65/65 [==============================] - 3s 40ms/step - loss: 0.4807 - accuracy: 0.7710 - val_loss: 0.4598 - val_accuracy: 0.7709\n",
      "Epoch 48/100\n",
      "65/65 [==============================] - 3s 39ms/step - loss: 0.4823 - accuracy: 0.7716 - val_loss: 0.4775 - val_accuracy: 0.7430\n",
      "Epoch 49/100\n",
      "65/65 [==============================] - 3s 45ms/step - loss: 0.4797 - accuracy: 0.7735 - val_loss: 0.4786 - val_accuracy: 0.7434\n",
      "Epoch 50/100\n",
      "65/65 [==============================] - 3s 41ms/step - loss: 0.4806 - accuracy: 0.7727 - val_loss: 0.4713 - val_accuracy: 0.7445\n",
      "Epoch 51/100\n",
      "65/65 [==============================] - 3s 41ms/step - loss: 0.4806 - accuracy: 0.7728 - val_loss: 0.4842 - val_accuracy: 0.7513\n",
      "Epoch 52/100\n",
      "65/65 [==============================] - 3s 40ms/step - loss: 0.4809 - accuracy: 0.7711 - val_loss: 0.4739 - val_accuracy: 0.7510\n",
      "Epoch 53/100\n",
      "65/65 [==============================] - 3s 44ms/step - loss: 0.4783 - accuracy: 0.7731 - val_loss: 0.4784 - val_accuracy: 0.7476\n",
      "Epoch 54/100\n",
      "65/65 [==============================] - 3s 42ms/step - loss: 0.4805 - accuracy: 0.7711 - val_loss: 0.4863 - val_accuracy: 0.7378\n",
      "Epoch 55/100\n",
      "65/65 [==============================] - 3s 42ms/step - loss: 0.4797 - accuracy: 0.7735 - val_loss: 0.4606 - val_accuracy: 0.7606\n",
      "Epoch 56/100\n",
      "65/65 [==============================] - 3s 43ms/step - loss: 0.4794 - accuracy: 0.7734 - val_loss: 0.4792 - val_accuracy: 0.7430\n",
      "Epoch 57/100\n",
      "65/65 [==============================] - 3s 43ms/step - loss: 0.4802 - accuracy: 0.7716 - val_loss: 0.4409 - val_accuracy: 0.7779\n",
      "Epoch 58/100\n",
      "65/65 [==============================] - 3s 44ms/step - loss: 0.4781 - accuracy: 0.7737 - val_loss: 0.4679 - val_accuracy: 0.7495\n",
      "Epoch 59/100\n",
      "65/65 [==============================] - 3s 42ms/step - loss: 0.4798 - accuracy: 0.7722 - val_loss: 0.4847 - val_accuracy: 0.7364\n",
      "Epoch 60/100\n",
      "65/65 [==============================] - 3s 43ms/step - loss: 0.4783 - accuracy: 0.7737 - val_loss: 0.4707 - val_accuracy: 0.7526\n",
      "Epoch 61/100\n",
      "65/65 [==============================] - 3s 43ms/step - loss: 0.4788 - accuracy: 0.7721 - val_loss: 0.4781 - val_accuracy: 0.7428\n",
      "Epoch 62/100\n",
      "65/65 [==============================] - 3s 42ms/step - loss: 0.4791 - accuracy: 0.7712 - val_loss: 0.4855 - val_accuracy: 0.7275\n",
      "Epoch 63/100\n",
      "65/65 [==============================] - 3s 43ms/step - loss: 0.4785 - accuracy: 0.7727 - val_loss: 0.4527 - val_accuracy: 0.7571\n",
      "Epoch 64/100\n",
      "65/65 [==============================] - 3s 43ms/step - loss: 0.4784 - accuracy: 0.7706 - val_loss: 0.4688 - val_accuracy: 0.7348\n",
      "Epoch 65/100\n",
      "65/65 [==============================] - 3s 44ms/step - loss: 0.4785 - accuracy: 0.7737 - val_loss: 0.4633 - val_accuracy: 0.7598\n",
      "Epoch 66/100\n",
      "65/65 [==============================] - 3s 43ms/step - loss: 0.4784 - accuracy: 0.7730 - val_loss: 0.4870 - val_accuracy: 0.7202\n",
      "Epoch 67/100\n",
      "65/65 [==============================] - 3s 43ms/step - loss: 0.4785 - accuracy: 0.7724 - val_loss: 0.4870 - val_accuracy: 0.7366\n",
      "Epoch 68/100\n",
      "65/65 [==============================] - 3s 42ms/step - loss: 0.4779 - accuracy: 0.7749 - val_loss: 0.4895 - val_accuracy: 0.7170\n",
      "Epoch 69/100\n",
      "65/65 [==============================] - 3s 42ms/step - loss: 0.4773 - accuracy: 0.7733 - val_loss: 0.4760 - val_accuracy: 0.7460\n",
      "Epoch 70/100\n",
      "65/65 [==============================] - 3s 43ms/step - loss: 0.4782 - accuracy: 0.7725 - val_loss: 0.4803 - val_accuracy: 0.7376\n",
      "Epoch 71/100\n",
      "65/65 [==============================] - 3s 43ms/step - loss: 0.4772 - accuracy: 0.7746 - val_loss: 0.4555 - val_accuracy: 0.7642\n",
      "Epoch 72/100\n",
      "65/65 [==============================] - 3s 43ms/step - loss: 0.4776 - accuracy: 0.7732 - val_loss: 0.4606 - val_accuracy: 0.7570\n",
      "Epoch 73/100\n",
      "65/65 [==============================] - 3s 44ms/step - loss: 0.4764 - accuracy: 0.7748 - val_loss: 0.4777 - val_accuracy: 0.7473\n",
      "Epoch 74/100\n",
      "65/65 [==============================] - 3s 43ms/step - loss: 0.4777 - accuracy: 0.7742 - val_loss: 0.4550 - val_accuracy: 0.7594\n",
      "Epoch 75/100\n",
      "65/65 [==============================] - 4s 53ms/step - loss: 0.4765 - accuracy: 0.7730 - val_loss: 0.4837 - val_accuracy: 0.7361\n",
      "Epoch 76/100\n",
      "65/65 [==============================] - 5s 68ms/step - loss: 0.4762 - accuracy: 0.7750 - val_loss: 0.4611 - val_accuracy: 0.7465\n",
      "Epoch 77/100\n",
      "65/65 [==============================] - 6s 82ms/step - loss: 0.4752 - accuracy: 0.7747 - val_loss: 0.4873 - val_accuracy: 0.7355\n",
      "Epoch 78/100\n",
      "65/65 [==============================] - 5s 77ms/step - loss: 0.4760 - accuracy: 0.7739 - val_loss: 0.4671 - val_accuracy: 0.7576\n",
      "Epoch 79/100\n",
      "65/65 [==============================] - 6s 81ms/step - loss: 0.4756 - accuracy: 0.7745 - val_loss: 0.4623 - val_accuracy: 0.7651\n",
      "Epoch 80/100\n",
      "65/65 [==============================] - 6s 94ms/step - loss: 0.4763 - accuracy: 0.7737 - val_loss: 0.4728 - val_accuracy: 0.7420\n",
      "Epoch 81/100\n",
      "65/65 [==============================] - 5s 70ms/step - loss: 0.4768 - accuracy: 0.7754 - val_loss: 0.4737 - val_accuracy: 0.7385\n",
      "Epoch 82/100\n",
      "65/65 [==============================] - 8s 119ms/step - loss: 0.4762 - accuracy: 0.7752 - val_loss: 0.4808 - val_accuracy: 0.7450\n",
      "Epoch 83/100\n",
      "65/65 [==============================] - 6s 82ms/step - loss: 0.4754 - accuracy: 0.7747 - val_loss: 0.4786 - val_accuracy: 0.7462\n",
      "Epoch 84/100\n",
      "65/65 [==============================] - 5s 73ms/step - loss: 0.4735 - accuracy: 0.7753 - val_loss: 0.4910 - val_accuracy: 0.7327\n",
      "Epoch 85/100\n",
      "65/65 [==============================] - 5s 74ms/step - loss: 0.4736 - accuracy: 0.7751 - val_loss: 0.4773 - val_accuracy: 0.7382\n",
      "Epoch 86/100\n",
      "65/65 [==============================] - 5s 76ms/step - loss: 0.4751 - accuracy: 0.7750 - val_loss: 0.4840 - val_accuracy: 0.7415\n",
      "Epoch 87/100\n",
      "65/65 [==============================] - 6s 87ms/step - loss: 0.4764 - accuracy: 0.7758 - val_loss: 0.4570 - val_accuracy: 0.7650\n",
      "Epoch 88/100\n",
      "65/65 [==============================] - 4s 59ms/step - loss: 0.4737 - accuracy: 0.7754 - val_loss: 0.4804 - val_accuracy: 0.7454\n",
      "Epoch 89/100\n",
      "65/65 [==============================] - 3s 42ms/step - loss: 0.4749 - accuracy: 0.7736 - val_loss: 0.4588 - val_accuracy: 0.7669\n",
      "Epoch 90/100\n",
      "65/65 [==============================] - 3s 48ms/step - loss: 0.4739 - accuracy: 0.7756 - val_loss: 0.4591 - val_accuracy: 0.7667\n",
      "Epoch 91/100\n",
      "65/65 [==============================] - 3s 44ms/step - loss: 0.4753 - accuracy: 0.7748 - val_loss: 0.4768 - val_accuracy: 0.7536\n",
      "Epoch 92/100\n",
      "65/65 [==============================] - 3s 42ms/step - loss: 0.4749 - accuracy: 0.7743 - val_loss: 0.4767 - val_accuracy: 0.7407\n",
      "Epoch 93/100\n",
      "65/65 [==============================] - 3s 43ms/step - loss: 0.4754 - accuracy: 0.7739 - val_loss: 0.4717 - val_accuracy: 0.7569\n",
      "Epoch 94/100\n",
      "65/65 [==============================] - 3s 45ms/step - loss: 0.4740 - accuracy: 0.7755 - val_loss: 0.4799 - val_accuracy: 0.7522\n",
      "Epoch 95/100\n",
      "65/65 [==============================] - 3s 43ms/step - loss: 0.4758 - accuracy: 0.7763 - val_loss: 0.4858 - val_accuracy: 0.7433\n",
      "Epoch 96/100\n",
      "65/65 [==============================] - 3s 47ms/step - loss: 0.4740 - accuracy: 0.7751 - val_loss: 0.4813 - val_accuracy: 0.7577\n",
      "Epoch 97/100\n",
      "65/65 [==============================] - 3s 44ms/step - loss: 0.4729 - accuracy: 0.7769 - val_loss: 0.4753 - val_accuracy: 0.7418\n",
      "Epoch 98/100\n",
      "65/65 [==============================] - 3s 42ms/step - loss: 0.4732 - accuracy: 0.7734 - val_loss: 0.4987 - val_accuracy: 0.7251\n",
      "Epoch 99/100\n",
      "65/65 [==============================] - 3s 44ms/step - loss: 0.4739 - accuracy: 0.7757 - val_loss: 0.4443 - val_accuracy: 0.7716\n",
      "Epoch 100/100\n",
      "65/65 [==============================] - 3s 43ms/step - loss: 0.4733 - accuracy: 0.7764 - val_loss: 0.4610 - val_accuracy: 0.7665\n"
     ]
    }
   ],
   "metadata": {}
  },
  {
   "cell_type": "code",
   "execution_count": 72,
   "source": [
    "plt.plot(result.history['loss'], label='loss')\n",
    "plt.plot(result.history['val_loss'], label='val_loss')\n",
    "plt.legend()"
   ],
   "outputs": [
    {
     "output_type": "execute_result",
     "data": {
      "text/plain": [
       "<matplotlib.legend.Legend at 0x1388ccaa1d0>"
      ]
     },
     "metadata": {},
     "execution_count": 72
    },
    {
     "output_type": "display_data",
     "data": {
      "image/png": "[encoded data removed]",
      "text/plain": [
       "<Figure size 640x480 with 1 Axes>"
      ]
     },
     "metadata": {}
    }
   ],
   "metadata": {}
  },
  {
   "cell_type": "code",
   "execution_count": 73,
   "source": [
    "predictions = model.predict(test_ds)\n",
    "binary_predictions = tf.round(predictions).numpy().flatten()\n",
    "print(classification_report(y_test, binary_predictions))"
   ],
   "outputs": [
    {
     "output_type": "stream",
     "name": "stdout",
     "text": [
      "63/63 [==============================] - 1s 6ms/step\n",
      "              precision    recall  f1-score   support\n",
      "\n",
      "           0       0.92      0.72      0.81     29257\n",
      "           1       0.09      0.28      0.13      2723\n",
      "\n",
      "    accuracy                           0.68     31980\n",
      "   macro avg       0.50      0.50      0.47     31980\n",
      "weighted avg       0.84      0.68      0.75     31980\n",
      "\n"
     ]
    }
   ],
   "metadata": {}
  }
 ],
 "nbformat": 4,
 "nbformat_minor": 2,
 "metadata": {
  "language_info": {
   "codemirror_mode": {
    "name": "ipython",
    "version": 3
   },
   "file_extension": ".py",
   "mimetype": "text/x-python",
   "name": "python",
   "nbconvert_exporter": "python",
   "pygments_lexer": "ipython3",
   "version": 3
  },
  "orig_nbformat": 4
 }
}