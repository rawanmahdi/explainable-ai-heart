{
 "cells": [
  {
   "cell_type": "code",
   "execution_count": 125,
   "metadata": {},
   "outputs": [],
   "source": [
    "import tensorflow as tf\n",
    "import numpy as np\n",
    "from tensorflow import keras\n",
    "import pandas as pd\n",
    "# from sklearn.model_selection import train_test_split\n",
    "# from sklearn.metrics import classification_report \n",
    "import shap"
   ]
  },
  {
   "cell_type": "code",
   "execution_count": 126,
   "metadata": {},
   "outputs": [
    {
     "name": "stdout",
     "output_type": "stream",
     "text": [
      "615\n",
      "307\n",
      "103\n"
     ]
    }
   ],
   "source": [
    "heart_csv_path = 'C:/Users/Rawan Alamily/Downloads/McSCert Co-op/explainable-ai-heart/predictive-models/heart-attributes-model/data/heart.csv'\n",
    "dataframe = pd.read_csv(heart_csv_path)\n",
    "train, val, test = np.split(dataframe.sample(frac=1), [int(0.6*len(dataframe)), int(0.9*len(dataframe))])\n",
    "# train, test = train_test_split(dataframe, test_size=0.2, random_state=42)\n",
    "y_train = train.pop('target')\n",
    "X_train = train\n",
    "y_val = val.pop('target')\n",
    "X_val = val\n",
    "y_test = test.pop('target')\n",
    "X_test = test\n",
    "print(len(X_train))\n",
    "print(len(X_val))\n",
    "print(len(X_test))"
   ]
  },
  {
   "cell_type": "code",
   "execution_count": 127,
   "metadata": {},
   "outputs": [],
   "source": [
    "from sklearn.preprocessing import StandardScaler\n",
    "\n",
    "scaler = StandardScaler().fit(X_train)\n",
    "X_train_NORM = scaler.transform(X_train)\n",
    "X_val_NORM = scaler.transform(X_val)\n",
    "X_test_NORM = scaler.transform(X_test)"
   ]
  },
  {
   "cell_type": "code",
   "execution_count": 128,
   "metadata": {},
   "outputs": [],
   "source": [
    "model1 = tf.keras.Sequential([\n",
    "    tf.keras.layers.Dense(units=128, activation='relu'), \n",
    "    tf.keras.layers.Dropout(rate=0.2),\n",
    "    tf.keras.layers.Dense(units=128, activation='relu'), \n",
    "    tf.keras.layers.Dense(units=1, activation='sigmoid')\n",
    "])\n",
    "model1.compile(optimizer=\"adam\", \n",
    "              loss =\"binary_crossentropy\", \n",
    "              metrics=[\"accuracy\"])"
   ]
  },
  {
   "cell_type": "code",
   "execution_count": 129,
   "metadata": {},
   "outputs": [
    {
     "name": "stdout",
     "output_type": "stream",
     "text": [
      "Epoch 1/70\n",
      "20/20 [==============================] - 1s 8ms/step - loss: 0.5878 - accuracy: 0.7106 - val_loss: 0.4451 - val_accuracy: 0.8371\n",
      "Epoch 2/70\n",
      "20/20 [==============================] - 0s 3ms/step - loss: 0.4077 - accuracy: 0.8407 - val_loss: 0.3664 - val_accuracy: 0.8371\n",
      "Epoch 3/70\n",
      "20/20 [==============================] - 0s 4ms/step - loss: 0.3602 - accuracy: 0.8569 - val_loss: 0.3435 - val_accuracy: 0.8534\n",
      "Epoch 4/70\n",
      "20/20 [==============================] - 0s 3ms/step - loss: 0.3416 - accuracy: 0.8667 - val_loss: 0.3270 - val_accuracy: 0.8534\n",
      "Epoch 5/70\n",
      "20/20 [==============================] - 0s 3ms/step - loss: 0.3146 - accuracy: 0.8699 - val_loss: 0.3150 - val_accuracy: 0.8664\n",
      "Epoch 6/70\n",
      "20/20 [==============================] - 0s 4ms/step - loss: 0.3049 - accuracy: 0.8813 - val_loss: 0.2995 - val_accuracy: 0.8599\n",
      "Epoch 7/70\n",
      "20/20 [==============================] - 0s 5ms/step - loss: 0.3004 - accuracy: 0.8748 - val_loss: 0.2877 - val_accuracy: 0.8697\n",
      "Epoch 8/70\n",
      "20/20 [==============================] - 0s 5ms/step - loss: 0.2738 - accuracy: 0.8813 - val_loss: 0.2718 - val_accuracy: 0.8730\n",
      "Epoch 9/70\n",
      "20/20 [==============================] - 0s 6ms/step - loss: 0.2691 - accuracy: 0.8943 - val_loss: 0.2633 - val_accuracy: 0.8730\n",
      "Epoch 10/70\n",
      "20/20 [==============================] - 0s 7ms/step - loss: 0.2503 - accuracy: 0.8976 - val_loss: 0.2539 - val_accuracy: 0.8893\n",
      "Epoch 11/70\n",
      "20/20 [==============================] - 0s 7ms/step - loss: 0.2320 - accuracy: 0.9122 - val_loss: 0.2451 - val_accuracy: 0.8925\n",
      "Epoch 12/70\n",
      "20/20 [==============================] - 0s 5ms/step - loss: 0.2285 - accuracy: 0.8992 - val_loss: 0.2344 - val_accuracy: 0.8860\n",
      "Epoch 13/70\n",
      "20/20 [==============================] - 0s 4ms/step - loss: 0.2023 - accuracy: 0.9236 - val_loss: 0.2249 - val_accuracy: 0.8925\n",
      "Epoch 14/70\n",
      "20/20 [==============================] - 0s 4ms/step - loss: 0.1993 - accuracy: 0.9252 - val_loss: 0.2194 - val_accuracy: 0.9088\n",
      "Epoch 15/70\n",
      "20/20 [==============================] - 0s 4ms/step - loss: 0.1876 - accuracy: 0.9203 - val_loss: 0.2036 - val_accuracy: 0.9088\n",
      "Epoch 16/70\n",
      "20/20 [==============================] - 0s 5ms/step - loss: 0.1762 - accuracy: 0.9317 - val_loss: 0.2057 - val_accuracy: 0.9153\n",
      "Epoch 17/70\n",
      "20/20 [==============================] - 0s 5ms/step - loss: 0.1646 - accuracy: 0.9366 - val_loss: 0.1873 - val_accuracy: 0.9088\n",
      "Epoch 18/70\n",
      "20/20 [==============================] - 0s 5ms/step - loss: 0.1586 - accuracy: 0.9268 - val_loss: 0.1932 - val_accuracy: 0.9121\n",
      "Epoch 19/70\n",
      "20/20 [==============================] - 0s 6ms/step - loss: 0.1513 - accuracy: 0.9382 - val_loss: 0.1796 - val_accuracy: 0.9153\n",
      "Epoch 20/70\n",
      "20/20 [==============================] - 0s 5ms/step - loss: 0.1514 - accuracy: 0.9366 - val_loss: 0.1730 - val_accuracy: 0.9218\n",
      "Epoch 21/70\n",
      "20/20 [==============================] - 0s 4ms/step - loss: 0.1417 - accuracy: 0.9463 - val_loss: 0.1859 - val_accuracy: 0.9121\n",
      "Epoch 22/70\n",
      "20/20 [==============================] - 0s 4ms/step - loss: 0.1279 - accuracy: 0.9528 - val_loss: 0.1588 - val_accuracy: 0.9349\n",
      "Epoch 23/70\n",
      "20/20 [==============================] - 0s 4ms/step - loss: 0.1148 - accuracy: 0.9659 - val_loss: 0.1712 - val_accuracy: 0.9381\n",
      "Epoch 24/70\n",
      "20/20 [==============================] - 0s 4ms/step - loss: 0.1231 - accuracy: 0.9512 - val_loss: 0.1620 - val_accuracy: 0.9381\n",
      "Epoch 25/70\n",
      "20/20 [==============================] - 0s 4ms/step - loss: 0.1175 - accuracy: 0.9577 - val_loss: 0.1447 - val_accuracy: 0.9544\n",
      "Epoch 26/70\n",
      "20/20 [==============================] - 0s 4ms/step - loss: 0.1118 - accuracy: 0.9577 - val_loss: 0.1530 - val_accuracy: 0.9414\n",
      "Epoch 27/70\n",
      "20/20 [==============================] - 0s 3ms/step - loss: 0.1109 - accuracy: 0.9642 - val_loss: 0.1357 - val_accuracy: 0.9609\n",
      "Epoch 28/70\n",
      "20/20 [==============================] - 0s 4ms/step - loss: 0.0999 - accuracy: 0.9659 - val_loss: 0.1584 - val_accuracy: 0.9414\n",
      "Epoch 29/70\n",
      "20/20 [==============================] - 0s 4ms/step - loss: 0.0983 - accuracy: 0.9593 - val_loss: 0.1415 - val_accuracy: 0.9609\n",
      "Epoch 30/70\n",
      "20/20 [==============================] - 0s 5ms/step - loss: 0.0836 - accuracy: 0.9707 - val_loss: 0.1305 - val_accuracy: 0.9609\n",
      "Epoch 31/70\n",
      "20/20 [==============================] - 0s 4ms/step - loss: 0.0861 - accuracy: 0.9675 - val_loss: 0.1405 - val_accuracy: 0.9577\n",
      "Epoch 32/70\n",
      "20/20 [==============================] - 0s 4ms/step - loss: 0.0849 - accuracy: 0.9756 - val_loss: 0.1401 - val_accuracy: 0.9609\n",
      "Epoch 33/70\n",
      "20/20 [==============================] - 0s 4ms/step - loss: 0.0691 - accuracy: 0.9772 - val_loss: 0.1392 - val_accuracy: 0.9577\n",
      "Epoch 34/70\n",
      "20/20 [==============================] - 0s 4ms/step - loss: 0.0656 - accuracy: 0.9805 - val_loss: 0.1358 - val_accuracy: 0.9577\n",
      "Epoch 35/70\n",
      "20/20 [==============================] - 0s 4ms/step - loss: 0.0586 - accuracy: 0.9854 - val_loss: 0.1422 - val_accuracy: 0.9609\n",
      "Epoch 36/70\n",
      "20/20 [==============================] - 0s 4ms/step - loss: 0.0627 - accuracy: 0.9854 - val_loss: 0.1288 - val_accuracy: 0.9739\n",
      "Epoch 37/70\n",
      "20/20 [==============================] - 0s 4ms/step - loss: 0.0591 - accuracy: 0.9837 - val_loss: 0.1309 - val_accuracy: 0.9577\n",
      "Epoch 38/70\n",
      "20/20 [==============================] - 0s 4ms/step - loss: 0.0680 - accuracy: 0.9805 - val_loss: 0.1207 - val_accuracy: 0.9707\n",
      "Epoch 39/70\n",
      "20/20 [==============================] - 0s 5ms/step - loss: 0.0624 - accuracy: 0.9805 - val_loss: 0.1251 - val_accuracy: 0.9772\n",
      "Epoch 40/70\n",
      "20/20 [==============================] - 0s 4ms/step - loss: 0.0536 - accuracy: 0.9902 - val_loss: 0.1298 - val_accuracy: 0.9707\n",
      "Epoch 41/70\n",
      "20/20 [==============================] - 0s 4ms/step - loss: 0.0576 - accuracy: 0.9756 - val_loss: 0.1299 - val_accuracy: 0.9674\n",
      "Epoch 42/70\n",
      "20/20 [==============================] - 0s 4ms/step - loss: 0.0495 - accuracy: 0.9821 - val_loss: 0.1278 - val_accuracy: 0.9674\n",
      "Epoch 43/70\n",
      "20/20 [==============================] - 0s 4ms/step - loss: 0.0523 - accuracy: 0.9870 - val_loss: 0.1345 - val_accuracy: 0.9707\n",
      "Epoch 44/70\n",
      "20/20 [==============================] - 0s 4ms/step - loss: 0.0591 - accuracy: 0.9805 - val_loss: 0.1143 - val_accuracy: 0.9674\n",
      "Epoch 45/70\n",
      "20/20 [==============================] - 0s 4ms/step - loss: 0.0503 - accuracy: 0.9854 - val_loss: 0.1554 - val_accuracy: 0.9707\n",
      "Epoch 46/70\n",
      "20/20 [==============================] - 0s 3ms/step - loss: 0.0527 - accuracy: 0.9821 - val_loss: 0.1475 - val_accuracy: 0.9674\n",
      "Epoch 47/70\n",
      "20/20 [==============================] - 0s 4ms/step - loss: 0.0454 - accuracy: 0.9854 - val_loss: 0.1479 - val_accuracy: 0.9674\n",
      "Epoch 48/70\n",
      "20/20 [==============================] - 0s 4ms/step - loss: 0.0488 - accuracy: 0.9837 - val_loss: 0.1239 - val_accuracy: 0.9674\n",
      "Epoch 49/70\n",
      "20/20 [==============================] - 0s 4ms/step - loss: 0.0542 - accuracy: 0.9805 - val_loss: 0.1171 - val_accuracy: 0.9609\n",
      "Epoch 50/70\n",
      "20/20 [==============================] - 0s 4ms/step - loss: 0.0449 - accuracy: 0.9902 - val_loss: 0.1367 - val_accuracy: 0.9674\n",
      "Epoch 51/70\n",
      "20/20 [==============================] - 0s 4ms/step - loss: 0.0334 - accuracy: 0.9951 - val_loss: 0.1316 - val_accuracy: 0.9609\n",
      "Epoch 52/70\n",
      "20/20 [==============================] - 0s 3ms/step - loss: 0.0330 - accuracy: 0.9935 - val_loss: 0.1260 - val_accuracy: 0.9674\n",
      "Epoch 53/70\n",
      "20/20 [==============================] - 0s 4ms/step - loss: 0.0377 - accuracy: 0.9886 - val_loss: 0.1273 - val_accuracy: 0.9707\n",
      "Epoch 54/70\n",
      "20/20 [==============================] - 0s 4ms/step - loss: 0.0390 - accuracy: 0.9886 - val_loss: 0.1366 - val_accuracy: 0.9772\n",
      "Epoch 55/70\n",
      "20/20 [==============================] - 0s 4ms/step - loss: 0.0365 - accuracy: 0.9919 - val_loss: 0.1393 - val_accuracy: 0.9837\n",
      "Epoch 56/70\n",
      "20/20 [==============================] - 0s 4ms/step - loss: 0.0334 - accuracy: 0.9886 - val_loss: 0.1397 - val_accuracy: 0.9837\n",
      "Epoch 57/70\n",
      "20/20 [==============================] - 0s 4ms/step - loss: 0.0374 - accuracy: 0.9870 - val_loss: 0.1389 - val_accuracy: 0.9674\n",
      "Epoch 58/70\n",
      "20/20 [==============================] - 0s 4ms/step - loss: 0.0370 - accuracy: 0.9837 - val_loss: 0.1358 - val_accuracy: 0.9674\n",
      "Epoch 59/70\n",
      "20/20 [==============================] - 0s 4ms/step - loss: 0.0268 - accuracy: 0.9951 - val_loss: 0.1444 - val_accuracy: 0.9674\n",
      "Epoch 60/70\n",
      "20/20 [==============================] - 0s 4ms/step - loss: 0.0378 - accuracy: 0.9886 - val_loss: 0.1407 - val_accuracy: 0.9739\n",
      "Epoch 61/70\n",
      "20/20 [==============================] - 0s 4ms/step - loss: 0.0248 - accuracy: 0.9984 - val_loss: 0.1400 - val_accuracy: 0.9674\n",
      "Epoch 62/70\n",
      "20/20 [==============================] - 0s 4ms/step - loss: 0.0225 - accuracy: 0.9984 - val_loss: 0.1500 - val_accuracy: 0.9739\n",
      "Epoch 63/70\n",
      "20/20 [==============================] - 0s 4ms/step - loss: 0.0229 - accuracy: 0.9935 - val_loss: 0.1452 - val_accuracy: 0.9674\n",
      "Epoch 64/70\n",
      "20/20 [==============================] - 0s 4ms/step - loss: 0.0300 - accuracy: 0.9951 - val_loss: 0.1643 - val_accuracy: 0.9739\n",
      "Epoch 65/70\n",
      "20/20 [==============================] - 0s 3ms/step - loss: 0.0367 - accuracy: 0.9886 - val_loss: 0.1758 - val_accuracy: 0.9739\n",
      "Epoch 66/70\n",
      "20/20 [==============================] - 0s 4ms/step - loss: 0.0289 - accuracy: 0.9919 - val_loss: 0.1270 - val_accuracy: 0.9674\n",
      "Epoch 67/70\n",
      "20/20 [==============================] - 0s 3ms/step - loss: 0.0327 - accuracy: 0.9886 - val_loss: 0.1449 - val_accuracy: 0.9837\n",
      "Epoch 68/70\n",
      "20/20 [==============================] - 0s 3ms/step - loss: 0.0268 - accuracy: 0.9919 - val_loss: 0.1419 - val_accuracy: 0.9739\n",
      "Epoch 69/70\n",
      "20/20 [==============================] - 0s 4ms/step - loss: 0.0211 - accuracy: 0.9951 - val_loss: 0.1414 - val_accuracy: 0.9772\n",
      "Epoch 70/70\n",
      "20/20 [==============================] - 0s 3ms/step - loss: 0.0214 - accuracy: 0.9984 - val_loss: 0.1295 - val_accuracy: 0.9837\n"
     ]
    },
    {
     "data": {
      "text/plain": [
       "<keras.callbacks.History at 0x1bac2b00a30>"
      ]
     },
     "execution_count": 129,
     "metadata": {},
     "output_type": "execute_result"
    }
   ],
   "source": [
    "model1.fit(X_train_NORM, y_train, \n",
    "          epochs=70,\n",
    "          batch_size=32,\n",
    "          validation_data=(X_val_NORM, y_val))"
   ]
  },
  {
   "cell_type": "code",
   "execution_count": 130,
   "metadata": {},
   "outputs": [
    {
     "name": "stdout",
     "output_type": "stream",
     "text": [
      "4/4 [==============================] - 0s 2ms/step - loss: 0.0492 - accuracy: 0.9903\n"
     ]
    },
    {
     "data": {
      "text/plain": [
       "[0.0492335706949234, 0.9902912378311157]"
      ]
     },
     "execution_count": 130,
     "metadata": {},
     "output_type": "execute_result"
    }
   ],
   "source": [
    "model1.evaluate(X_test_NORM, y_test) "
   ]
  },
  {
   "cell_type": "code",
   "execution_count": 131,
   "metadata": {},
   "outputs": [
    {
     "name": "stderr",
     "output_type": "stream",
     "text": [
      "Using 500 background data samples could cause slower run times. Consider using shap.sample(data, K) or shap.kmeans(data, K) to summarize the background as K samples.\n"
     ]
    }
   ],
   "source": [
    "# fit kernel explainer using training data\n",
    "explainer = shap.KernelExplainer(model1, X_train_NORM[:500, :])"
   ]
  },
  {
   "cell_type": "code",
   "execution_count": 132,
   "metadata": {},
   "outputs": [
    {
     "data": {
      "text/html": [
       "\n",
       "<div id='i1JJKA9MKFJ2DLUD16RIG'>\n",
       "<div style='color: #900; text-align: center;'>\n",
       "  <b>Visualization omitted, Javascript library not loaded!</b><br>\n",
       "  Have you run `initjs()` in this notebook? If this notebook was from another\n",
       "  user you must also trust this notebook (File -> Trust notebook). If you are viewing\n",
       "  this notebook on github the Javascript has been stripped for security. If you are using\n",
       "  JupyterLab this error is because a JupyterLab extension has not yet been written.\n",
       "</div></div>\n",
       " <script>\n",
       "   if (window.SHAP) SHAP.ReactDom.render(\n",
       "    SHAP.React.createElement(SHAP.AdditiveForceVisualizer, {\"outNames\": [\"f(x)\"], \"baseValue\": 0.5010625989790782, \"outValue\": 0.00801118546376195, \"link\": \"identity\", \"featureNames\": [0.49952581453087286, 0.6231066128808146, -0.9039110919091338, 0.5006607963404185, -1.3653791417021763, -0.4353792894997861, 0.9456150270769186, 0.5935169144373649, 1.3305150394754168, -0.9294672833351642, 1.0354150148577392, 0.19567859732783244, 1.0563524617851292], \"features\": {\"0\": {\"effect\": 0.0029664177979439876, \"value\": \"\"}, \"1\": {\"effect\": -0.03939419905609909, \"value\": \"\"}, \"2\": {\"effect\": -0.17951381253413873, \"value\": \"\"}, \"3\": {\"effect\": -0.04769081493086205, \"value\": \"\"}, \"4\": {\"effect\": 0.04859405025932323, \"value\": \"\"}, \"5\": {\"effect\": -0.007225805380130124, \"value\": \"\"}, \"6\": {\"effect\": 0.015439340991243888, \"value\": \"\"}, \"7\": {\"effect\": -0.003399577424987227, \"value\": \"\"}, \"8\": {\"effect\": -0.030124640535806158, \"value\": \"\"}, \"9\": {\"effect\": 0.07486439244211872, \"value\": \"\"}, \"10\": {\"effect\": 0.0783114946756704, \"value\": \"\"}, \"11\": {\"effect\": -0.21833898035868615, \"value\": \"\"}, \"12\": {\"effect\": -0.18753927946090698, \"value\": \"\"}}, \"plot_cmap\": \"RdBu\", \"labelMargin\": 20}),\n",
       "    document.getElementById('i1JJKA9MKFJ2DLUD16RIG')\n",
       "  );\n",
       "</script>"
      ],
      "text/plain": [
       "<shap.plots._force.AdditiveForceVisualizer at 0x1babf8478e0>"
      ]
     },
     "execution_count": 132,
     "metadata": {},
     "output_type": "execute_result"
    }
   ],
   "source": [
    "# test on various individual samples using test dataset \n",
    "shap_values = explainer.shap_values(X_test_NORM[1,:],nsamples='auto')\n",
    "shap.force_plot(explainer.expected_value, shap_values[0], X_test_NORM[1,:])"
   ]
  },
  {
   "cell_type": "code",
   "execution_count": 133,
   "metadata": {},
   "outputs": [
    {
     "name": "stdout",
     "output_type": "stream",
     "text": [
      "age ; 0.0029664177979439876\n",
      "sex ; -0.03939419905609909\n",
      "cp ; -0.17951381253413873\n",
      "trestbps ; -0.04769081493086205\n",
      "chol ; 0.04859405025932323\n",
      "fbs ; -0.007225805380130124\n",
      "restecg ; 0.015439340991243888\n",
      "thalach ; -0.003399577424987227\n",
      "exang ; -0.030124640535806158\n",
      "oldpeak ; 0.07486439244211872\n",
      "slope ; 0.0783114946756704\n",
      "ca ; -0.21833898035868615\n",
      "thal ; -0.18753927946090698\n",
      "age          59.0\n",
      "sex           1.0\n",
      "cp            0.0\n",
      "trestbps    140.0\n",
      "chol        177.0\n",
      "fbs           0.0\n",
      "restecg       1.0\n",
      "thalach     162.0\n",
      "exang         1.0\n",
      "oldpeak       0.0\n",
      "slope         2.0\n",
      "ca            1.0\n",
      "thal          3.0\n",
      "Name: 556, dtype: float64\n",
      "0\n"
     ]
    }
   ],
   "source": [
    "i=0\n",
    "for label in dataframe.columns:\n",
    "    if label != 'target':\n",
    "        print(label,\";\",shap_values[0][i])\n",
    "        i+=1\n",
    "print(X_test.iloc[1,:])\n",
    "print(y_test.iloc[1])"
   ]
  },
  {
   "cell_type": "code",
   "execution_count": 134,
   "metadata": {},
   "outputs": [
    {
     "data": {
      "text/html": [
       "\n",
       "<div id='i6UC8PUKZL96BUAS0DYK6'>\n",
       "<div style='color: #900; text-align: center;'>\n",
       "  <b>Visualization omitted, Javascript library not loaded!</b><br>\n",
       "  Have you run `initjs()` in this notebook? If this notebook was from another\n",
       "  user you must also trust this notebook (File -> Trust notebook). If you are viewing\n",
       "  this notebook on github the Javascript has been stripped for security. If you are using\n",
       "  JupyterLab this error is because a JupyterLab extension has not yet been written.\n",
       "</div></div>\n",
       " <script>\n",
       "   if (window.SHAP) SHAP.ReactDom.render(\n",
       "    SHAP.React.createElement(SHAP.AdditiveForceVisualizer, {\"outNames\": [\"f(x)\"], \"baseValue\": 0.5010625989790782, \"outValue\": 2.556815514864752e-08, \"link\": \"identity\", \"featureNames\": [0.8394834419043368, -1.6048617994546563, -0.9039110919091338, 1.683551267909213, -1.618690652304787, -0.4353792894997861, -0.9928957784307645, -0.13788564808534323, -0.7515886482532889, 4.506205648193949, -2.289808139907324, 2.1058744283852446, 1.0563524617851292], \"features\": {\"0\": {\"effect\": -0.0011764385612037243, \"value\": \"\"}, \"1\": {\"effect\": 0.044683414487060924, \"value\": \"\"}, \"2\": {\"effect\": -0.0720048974325268, \"value\": \"\"}, \"3\": {\"effect\": -0.02262469115627247, \"value\": \"\"}, \"4\": {\"effect\": -0.0017162677590534525, \"value\": \"\"}, \"5\": {\"effect\": 0.002913146920418108, \"value\": \"\"}, \"6\": {\"effect\": -0.008365892359602972, \"value\": \"\"}, \"7\": {\"effect\": 0.0012383758136094714, \"value\": \"\"}, \"8\": {\"effect\": 0.013819244347091891, \"value\": \"\"}, \"9\": {\"effect\": -0.1928425313374557, \"value\": \"\"}, \"10\": {\"effect\": -0.055399730670370906, \"value\": \"\"}, \"11\": {\"effect\": -0.13658083804934296, \"value\": \"\"}, \"12\": {\"effect\": -0.07300546765327454, \"value\": \"\"}}, \"plot_cmap\": \"RdBu\", \"labelMargin\": 20}),\n",
       "    document.getElementById('i6UC8PUKZL96BUAS0DYK6')\n",
       "  );\n",
       "</script>"
      ],
      "text/plain": [
       "<shap.plots._force.AdditiveForceVisualizer at 0x1babf86afb0>"
      ]
     },
     "execution_count": 134,
     "metadata": {},
     "output_type": "execute_result"
    }
   ],
   "source": [
    "shap_values = explainer.shap_values(X_test_NORM[2,:],nsamples='auto')\n",
    "shap.force_plot(explainer.expected_value, shap_values[0], X_test_NORM[2,:])"
   ]
  },
  {
   "cell_type": "code",
   "execution_count": 135,
   "metadata": {},
   "outputs": [
    {
     "name": "stdout",
     "output_type": "stream",
     "text": [
      "age ; -0.0011764385612037243\n",
      "sex ; 0.044683414487060924\n",
      "cp ; -0.0720048974325268\n",
      "trestbps ; -0.02262469115627247\n",
      "chol ; -0.0017162677590534525\n",
      "fbs ; 0.002913146920418108\n",
      "restecg ; -0.008365892359602972\n",
      "thalach ; 0.0012383758136094714\n",
      "exang ; 0.013819244347091891\n",
      "oldpeak ; -0.1928425313374557\n",
      "slope ; -0.055399730670370906\n",
      "ca ; -0.13658083804934296\n",
      "thal ; -0.07300546765327454\n",
      "age          62.0\n",
      "sex           0.0\n",
      "cp            0.0\n",
      "trestbps    160.0\n",
      "chol        164.0\n",
      "fbs           0.0\n",
      "restecg       0.0\n",
      "thalach     145.0\n",
      "exang         0.0\n",
      "oldpeak       6.2\n",
      "slope         0.0\n",
      "ca            3.0\n",
      "thal          3.0\n",
      "Name: 393, dtype: float64\n",
      "0\n"
     ]
    }
   ],
   "source": [
    "i=0\n",
    "for label in dataframe.columns:\n",
    "    if label != 'target':\n",
    "        print(label,\";\",shap_values[0][i])\n",
    "        i+=1\n",
    "print(X_test.iloc[2,:])\n",
    "print(y_test.iloc[2])"
   ]
  },
  {
   "cell_type": "code",
   "execution_count": 136,
   "metadata": {},
   "outputs": [
    {
     "name": "stdout",
     "output_type": "stream",
     "text": [
      "age ; -0.0011764385612037243\n",
      "sex ; 0.044683414487060924\n",
      "cp ; -0.0720048974325268\n",
      "trestbps ; -0.02262469115627247\n",
      "chol ; -0.0017162677590534525\n",
      "fbs ; 0.002913146920418108\n",
      "restecg ; -0.008365892359602972\n",
      "thalach ; 0.0012383758136094714\n",
      "exang ; 0.013819244347091891\n",
      "oldpeak ; -0.1928425313374557\n",
      "slope ; -0.055399730670370906\n",
      "ca ; -0.13658083804934296\n",
      "thal ; -0.07300546765327454\n",
      "age          70.0\n",
      "sex           1.0\n",
      "cp            0.0\n",
      "trestbps    145.0\n",
      "chol        174.0\n",
      "fbs           0.0\n",
      "restecg       1.0\n",
      "thalach     125.0\n",
      "exang         1.0\n",
      "oldpeak       2.6\n",
      "slope         0.0\n",
      "ca            0.0\n",
      "thal          3.0\n",
      "Name: 948, dtype: float64\n",
      "0\n"
     ]
    }
   ],
   "source": [
    "i=0\n",
    "for label in dataframe.columns:\n",
    "    if label != 'target':\n",
    "        print(label,\";\",shap_values[0][i])\n",
    "        i+=1\n",
    "print(X_test.iloc[3,:])\n",
    "print(y_test.iloc[3])"
   ]
  },
  {
   "cell_type": "code",
   "execution_count": 137,
   "metadata": {},
   "outputs": [
    {
     "name": "stdout",
     "output_type": "stream",
     "text": [
      "age ; -0.0011764385612037243\n",
      "sex ; 0.044683414487060924\n",
      "cp ; -0.0720048974325268\n",
      "trestbps ; -0.02262469115627247\n",
      "chol ; -0.0017162677590534525\n",
      "fbs ; 0.002913146920418108\n",
      "restecg ; -0.008365892359602972\n",
      "thalach ; 0.0012383758136094714\n",
      "exang ; 0.013819244347091891\n",
      "oldpeak ; -0.1928425313374557\n",
      "slope ; -0.055399730670370906\n",
      "ca ; -0.13658083804934296\n",
      "thal ; -0.07300546765327454\n",
      "age          70.0\n",
      "sex           1.0\n",
      "cp            0.0\n",
      "trestbps    145.0\n",
      "chol        174.0\n",
      "fbs           0.0\n",
      "restecg       1.0\n",
      "thalach     125.0\n",
      "exang         1.0\n",
      "oldpeak       2.6\n",
      "slope         0.0\n",
      "ca            0.0\n",
      "thal          3.0\n",
      "Name: 948, dtype: float64\n",
      "0\n"
     ]
    }
   ],
   "source": [
    "i=0\n",
    "for label in dataframe.columns:\n",
    "    if label != 'target':\n",
    "        print(label,\";\",shap_values[0][i])\n",
    "        i+=1\n",
    "print(X_test.iloc[3,:])\n",
    "print(y_test.iloc[3])"
   ]
  },
  {
   "cell_type": "code",
   "execution_count": 139,
   "metadata": {},
   "outputs": [
    {
     "data": {
      "text/html": [
       "\n",
       "<div id='iVJN1M2GU6YNBQ4JJLVS6'>\n",
       "<div style='color: #900; text-align: center;'>\n",
       "  <b>Visualization omitted, Javascript library not loaded!</b><br>\n",
       "  Have you run `initjs()` in this notebook? If this notebook was from another\n",
       "  user you must also trust this notebook (File -> Trust notebook). If you are viewing\n",
       "  this notebook on github the Javascript has been stripped for security. If you are using\n",
       "  JupyterLab this error is because a JupyterLab extension has not yet been written.\n",
       "</div></div>\n",
       " <script>\n",
       "   if (window.SHAP) SHAP.ReactDom.render(\n",
       "    SHAP.React.createElement(SHAP.AdditiveForceVisualizer, {\"outNames\": [\"f(x)\"], \"baseValue\": 0.5010625989790782, \"outValue\": 0.999999966733162, \"link\": \"identity\", \"featureNames\": [-1.313581531460935, -1.6048617994546563, -0.9039110919091338, 0.027504607712900628, 1.8302429920538343, 2.296847884401932, -0.9928957784307645, -0.5250987694208946, 1.3305150394754168, 1.7006970383724709, -0.6271965625247924, -0.7594193182008737, 1.0563524617851292], \"features\": {\"0\": {\"effect\": 0.014114195064013901, \"value\": \"\"}, \"1\": {\"effect\": -0.02140645049519463, \"value\": \"\"}, \"2\": {\"effect\": 0.017754269250994964, \"value\": \"\"}, \"3\": {\"effect\": 0.014774652073132888, \"value\": \"\"}, \"4\": {\"effect\": 0.05923888696926788, \"value\": \"\"}, \"5\": {\"effect\": -0.004184769280820788, \"value\": \"\"}, \"6\": {\"effect\": 0.011911276532405507, \"value\": \"\"}, \"7\": {\"effect\": 0.07404072017302005, \"value\": \"\"}, \"8\": {\"effect\": 0.01150983817876211, \"value\": \"\"}, \"9\": {\"effect\": 0.06757880182075465, \"value\": \"\"}, \"10\": {\"effect\": 0.05785651150956789, \"value\": \"\"}, \"11\": {\"effect\": 0.12683472448280714, \"value\": \"\"}, \"12\": {\"effect\": 0.06891471147537231, \"value\": \"\"}}, \"plot_cmap\": \"RdBu\", \"labelMargin\": 20}),\n",
       "    document.getElementById('iVJN1M2GU6YNBQ4JJLVS6')\n",
       "  );\n",
       "</script>"
      ],
      "text/plain": [
       "<shap.plots._force.AdditiveForceVisualizer at 0x1bac2b3a740>"
      ]
     },
     "execution_count": 139,
     "metadata": {},
     "output_type": "execute_result"
    }
   ],
   "source": [
    "shap_values = explainer.shap_values(X_test_NORM[5,:],nsamples='auto')\n",
    "shap.force_plot(explainer.expected_value, shap_values[0], X_test_NORM[4,:])"
   ]
  },
  {
   "cell_type": "code",
   "execution_count": 140,
   "metadata": {},
   "outputs": [
    {
     "name": "stdout",
     "output_type": "stream",
     "text": [
      "age ; 0.014114195064013901\n",
      "sex ; -0.02140645049519463\n",
      "cp ; 0.017754269250994964\n",
      "trestbps ; 0.014774652073132888\n",
      "chol ; 0.05923888696926788\n",
      "fbs ; -0.004184769280820788\n",
      "restecg ; 0.011911276532405507\n",
      "thalach ; 0.07404072017302005\n",
      "exang ; 0.01150983817876211\n",
      "oldpeak ; 0.06757880182075465\n",
      "slope ; 0.05785651150956789\n",
      "ca ; 0.12683472448280714\n",
      "thal ; 0.06891471147537231\n",
      "age          41.0\n",
      "sex           1.0\n",
      "cp            1.0\n",
      "trestbps    120.0\n",
      "chol        157.0\n",
      "fbs           0.0\n",
      "restecg       1.0\n",
      "thalach     182.0\n",
      "exang         0.0\n",
      "oldpeak       0.0\n",
      "slope         2.0\n",
      "ca            0.0\n",
      "thal          2.0\n",
      "Name: 217, dtype: float64\n",
      "1\n"
     ]
    }
   ],
   "source": [
    "i=0\n",
    "for label in dataframe.columns:\n",
    "    if label != 'target':\n",
    "        print(label,\";\",shap_values[0][i])\n",
    "        i+=1\n",
    "print(X_test.iloc[5,:])\n",
    "print(y_test.iloc[5])"
   ]
  }
 ],
 "metadata": {
  "language_info": {
   "codemirror_mode": {
    "name": "ipython",
    "version": 3
   },
   "file_extension": ".py",
   "mimetype": "text/x-python",
   "name": "python",
   "nbconvert_exporter": "python",
   "pygments_lexer": "ipython3",
   "version": 3
  },
  "orig_nbformat": 4
 },
 "nbformat": 4,
 "nbformat_minor": 2
}
