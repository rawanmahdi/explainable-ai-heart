{
 "cells": [
  {
   "cell_type": "code",
   "execution_count": 1,
   "metadata": {},
   "outputs": [],
   "source": [
    "import tensorflow as tf\n",
    "from tensorflow import keras\n",
    "from keras import layers\n",
    "import pandas as pd\n",
    "import numpy as np\n",
    "import matplotlib.pyplot as plt\n",
    "from sklearn.model_selection import train_test_split\n",
    "from sklearn.metrics import classification_report "
   ]
  },
  {
   "cell_type": "code",
   "execution_count": 2,
   "metadata": {},
   "outputs": [
    {
     "name": "stdout",
     "output_type": "stream",
     "text": [
      "                 bmi  physicalHealth   mentalHealth     sleepHours\n",
      "count  319795.000000    319795.00000  319795.000000  319795.000000\n",
      "mean       28.325399         3.37171       3.898366       7.097075\n",
      "std         6.356100         7.95085       7.955235       1.436007\n",
      "min        12.020000         0.00000       0.000000       1.000000\n",
      "25%        24.030000         0.00000       0.000000       6.000000\n",
      "50%        27.340000         0.00000       0.000000       7.000000\n",
      "75%        31.420000         2.00000       3.000000       8.000000\n",
      "max        94.850000        30.00000      30.000000      24.000000\n",
      "(319795, 17)\n"
     ]
    }
   ],
   "source": [
    "heart_csv_path = 'C:/Users/Rawan Alamily/Downloads/McSCert Co-op/explainable-ai-heart/models/lifestyle-metrics-model/data/life-heart.csv'\n",
    "dataframe = pd.read_csv(heart_csv_path)\n",
    "print(dataframe.describe())\n",
    "print(dataframe.shape)\n",
    "dataframe['target'] = np.where(dataframe['heartDisease']=='Yes', 1, 0)\n",
    "dataframe = dataframe.drop(columns=['heartDisease'])\n",
    "RANDOM_SEED = 42\n",
    "np.random.seed(RANDOM_SEED)"
   ]
  },
  {
   "cell_type": "code",
   "execution_count": 3,
   "metadata": {},
   "outputs": [],
   "source": [
    "# function to build data pipeline to extract, shuffle and batch load the data\n",
    "def df_to_dataset(df, batch_size=32):\n",
    "    df = df.copy()\n",
    "    labels = df.pop('target')\n",
    "    tf_dataset = tf.data.Dataset.from_tensor_slices((dict(df), labels))\n",
    "    tf_dataset = tf_dataset.shuffle(buffer_size=len(df)) # shuffling values \n",
    "    tf_dataset = tf_dataset.batch(batch_size) # 32 samples per batch\n",
    "    return tf_dataset.prefetch(batch_size) # to overlap preprocessing in the pipeline "
   ]
  },
  {
   "cell_type": "code",
   "execution_count": 4,
   "metadata": {},
   "outputs": [],
   "source": [
    "def get_normalization_layer(feature_name, dataset):\n",
    "    # normalize numeric features\n",
    "    normalizer = layers.Normalization(axis=None)\n",
    "    # extract feature from dataset\n",
    "    feature_ds = dataset.map(lambda x, y: x[feature_name])\n",
    "    normalizer.adapt(feature_ds)\n",
    "    return normalizer"
   ]
  },
  {
   "cell_type": "code",
   "execution_count": 5,
   "metadata": {},
   "outputs": [],
   "source": [
    "def get_category_encoding_layer(feature_name, dataset, dtype, max_tokens=None):\n",
    "    if dtype == 'string':\n",
    "        index = layers.StringLookup(max_tokens=max_tokens)\n",
    "    else:\n",
    "        index = layers.IntegerLookup(max_tokens=max_tokens)\n",
    "    # extract feature from dataset\n",
    "    feature_ds = dataset.map(lambda x, y: x[feature_name])\n",
    "    # 'learn' all possible feature values, assign each an int index \n",
    "    index.adapt(feature_ds)\n",
    "    # encode integer index\n",
    "    encoder = layers.CategoryEncoding(num_tokens=index.vocabulary_size(), output_mode=\"one_hot\")\n",
    "    # multi-hot encode indeices - lambda function captures layers\n",
    "    return lambda feature: encoder(index(feature))"
   ]
  },
  {
   "cell_type": "code",
   "execution_count": 6,
   "metadata": {},
   "outputs": [],
   "source": [
    "def get_normalization_layer(feature_name, dataset):\n",
    "    # normalize numeric features\n",
    "    normalizer = layers.Normalization(axis=None)\n",
    "    # extract feature from dataset\n",
    "    feature_ds = dataset.map(lambda x, y: x[feature_name])\n",
    "    normalizer.adapt(feature_ds)\n",
    "    return normalizer\n",
    "def get_category_encoding_layer(feature_name, dataset, dtype, max_tokens=None):\n",
    "    if dtype == 'string':\n",
    "        index = layers.StringLookup(max_tokens=max_tokens)\n",
    "    else:\n",
    "        index = layers.IntegerLookup(max_tokens=max_tokens)\n",
    "    # extract feature from dataset\n",
    "    feature_ds = dataset.map(lambda x, y: x[feature_name])\n",
    "    # 'learn' all possible feature values, assign each an int index \n",
    "    index.adapt(feature_ds)\n",
    "    # encode integer index\n",
    "    encoder = layers.CategoryEncoding(num_tokens=index.vocabulary_size(), output_mode=\"one_hot\")\n",
    "    # multi-hot encode indeices - lambda function captures layers\n",
    "    return lambda feature: encoder(index(feature))"
   ]
  },
  {
   "cell_type": "code",
   "execution_count": 7,
   "metadata": {},
   "outputs": [],
   "source": [
    "# with true batch size\n",
    "train, val, test = np.split(dataframe.sample(frac=1), [int(0.8*len(dataframe)), int(0.9*len(dataframe))])\n",
    "train_ds = df_to_dataset(train)\n",
    "val_ds = df_to_dataset(val)\n",
    "test_ds = df_to_dataset(test)\n",
    "# preprocess all features:\n",
    "inputs = []\n",
    "encoded_features =[]\n",
    "\n",
    "# numerical\n",
    "for header in [\"bmi\", \"physicalHealth\", \"mentalHealth\", 'sleepHours' ]:\n",
    "    num_col = tf.keras.Input(shape=(1,), name=header)\n",
    "    # keras inputs array\n",
    "    inputs.append(num_col)\n",
    "\n",
    "    norm_layer = get_normalization_layer(feature_name=header, dataset=train_ds)\n",
    "    encoded_num_col = norm_layer(num_col)\n",
    "    # encoded feature\n",
    "    encoded_features.append(encoded_num_col)\n",
    "\n",
    "# categorical\n",
    "for header in [\"smoking\",\"alcoholDrinking\",\"stroke\",\"diffWalk\",\n",
    "                \"sex\", \"ageGroup\", \"diabetic\", \"physicalActivity\", \n",
    "                \"overallHealth\", \"asthma\", \"kidneyDisease\", \"skinCancer\"]:\n",
    "    cat_col = tf.keras.Input(shape=(1,), name=header, dtype='string')\n",
    "    # keras inputs array\n",
    "    inputs.append(cat_col)\n",
    "\n",
    "    cat_layer = get_category_encoding_layer(feature_name=header,\n",
    "                                            dataset=train_ds, \n",
    "                                            dtype='string', \n",
    "                                            max_tokens=None)\n",
    "    encoded_cat_col = cat_layer(cat_col)\n",
    "    # encoded feature\n",
    "    encoded_features.append(encoded_cat_col)"
   ]
  },
  {
   "cell_type": "code",
   "execution_count": 8,
   "metadata": {},
   "outputs": [],
   "source": [
    "# merge list feature inputs into one vector\n",
    "features = tf.keras.layers.concatenate(encoded_features)\n",
    "x = tf.keras.layers.Dense(units=128, activation=\"relu\")(features)\n",
    "x = tf.keras.layers.Dropout(rate=0.2)(x)\n",
    "x = tf.keras.layers.Dense(units=128, activation='relu')(x)\n",
    "output = tf.keras.layers.Dense(units=1, activation='sigmoid')(x)\n",
    "model = tf.keras.Model(inputs, output)"
   ]
  },
  {
   "cell_type": "code",
   "execution_count": 9,
   "metadata": {},
   "outputs": [
    {
     "name": "stdout",
     "output_type": "stream",
     "text": [
      "Epoch 1/5\n",
      "7995/7995 - 27s - loss: 0.2309 - accuracy: 0.9153 - val_loss: 0.2222 - val_accuracy: 0.9174 - 27s/epoch - 3ms/step\n",
      "Epoch 2/5\n",
      "7995/7995 - 24s - loss: 0.2281 - accuracy: 0.9157 - val_loss: 0.2222 - val_accuracy: 0.9172 - 24s/epoch - 3ms/step\n",
      "Epoch 3/5\n",
      "7995/7995 - 31s - loss: 0.2273 - accuracy: 0.9159 - val_loss: 0.2221 - val_accuracy: 0.9172 - 31s/epoch - 4ms/step\n",
      "Epoch 4/5\n",
      "7995/7995 - 35s - loss: 0.2270 - accuracy: 0.9159 - val_loss: 0.2222 - val_accuracy: 0.9167 - 35s/epoch - 4ms/step\n",
      "Epoch 5/5\n",
      "7995/7995 - 32s - loss: 0.2265 - accuracy: 0.9158 - val_loss: 0.2225 - val_accuracy: 0.9170 - 32s/epoch - 4ms/step\n",
      "1000/1000 [==============================] - 3s 2ms/step\n"
     ]
    }
   ],
   "source": [
    "model.compile(optimizer='adam', \n",
    "              loss='binary_crossentropy', \n",
    "              metrics = ['accuracy'])\n",
    "\n",
    "result = model.fit(train_ds, \n",
    "                    validation_data=val_ds, \n",
    "                    epochs=5,\n",
    "                    use_multiprocessing=True, verbose=2)\n",
    "\n",
    "predictions = model.predict(test_ds)\n",
    "binary_predictions = tf.round(predictions).numpy().flatten()"
   ]
  },
  {
   "cell_type": "code",
   "execution_count": 10,
   "metadata": {},
   "outputs": [
    {
     "data": {
      "text/plain": [
       "<matplotlib.legend.Legend at 0x291cf873640>"
      ]
     },
     "execution_count": 10,
     "metadata": {},
     "output_type": "execute_result"
    },
    {
     "data": {
      "image/png": "[encoded data removed]",
      "text/plain": [
       "<Figure size 640x480 with 1 Axes>"
      ]
     },
     "metadata": {},
     "output_type": "display_data"
    }
   ],
   "source": [
    "plt.plot(result.history['loss'], label='loss')\n",
    "plt.plot(result.history['val_loss'], label='val_loss')\n",
    "plt.legend()"
   ]
  },
  {
   "cell_type": "code",
   "execution_count": 11,
   "metadata": {},
   "outputs": [
    {
     "name": "stdout",
     "output_type": "stream",
     "text": [
      "              precision    recall  f1-score   support\n",
      "\n",
      "           0       0.91      0.99      0.95     29200\n",
      "           1       0.08      0.01      0.02      2780\n",
      "\n",
      "    accuracy                           0.90     31980\n",
      "   macro avg       0.50      0.50      0.48     31980\n",
      "weighted avg       0.84      0.90      0.87     31980\n",
      "\n"
     ]
    }
   ],
   "source": [
    "print(classification_report(test.get('target'), binary_predictions))\n",
    "#print(\"f1 score: \"+f1_)\n",
    "# layer connectivity visualization\n",
    "#tf.keras.utils.plot_model(model, show_shapes=True, rankdir=\"LR\")"
   ]
  }
 ],
 "metadata": {
  "language_info": {
   "codemirror_mode": {
    "name": "ipython",
    "version": 3
   },
   "file_extension": ".py",
   "mimetype": "text/x-python",
   "name": "python",
   "nbconvert_exporter": "python",
   "pygments_lexer": "ipython3",
   "version": 3
  },
  "orig_nbformat": 4
 },
 "nbformat": 4,
 "nbformat_minor": 2
}
