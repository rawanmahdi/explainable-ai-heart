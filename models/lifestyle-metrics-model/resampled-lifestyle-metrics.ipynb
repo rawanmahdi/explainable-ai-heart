{
 "cells": [
  {
   "cell_type": "code",
   "execution_count": 1,
   "source": [
    "import tensorflow as tf\n",
    "from tensorflow import keras\n",
    "from keras import layers\n",
    "import pandas as pd\n",
    "import numpy as np\n",
    "import matplotlib.pyplot as plt\n",
    "from sklearn.model_selection import train_test_split\n",
    "from sklearn.metrics import classification_report "
   ],
   "outputs": [],
   "metadata": {}
  },
  {
   "cell_type": "code",
   "execution_count": 2,
   "source": [
    "heart_csv_path = 'C:/Users/Rawan Alamily/Downloads/McSCert Co-op/explainable-ai-heart/models/lifestyle-metrics-model/data/life-heart.csv'\n",
    "dataframe = pd.read_csv(heart_csv_path)\n",
    "print(dataframe.describe())\n",
    "print(dataframe.shape)\n",
    "dataframe['target'] = np.where(dataframe['heartDisease']=='Yes', 1, 0)\n",
    "dataframe = dataframe.drop(columns=['heartDisease'])\n",
    "RANDOM_SEED = 42\n",
    "np.random.seed(RANDOM_SEED)\n",
    "neg, pos = np.bincount(dataframe['target'])"
   ],
   "outputs": [
    {
     "output_type": "stream",
     "name": "stdout",
     "text": [
      "                 bmi  physicalHealth   mentalHealth     sleepHours\n",
      "count  319795.000000    319795.00000  319795.000000  319795.000000\n",
      "mean       28.325399         3.37171       3.898366       7.097075\n",
      "std         6.356100         7.95085       7.955235       1.436007\n",
      "min        12.020000         0.00000       0.000000       1.000000\n",
      "25%        24.030000         0.00000       0.000000       6.000000\n",
      "50%        27.340000         0.00000       0.000000       7.000000\n",
      "75%        31.420000         2.00000       3.000000       8.000000\n",
      "max        94.850000        30.00000      30.000000      24.000000\n",
      "(319795, 17)\n"
     ]
    }
   ],
   "metadata": {}
  },
  {
   "cell_type": "code",
   "execution_count": 3,
   "source": [
    "def df_to_dataset(df, batch_size=32):\n",
    "    df = df.copy()\n",
    "    labels = df.pop('target')\n",
    "    tf_dataset = tf.data.Dataset.from_tensor_slices((dict(df), labels))\n",
    "    shuffled_tf_dataset = tf_dataset.shuffle(buffer_size=len(df)) # shuffling values \n",
    "    return shuffled_tf_dataset.batch(batch_size) # returning 32 samples per batch"
   ],
   "outputs": [],
   "metadata": {}
  },
  {
   "cell_type": "code",
   "execution_count": 4,
   "source": [
    "# with large batch size\n",
    "batch_size=1024\n",
    "train, val, test = np.split(dataframe.sample(frac=1), [int(0.8*len(dataframe)), int(0.9*len(dataframe))])\n",
    "train_ds = df_to_dataset(df=train, batch_size=batch_size )\n",
    "val_ds = df_to_dataset(df=val, batch_size=batch_size)\n",
    "test_ds = df_to_dataset(df=test, batch_size=batch_size)\n",
    "##steps_per_epoch = np.ceil(2.0*pos/batch_size)\n",
    "##print(steps_per_epoch)"
   ],
   "outputs": [],
   "metadata": {}
  },
  {
   "cell_type": "code",
   "execution_count": 5,
   "source": [
    "def get_normalization_layer(feature_name, dataset):\n",
    "    # normalize numeric features\n",
    "    normalizer = layers.Normalization(axis=None)\n",
    "    # extract feature from dataset\n",
    "    feature_ds = dataset.map(lambda x, y: x[feature_name])\n",
    "    normalizer.adapt(feature_ds)\n",
    "    return normalizer\n",
    "def get_category_encoding_layer(feature_name, dataset, dtype, max_tokens=None):\n",
    "    if dtype == 'string':\n",
    "        index = layers.StringLookup(max_tokens=max_tokens)\n",
    "    else:\n",
    "        index = layers.IntegerLookup(max_tokens=max_tokens)\n",
    "    # extract feature from dataset\n",
    "    feature_ds = dataset.map(lambda x, y: x[feature_name])\n",
    "    # 'learn' all possible feature values, assign each an int index \n",
    "    index.adapt(feature_ds)\n",
    "    # encode integer index\n",
    "    encoder = layers.CategoryEncoding(num_tokens=index.vocabulary_size(), output_mode=\"one_hot\")\n",
    "    # multi-hot encode indeices - lambda function captures layers\n",
    "    return lambda feature: encoder(index(feature))"
   ],
   "outputs": [],
   "metadata": {}
  },
  {
   "cell_type": "code",
   "execution_count": 6,
   "source": [
    "# preprocess all features:\n",
    "inputs = []\n",
    "encoded_features =[]\n",
    "\n",
    "# numerical\n",
    "for header in [\"bmi\", \"physicalHealth\", \"mentalHealth\", 'sleepHours' ]:\n",
    "    num_col = tf.keras.Input(shape=(1,), name=header)\n",
    "    # keras inputs array\n",
    "    inputs.append(num_col)\n",
    "\n",
    "    norm_layer = get_normalization_layer(feature_name=header, dataset=train_ds)\n",
    "    encoded_num_col = norm_layer(num_col)\n",
    "    # encoded feature\n",
    "    encoded_features.append(encoded_num_col)\n",
    "\n",
    "# categorical\n",
    "for header in [\"smoking\",\"alcoholDrinking\",\"stroke\",\"diffWalk\",\n",
    "                \"sex\", \"ageGroup\", \"diabetic\", \"physicalActivity\", \n",
    "                \"overallHealth\", \"asthma\", \"kidneyDisease\", \"skinCancer\"]:\n",
    "    \n",
    "    # declare header as a keras Input\n",
    "    cat_col = tf.keras.Input(shape=(1,), name=header, dtype='string')\n",
    "    # keras inputs array\n",
    "    inputs.append(cat_col)\n",
    "\n",
    "    # get preprocessing layer \n",
    "    cat_layer = get_category_encoding_layer(feature_name=header,\n",
    "                                            dataset=train_ds, \n",
    "                                            dtype='string', \n",
    "                                            max_tokens=None)\n",
    "    encoded_cat_col = cat_layer(cat_col)\n",
    "    # encoded feature\n",
    "    encoded_features.append(encoded_cat_col)"
   ],
   "outputs": [],
   "metadata": {}
  },
  {
   "cell_type": "code",
   "execution_count": 7,
   "source": [
    "# KERAS FUNCTIONAL API - MODEL BUILD   \n",
    "# merge list feature inputs into one vector\n",
    "features = tf.keras.layers.concatenate(encoded_features)\n",
    "x = tf.keras.layers.Dense(units=128, activation=\"relu\")(features)\n",
    "x = tf.keras.layers.Dropout(rate=0.2)(x)\n",
    "x = tf.keras.layers.Dense(units=128, activation='relu')(x)\n",
    "output = tf.keras.layers.Dense(units=1, activation='sigmoid')(x)\n",
    "model = tf.keras.Model(inputs, output)"
   ],
   "outputs": [],
   "metadata": {}
  },
  {
   "cell_type": "code",
   "execution_count": 9,
   "source": [
    "model.compile(optimizer='adam', \n",
    "              loss='binary_crossentropy', \n",
    "              metrics = ['accuracy'])\n",
    "\n",
    "result = model.fit(train_ds, \n",
    "                    validation_data=val_ds, \n",
    "                    epochs=100,\n",
    "                    # steps_per_epoch=steps_per_epoch,\n",
    "                    use_multiprocessing=True, \n",
    "                    verbose=1)\n",
    "\n",
    "predictions = model.predict(test_ds)\n",
    "\n",
    "binary_predictions = tf.round(predictions).numpy().flatten()"
   ],
   "outputs": [
    {
     "output_type": "stream",
     "name": "stdout",
     "text": [
      "Epoch 1/100\n",
      "250/250 [==============================] - 13s 35ms/step - loss: 0.2272 - accuracy: 0.9157 - val_loss: 0.2227 - val_accuracy: 0.9173\n",
      "Epoch 2/100\n",
      "250/250 [==============================] - 13s 47ms/step - loss: 0.2264 - accuracy: 0.9161 - val_loss: 0.2219 - val_accuracy: 0.9171\n",
      "Epoch 3/100\n",
      "250/250 [==============================] - 19s 55ms/step - loss: 0.2262 - accuracy: 0.9160 - val_loss: 0.2231 - val_accuracy: 0.9171\n",
      "Epoch 4/100\n",
      "250/250 [==============================] - 19s 56ms/step - loss: 0.2259 - accuracy: 0.9161 - val_loss: 0.2218 - val_accuracy: 0.9171\n",
      "Epoch 5/100\n",
      "250/250 [==============================] - 17s 52ms/step - loss: 0.2257 - accuracy: 0.9162 - val_loss: 0.2219 - val_accuracy: 0.9173\n",
      "Epoch 6/100\n",
      "250/250 [==============================] - 18s 54ms/step - loss: 0.2252 - accuracy: 0.9163 - val_loss: 0.2220 - val_accuracy: 0.9173\n",
      "Epoch 7/100\n",
      "250/250 [==============================] - 11s 34ms/step - loss: 0.2249 - accuracy: 0.9162 - val_loss: 0.2218 - val_accuracy: 0.9173\n",
      "Epoch 8/100\n",
      "250/250 [==============================] - 10s 34ms/step - loss: 0.2249 - accuracy: 0.9164 - val_loss: 0.2219 - val_accuracy: 0.9170\n",
      "Epoch 9/100\n",
      "250/250 [==============================] - 15s 51ms/step - loss: 0.2246 - accuracy: 0.9166 - val_loss: 0.2218 - val_accuracy: 0.9172\n",
      "Epoch 10/100\n",
      "250/250 [==============================] - 17s 52ms/step - loss: 0.2245 - accuracy: 0.9166 - val_loss: 0.2220 - val_accuracy: 0.9168\n",
      "Epoch 11/100\n",
      "250/250 [==============================] - 15s 44ms/step - loss: 0.2243 - accuracy: 0.9167 - val_loss: 0.2218 - val_accuracy: 0.9168\n",
      "Epoch 12/100\n",
      "250/250 [==============================] - 10s 34ms/step - loss: 0.2241 - accuracy: 0.9168 - val_loss: 0.2237 - val_accuracy: 0.9169\n",
      "Epoch 13/100\n"
     ]
    },
    {
     "output_type": "error",
     "ename": "KeyboardInterrupt",
     "evalue": "",
     "traceback": [
      "\u001b[1;31m---------------------------------------------------------------------------\u001b[0m",
      "\u001b[1;31mKeyboardInterrupt\u001b[0m                         Traceback (most recent call last)",
      "\u001b[1;32mc:\\Users\\Rawan Alamily\\Downloads\\McSCert Co-op\\explainable-ai-heart\\models\\lifestyle-metrics-model\\resampled-lifestyle-metrics.py\u001b[0m in \u001b[0;36mline 6\n\u001b[0;32m      <a href='file:///c%3A/Users/Rawan%20Alamily/Downloads/McSCert%20Co-op/explainable-ai-heart/models/lifestyle-metrics-model/resampled-lifestyle-metrics.py?line=129'>130</a>\u001b[0m \u001b[39m#%%\u001b[39;00m\n\u001b[0;32m      <a href='file:///c%3A/Users/Rawan%20Alamily/Downloads/McSCert%20Co-op/explainable-ai-heart/models/lifestyle-metrics-model/resampled-lifestyle-metrics.py?line=130'>131</a>\u001b[0m model\u001b[39m.\u001b[39mcompile(optimizer\u001b[39m=\u001b[39m\u001b[39m'\u001b[39m\u001b[39madam\u001b[39m\u001b[39m'\u001b[39m, \n\u001b[0;32m      <a href='file:///c%3A/Users/Rawan%20Alamily/Downloads/McSCert%20Co-op/explainable-ai-heart/models/lifestyle-metrics-model/resampled-lifestyle-metrics.py?line=131'>132</a>\u001b[0m               loss\u001b[39m=\u001b[39m\u001b[39m'\u001b[39m\u001b[39mbinary_crossentropy\u001b[39m\u001b[39m'\u001b[39m, \n\u001b[0;32m      <a href='file:///c%3A/Users/Rawan%20Alamily/Downloads/McSCert%20Co-op/explainable-ai-heart/models/lifestyle-metrics-model/resampled-lifestyle-metrics.py?line=132'>133</a>\u001b[0m               metrics \u001b[39m=\u001b[39m [\u001b[39m'\u001b[39m\u001b[39maccuracy\u001b[39m\u001b[39m'\u001b[39m])\n\u001b[1;32m----> <a href='file:///c%3A/Users/Rawan%20Alamily/Downloads/McSCert%20Co-op/explainable-ai-heart/models/lifestyle-metrics-model/resampled-lifestyle-metrics.py?line=134'>135</a>\u001b[0m result \u001b[39m=\u001b[39m model\u001b[39m.\u001b[39;49mfit(train_ds, \n\u001b[0;32m      <a href='file:///c%3A/Users/Rawan%20Alamily/Downloads/McSCert%20Co-op/explainable-ai-heart/models/lifestyle-metrics-model/resampled-lifestyle-metrics.py?line=135'>136</a>\u001b[0m                     validation_data\u001b[39m=\u001b[39;49mval_ds, \n\u001b[0;32m      <a href='file:///c%3A/Users/Rawan%20Alamily/Downloads/McSCert%20Co-op/explainable-ai-heart/models/lifestyle-metrics-model/resampled-lifestyle-metrics.py?line=136'>137</a>\u001b[0m                     epochs\u001b[39m=\u001b[39;49m\u001b[39m100\u001b[39;49m,\n\u001b[0;32m      <a href='file:///c%3A/Users/Rawan%20Alamily/Downloads/McSCert%20Co-op/explainable-ai-heart/models/lifestyle-metrics-model/resampled-lifestyle-metrics.py?line=137'>138</a>\u001b[0m                     \u001b[39m# steps_per_epoch=steps_per_epoch,\u001b[39;49;00m\n\u001b[0;32m     <a href='file:///c%3A/Users/Rawan%20Alamily/Downloads/McSCert%20Co-op/explainable-ai-heart/models/lifestyle-metrics-model/resampled-lifestyle-metrics.py?line=138'>139</a>\u001b[0m                     use_multiprocessing\u001b[39m=\u001b[39;49m\u001b[39mTrue\u001b[39;49;00m, \n\u001b[0;32m     <a href='file:///c%3A/Users/Rawan%20Alamily/Downloads/McSCert%20Co-op/explainable-ai-heart/models/lifestyle-metrics-model/resampled-lifestyle-metrics.py?line=139'>140</a>\u001b[0m                     verbose\u001b[39m=\u001b[39;49m\u001b[39m1\u001b[39;49m)\n\u001b[0;32m     <a href='file:///c%3A/Users/Rawan%20Alamily/Downloads/McSCert%20Co-op/explainable-ai-heart/models/lifestyle-metrics-model/resampled-lifestyle-metrics.py?line=141'>142</a>\u001b[0m predictions \u001b[39m=\u001b[39m model\u001b[39m.\u001b[39mpredict(test_ds)\n\u001b[0;32m     <a href='file:///c%3A/Users/Rawan%20Alamily/Downloads/McSCert%20Co-op/explainable-ai-heart/models/lifestyle-metrics-model/resampled-lifestyle-metrics.py?line=143'>144</a>\u001b[0m binary_predictions \u001b[39m=\u001b[39m tf\u001b[39m.\u001b[39mround(predictions)\u001b[39m.\u001b[39mnumpy()\u001b[39m.\u001b[39mflatten()\n",
      "File \u001b[1;32mc:\\Users\\Rawan Alamily\\AppData\\Local\\Programs\\Python\\Python310\\lib\\site-packages\\keras\\utils\\traceback_utils.py:65\u001b[0m, in \u001b[0;36mfilter_traceback.<locals>.error_handler\u001b[1;34m(*args, **kwargs)\u001b[0m\n\u001b[0;32m     <a href='file:///c%3A/Users/Rawan%20Alamily/AppData/Local/Programs/Python/Python310/lib/site-packages/keras/utils/traceback_utils.py?line=62'>63</a>\u001b[0m filtered_tb \u001b[39m=\u001b[39m \u001b[39mNone\u001b[39;00m\n\u001b[0;32m     <a href='file:///c%3A/Users/Rawan%20Alamily/AppData/Local/Programs/Python/Python310/lib/site-packages/keras/utils/traceback_utils.py?line=63'>64</a>\u001b[0m \u001b[39mtry\u001b[39;00m:\n\u001b[1;32m---> <a href='file:///c%3A/Users/Rawan%20Alamily/AppData/Local/Programs/Python/Python310/lib/site-packages/keras/utils/traceback_utils.py?line=64'>65</a>\u001b[0m     \u001b[39mreturn\u001b[39;00m fn(\u001b[39m*\u001b[39margs, \u001b[39m*\u001b[39m\u001b[39m*\u001b[39mkwargs)\n\u001b[0;32m     <a href='file:///c%3A/Users/Rawan%20Alamily/AppData/Local/Programs/Python/Python310/lib/site-packages/keras/utils/traceback_utils.py?line=65'>66</a>\u001b[0m \u001b[39mexcept\u001b[39;00m \u001b[39mException\u001b[39;00m \u001b[39mas\u001b[39;00m e:\n\u001b[0;32m     <a href='file:///c%3A/Users/Rawan%20Alamily/AppData/Local/Programs/Python/Python310/lib/site-packages/keras/utils/traceback_utils.py?line=66'>67</a>\u001b[0m     filtered_tb \u001b[39m=\u001b[39m _process_traceback_frames(e\u001b[39m.\u001b[39m__traceback__)\n",
      "File \u001b[1;32mc:\\Users\\Rawan Alamily\\AppData\\Local\\Programs\\Python\\Python310\\lib\\site-packages\\keras\\engine\\training.py:1685\u001b[0m, in \u001b[0;36mModel.fit\u001b[1;34m(self, x, y, batch_size, epochs, verbose, callbacks, validation_split, validation_data, shuffle, class_weight, sample_weight, initial_epoch, steps_per_epoch, validation_steps, validation_batch_size, validation_freq, max_queue_size, workers, use_multiprocessing)\u001b[0m\n\u001b[0;32m   <a href='file:///c%3A/Users/Rawan%20Alamily/AppData/Local/Programs/Python/Python310/lib/site-packages/keras/engine/training.py?line=1676'>1677</a>\u001b[0m \u001b[39mwith\u001b[39;00m tf\u001b[39m.\u001b[39mprofiler\u001b[39m.\u001b[39mexperimental\u001b[39m.\u001b[39mTrace(\n\u001b[0;32m   <a href='file:///c%3A/Users/Rawan%20Alamily/AppData/Local/Programs/Python/Python310/lib/site-packages/keras/engine/training.py?line=1677'>1678</a>\u001b[0m     \u001b[39m\"\u001b[39m\u001b[39mtrain\u001b[39m\u001b[39m\"\u001b[39m,\n\u001b[0;32m   <a href='file:///c%3A/Users/Rawan%20Alamily/AppData/Local/Programs/Python/Python310/lib/site-packages/keras/engine/training.py?line=1678'>1679</a>\u001b[0m     epoch_num\u001b[39m=\u001b[39mepoch,\n\u001b[1;32m   (...)\u001b[0m\n\u001b[0;32m   <a href='file:///c%3A/Users/Rawan%20Alamily/AppData/Local/Programs/Python/Python310/lib/site-packages/keras/engine/training.py?line=1681'>1682</a>\u001b[0m     _r\u001b[39m=\u001b[39m\u001b[39m1\u001b[39m,\n\u001b[0;32m   <a href='file:///c%3A/Users/Rawan%20Alamily/AppData/Local/Programs/Python/Python310/lib/site-packages/keras/engine/training.py?line=1682'>1683</a>\u001b[0m ):\n\u001b[0;32m   <a href='file:///c%3A/Users/Rawan%20Alamily/AppData/Local/Programs/Python/Python310/lib/site-packages/keras/engine/training.py?line=1683'>1684</a>\u001b[0m     callbacks\u001b[39m.\u001b[39mon_train_batch_begin(step)\n\u001b[1;32m-> <a href='file:///c%3A/Users/Rawan%20Alamily/AppData/Local/Programs/Python/Python310/lib/site-packages/keras/engine/training.py?line=1684'>1685</a>\u001b[0m     tmp_logs \u001b[39m=\u001b[39m \u001b[39mself\u001b[39;49m\u001b[39m.\u001b[39;49mtrain_function(iterator)\n\u001b[0;32m   <a href='file:///c%3A/Users/Rawan%20Alamily/AppData/Local/Programs/Python/Python310/lib/site-packages/keras/engine/training.py?line=1685'>1686</a>\u001b[0m     \u001b[39mif\u001b[39;00m data_handler\u001b[39m.\u001b[39mshould_sync:\n\u001b[0;32m   <a href='file:///c%3A/Users/Rawan%20Alamily/AppData/Local/Programs/Python/Python310/lib/site-packages/keras/engine/training.py?line=1686'>1687</a>\u001b[0m         context\u001b[39m.\u001b[39masync_wait()\n",
      "File \u001b[1;32mc:\\Users\\Rawan Alamily\\AppData\\Local\\Programs\\Python\\Python310\\lib\\site-packages\\tensorflow\\python\\util\\traceback_utils.py:150\u001b[0m, in \u001b[0;36mfilter_traceback.<locals>.error_handler\u001b[1;34m(*args, **kwargs)\u001b[0m\n\u001b[0;32m    <a href='file:///c%3A/Users/Rawan%20Alamily/AppData/Local/Programs/Python/Python310/lib/site-packages/tensorflow/python/util/traceback_utils.py?line=147'>148</a>\u001b[0m filtered_tb \u001b[39m=\u001b[39m \u001b[39mNone\u001b[39;00m\n\u001b[0;32m    <a href='file:///c%3A/Users/Rawan%20Alamily/AppData/Local/Programs/Python/Python310/lib/site-packages/tensorflow/python/util/traceback_utils.py?line=148'>149</a>\u001b[0m \u001b[39mtry\u001b[39;00m:\n\u001b[1;32m--> <a href='file:///c%3A/Users/Rawan%20Alamily/AppData/Local/Programs/Python/Python310/lib/site-packages/tensorflow/python/util/traceback_utils.py?line=149'>150</a>\u001b[0m   \u001b[39mreturn\u001b[39;00m fn(\u001b[39m*\u001b[39margs, \u001b[39m*\u001b[39m\u001b[39m*\u001b[39mkwargs)\n\u001b[0;32m    <a href='file:///c%3A/Users/Rawan%20Alamily/AppData/Local/Programs/Python/Python310/lib/site-packages/tensorflow/python/util/traceback_utils.py?line=150'>151</a>\u001b[0m \u001b[39mexcept\u001b[39;00m \u001b[39mException\u001b[39;00m \u001b[39mas\u001b[39;00m e:\n\u001b[0;32m    <a href='file:///c%3A/Users/Rawan%20Alamily/AppData/Local/Programs/Python/Python310/lib/site-packages/tensorflow/python/util/traceback_utils.py?line=151'>152</a>\u001b[0m   filtered_tb \u001b[39m=\u001b[39m _process_traceback_frames(e\u001b[39m.\u001b[39m__traceback__)\n",
      "File \u001b[1;32mc:\\Users\\Rawan Alamily\\AppData\\Local\\Programs\\Python\\Python310\\lib\\site-packages\\tensorflow\\python\\eager\\polymorphic_function\\polymorphic_function.py:894\u001b[0m, in \u001b[0;36mFunction.__call__\u001b[1;34m(self, *args, **kwds)\u001b[0m\n\u001b[0;32m    <a href='file:///c%3A/Users/Rawan%20Alamily/AppData/Local/Programs/Python/Python310/lib/site-packages/tensorflow/python/eager/polymorphic_function/polymorphic_function.py?line=890'>891</a>\u001b[0m compiler \u001b[39m=\u001b[39m \u001b[39m\"\u001b[39m\u001b[39mxla\u001b[39m\u001b[39m\"\u001b[39m \u001b[39mif\u001b[39;00m \u001b[39mself\u001b[39m\u001b[39m.\u001b[39m_jit_compile \u001b[39melse\u001b[39;00m \u001b[39m\"\u001b[39m\u001b[39mnonXla\u001b[39m\u001b[39m\"\u001b[39m\n\u001b[0;32m    <a href='file:///c%3A/Users/Rawan%20Alamily/AppData/Local/Programs/Python/Python310/lib/site-packages/tensorflow/python/eager/polymorphic_function/polymorphic_function.py?line=892'>893</a>\u001b[0m \u001b[39mwith\u001b[39;00m OptionalXlaContext(\u001b[39mself\u001b[39m\u001b[39m.\u001b[39m_jit_compile):\n\u001b[1;32m--> <a href='file:///c%3A/Users/Rawan%20Alamily/AppData/Local/Programs/Python/Python310/lib/site-packages/tensorflow/python/eager/polymorphic_function/polymorphic_function.py?line=893'>894</a>\u001b[0m   result \u001b[39m=\u001b[39m \u001b[39mself\u001b[39m\u001b[39m.\u001b[39m_call(\u001b[39m*\u001b[39margs, \u001b[39m*\u001b[39m\u001b[39m*\u001b[39mkwds)\n\u001b[0;32m    <a href='file:///c%3A/Users/Rawan%20Alamily/AppData/Local/Programs/Python/Python310/lib/site-packages/tensorflow/python/eager/polymorphic_function/polymorphic_function.py?line=895'>896</a>\u001b[0m new_tracing_count \u001b[39m=\u001b[39m \u001b[39mself\u001b[39m\u001b[39m.\u001b[39mexperimental_get_tracing_count()\n\u001b[0;32m    <a href='file:///c%3A/Users/Rawan%20Alamily/AppData/Local/Programs/Python/Python310/lib/site-packages/tensorflow/python/eager/polymorphic_function/polymorphic_function.py?line=896'>897</a>\u001b[0m without_tracing \u001b[39m=\u001b[39m (tracing_count \u001b[39m==\u001b[39m new_tracing_count)\n",
      "File \u001b[1;32mc:\\Users\\Rawan Alamily\\AppData\\Local\\Programs\\Python\\Python310\\lib\\site-packages\\tensorflow\\python\\eager\\polymorphic_function\\polymorphic_function.py:926\u001b[0m, in \u001b[0;36mFunction._call\u001b[1;34m(self, *args, **kwds)\u001b[0m\n\u001b[0;32m    <a href='file:///c%3A/Users/Rawan%20Alamily/AppData/Local/Programs/Python/Python310/lib/site-packages/tensorflow/python/eager/polymorphic_function/polymorphic_function.py?line=922'>923</a>\u001b[0m   \u001b[39mself\u001b[39m\u001b[39m.\u001b[39m_lock\u001b[39m.\u001b[39mrelease()\n\u001b[0;32m    <a href='file:///c%3A/Users/Rawan%20Alamily/AppData/Local/Programs/Python/Python310/lib/site-packages/tensorflow/python/eager/polymorphic_function/polymorphic_function.py?line=923'>924</a>\u001b[0m   \u001b[39m# In this case we have created variables on the first call, so we run the\u001b[39;00m\n\u001b[0;32m    <a href='file:///c%3A/Users/Rawan%20Alamily/AppData/Local/Programs/Python/Python310/lib/site-packages/tensorflow/python/eager/polymorphic_function/polymorphic_function.py?line=924'>925</a>\u001b[0m   \u001b[39m# defunned version which is guaranteed to never create variables.\u001b[39;00m\n\u001b[1;32m--> <a href='file:///c%3A/Users/Rawan%20Alamily/AppData/Local/Programs/Python/Python310/lib/site-packages/tensorflow/python/eager/polymorphic_function/polymorphic_function.py?line=925'>926</a>\u001b[0m   \u001b[39mreturn\u001b[39;00m \u001b[39mself\u001b[39m\u001b[39m.\u001b[39m_no_variable_creation_fn(\u001b[39m*\u001b[39margs, \u001b[39m*\u001b[39m\u001b[39m*\u001b[39mkwds)  \u001b[39m# pylint: disable=not-callable\u001b[39;00m\n\u001b[0;32m    <a href='file:///c%3A/Users/Rawan%20Alamily/AppData/Local/Programs/Python/Python310/lib/site-packages/tensorflow/python/eager/polymorphic_function/polymorphic_function.py?line=926'>927</a>\u001b[0m \u001b[39melif\u001b[39;00m \u001b[39mself\u001b[39m\u001b[39m.\u001b[39m_variable_creation_fn \u001b[39mis\u001b[39;00m \u001b[39mnot\u001b[39;00m \u001b[39mNone\u001b[39;00m:\n\u001b[0;32m    <a href='file:///c%3A/Users/Rawan%20Alamily/AppData/Local/Programs/Python/Python310/lib/site-packages/tensorflow/python/eager/polymorphic_function/polymorphic_function.py?line=927'>928</a>\u001b[0m   \u001b[39m# Release the lock early so that multiple threads can perform the call\u001b[39;00m\n\u001b[0;32m    <a href='file:///c%3A/Users/Rawan%20Alamily/AppData/Local/Programs/Python/Python310/lib/site-packages/tensorflow/python/eager/polymorphic_function/polymorphic_function.py?line=928'>929</a>\u001b[0m   \u001b[39m# in parallel.\u001b[39;00m\n\u001b[0;32m    <a href='file:///c%3A/Users/Rawan%20Alamily/AppData/Local/Programs/Python/Python310/lib/site-packages/tensorflow/python/eager/polymorphic_function/polymorphic_function.py?line=929'>930</a>\u001b[0m   \u001b[39mself\u001b[39m\u001b[39m.\u001b[39m_lock\u001b[39m.\u001b[39mrelease()\n",
      "File \u001b[1;32mc:\\Users\\Rawan Alamily\\AppData\\Local\\Programs\\Python\\Python310\\lib\\site-packages\\tensorflow\\python\\eager\\polymorphic_function\\tracing_compiler.py:143\u001b[0m, in \u001b[0;36mTracingCompiler.__call__\u001b[1;34m(self, *args, **kwargs)\u001b[0m\n\u001b[0;32m    <a href='file:///c%3A/Users/Rawan%20Alamily/AppData/Local/Programs/Python/Python310/lib/site-packages/tensorflow/python/eager/polymorphic_function/tracing_compiler.py?line=139'>140</a>\u001b[0m \u001b[39mwith\u001b[39;00m \u001b[39mself\u001b[39m\u001b[39m.\u001b[39m_lock:\n\u001b[0;32m    <a href='file:///c%3A/Users/Rawan%20Alamily/AppData/Local/Programs/Python/Python310/lib/site-packages/tensorflow/python/eager/polymorphic_function/tracing_compiler.py?line=140'>141</a>\u001b[0m   (concrete_function,\n\u001b[0;32m    <a href='file:///c%3A/Users/Rawan%20Alamily/AppData/Local/Programs/Python/Python310/lib/site-packages/tensorflow/python/eager/polymorphic_function/tracing_compiler.py?line=141'>142</a>\u001b[0m    filtered_flat_args) \u001b[39m=\u001b[39m \u001b[39mself\u001b[39m\u001b[39m.\u001b[39m_maybe_define_function(args, kwargs)\n\u001b[1;32m--> <a href='file:///c%3A/Users/Rawan%20Alamily/AppData/Local/Programs/Python/Python310/lib/site-packages/tensorflow/python/eager/polymorphic_function/tracing_compiler.py?line=142'>143</a>\u001b[0m \u001b[39mreturn\u001b[39;00m concrete_function\u001b[39m.\u001b[39;49m_call_flat(\n\u001b[0;32m    <a href='file:///c%3A/Users/Rawan%20Alamily/AppData/Local/Programs/Python/Python310/lib/site-packages/tensorflow/python/eager/polymorphic_function/tracing_compiler.py?line=143'>144</a>\u001b[0m     filtered_flat_args, captured_inputs\u001b[39m=\u001b[39;49mconcrete_function\u001b[39m.\u001b[39;49mcaptured_inputs)\n",
      "File \u001b[1;32mc:\\Users\\Rawan Alamily\\AppData\\Local\\Programs\\Python\\Python310\\lib\\site-packages\\tensorflow\\python\\eager\\polymorphic_function\\monomorphic_function.py:1757\u001b[0m, in \u001b[0;36mConcreteFunction._call_flat\u001b[1;34m(self, args, captured_inputs, cancellation_manager)\u001b[0m\n\u001b[0;32m   <a href='file:///c%3A/Users/Rawan%20Alamily/AppData/Local/Programs/Python/Python310/lib/site-packages/tensorflow/python/eager/polymorphic_function/monomorphic_function.py?line=1752'>1753</a>\u001b[0m possible_gradient_type \u001b[39m=\u001b[39m gradients_util\u001b[39m.\u001b[39mPossibleTapeGradientTypes(args)\n\u001b[0;32m   <a href='file:///c%3A/Users/Rawan%20Alamily/AppData/Local/Programs/Python/Python310/lib/site-packages/tensorflow/python/eager/polymorphic_function/monomorphic_function.py?line=1753'>1754</a>\u001b[0m \u001b[39mif\u001b[39;00m (possible_gradient_type \u001b[39m==\u001b[39m gradients_util\u001b[39m.\u001b[39mPOSSIBLE_GRADIENT_TYPES_NONE\n\u001b[0;32m   <a href='file:///c%3A/Users/Rawan%20Alamily/AppData/Local/Programs/Python/Python310/lib/site-packages/tensorflow/python/eager/polymorphic_function/monomorphic_function.py?line=1754'>1755</a>\u001b[0m     \u001b[39mand\u001b[39;00m executing_eagerly):\n\u001b[0;32m   <a href='file:///c%3A/Users/Rawan%20Alamily/AppData/Local/Programs/Python/Python310/lib/site-packages/tensorflow/python/eager/polymorphic_function/monomorphic_function.py?line=1755'>1756</a>\u001b[0m   \u001b[39m# No tape is watching; skip to running the function.\u001b[39;00m\n\u001b[1;32m-> <a href='file:///c%3A/Users/Rawan%20Alamily/AppData/Local/Programs/Python/Python310/lib/site-packages/tensorflow/python/eager/polymorphic_function/monomorphic_function.py?line=1756'>1757</a>\u001b[0m   \u001b[39mreturn\u001b[39;00m \u001b[39mself\u001b[39m\u001b[39m.\u001b[39m_build_call_outputs(\u001b[39mself\u001b[39;49m\u001b[39m.\u001b[39;49m_inference_function\u001b[39m.\u001b[39;49mcall(\n\u001b[0;32m   <a href='file:///c%3A/Users/Rawan%20Alamily/AppData/Local/Programs/Python/Python310/lib/site-packages/tensorflow/python/eager/polymorphic_function/monomorphic_function.py?line=1757'>1758</a>\u001b[0m       ctx, args, cancellation_manager\u001b[39m=\u001b[39;49mcancellation_manager))\n\u001b[0;32m   <a href='file:///c%3A/Users/Rawan%20Alamily/AppData/Local/Programs/Python/Python310/lib/site-packages/tensorflow/python/eager/polymorphic_function/monomorphic_function.py?line=1758'>1759</a>\u001b[0m forward_backward \u001b[39m=\u001b[39m \u001b[39mself\u001b[39m\u001b[39m.\u001b[39m_select_forward_and_backward_functions(\n\u001b[0;32m   <a href='file:///c%3A/Users/Rawan%20Alamily/AppData/Local/Programs/Python/Python310/lib/site-packages/tensorflow/python/eager/polymorphic_function/monomorphic_function.py?line=1759'>1760</a>\u001b[0m     args,\n\u001b[0;32m   <a href='file:///c%3A/Users/Rawan%20Alamily/AppData/Local/Programs/Python/Python310/lib/site-packages/tensorflow/python/eager/polymorphic_function/monomorphic_function.py?line=1760'>1761</a>\u001b[0m     possible_gradient_type,\n\u001b[0;32m   <a href='file:///c%3A/Users/Rawan%20Alamily/AppData/Local/Programs/Python/Python310/lib/site-packages/tensorflow/python/eager/polymorphic_function/monomorphic_function.py?line=1761'>1762</a>\u001b[0m     executing_eagerly)\n\u001b[0;32m   <a href='file:///c%3A/Users/Rawan%20Alamily/AppData/Local/Programs/Python/Python310/lib/site-packages/tensorflow/python/eager/polymorphic_function/monomorphic_function.py?line=1762'>1763</a>\u001b[0m forward_function, args_with_tangents \u001b[39m=\u001b[39m forward_backward\u001b[39m.\u001b[39mforward()\n",
      "File \u001b[1;32mc:\\Users\\Rawan Alamily\\AppData\\Local\\Programs\\Python\\Python310\\lib\\site-packages\\tensorflow\\python\\eager\\polymorphic_function\\monomorphic_function.py:381\u001b[0m, in \u001b[0;36m_EagerDefinedFunction.call\u001b[1;34m(self, ctx, args, cancellation_manager)\u001b[0m\n\u001b[0;32m    <a href='file:///c%3A/Users/Rawan%20Alamily/AppData/Local/Programs/Python/Python310/lib/site-packages/tensorflow/python/eager/polymorphic_function/monomorphic_function.py?line=378'>379</a>\u001b[0m \u001b[39mwith\u001b[39;00m _InterpolateFunctionError(\u001b[39mself\u001b[39m):\n\u001b[0;32m    <a href='file:///c%3A/Users/Rawan%20Alamily/AppData/Local/Programs/Python/Python310/lib/site-packages/tensorflow/python/eager/polymorphic_function/monomorphic_function.py?line=379'>380</a>\u001b[0m   \u001b[39mif\u001b[39;00m cancellation_manager \u001b[39mis\u001b[39;00m \u001b[39mNone\u001b[39;00m:\n\u001b[1;32m--> <a href='file:///c%3A/Users/Rawan%20Alamily/AppData/Local/Programs/Python/Python310/lib/site-packages/tensorflow/python/eager/polymorphic_function/monomorphic_function.py?line=380'>381</a>\u001b[0m     outputs \u001b[39m=\u001b[39m execute\u001b[39m.\u001b[39;49mexecute(\n\u001b[0;32m    <a href='file:///c%3A/Users/Rawan%20Alamily/AppData/Local/Programs/Python/Python310/lib/site-packages/tensorflow/python/eager/polymorphic_function/monomorphic_function.py?line=381'>382</a>\u001b[0m         \u001b[39mstr\u001b[39;49m(\u001b[39mself\u001b[39;49m\u001b[39m.\u001b[39;49msignature\u001b[39m.\u001b[39;49mname),\n\u001b[0;32m    <a href='file:///c%3A/Users/Rawan%20Alamily/AppData/Local/Programs/Python/Python310/lib/site-packages/tensorflow/python/eager/polymorphic_function/monomorphic_function.py?line=382'>383</a>\u001b[0m         num_outputs\u001b[39m=\u001b[39;49m\u001b[39mself\u001b[39;49m\u001b[39m.\u001b[39;49m_num_outputs,\n\u001b[0;32m    <a href='file:///c%3A/Users/Rawan%20Alamily/AppData/Local/Programs/Python/Python310/lib/site-packages/tensorflow/python/eager/polymorphic_function/monomorphic_function.py?line=383'>384</a>\u001b[0m         inputs\u001b[39m=\u001b[39;49margs,\n\u001b[0;32m    <a href='file:///c%3A/Users/Rawan%20Alamily/AppData/Local/Programs/Python/Python310/lib/site-packages/tensorflow/python/eager/polymorphic_function/monomorphic_function.py?line=384'>385</a>\u001b[0m         attrs\u001b[39m=\u001b[39;49mattrs,\n\u001b[0;32m    <a href='file:///c%3A/Users/Rawan%20Alamily/AppData/Local/Programs/Python/Python310/lib/site-packages/tensorflow/python/eager/polymorphic_function/monomorphic_function.py?line=385'>386</a>\u001b[0m         ctx\u001b[39m=\u001b[39;49mctx)\n\u001b[0;32m    <a href='file:///c%3A/Users/Rawan%20Alamily/AppData/Local/Programs/Python/Python310/lib/site-packages/tensorflow/python/eager/polymorphic_function/monomorphic_function.py?line=386'>387</a>\u001b[0m   \u001b[39melse\u001b[39;00m:\n\u001b[0;32m    <a href='file:///c%3A/Users/Rawan%20Alamily/AppData/Local/Programs/Python/Python310/lib/site-packages/tensorflow/python/eager/polymorphic_function/monomorphic_function.py?line=387'>388</a>\u001b[0m     outputs \u001b[39m=\u001b[39m execute\u001b[39m.\u001b[39mexecute_with_cancellation(\n\u001b[0;32m    <a href='file:///c%3A/Users/Rawan%20Alamily/AppData/Local/Programs/Python/Python310/lib/site-packages/tensorflow/python/eager/polymorphic_function/monomorphic_function.py?line=388'>389</a>\u001b[0m         \u001b[39mstr\u001b[39m(\u001b[39mself\u001b[39m\u001b[39m.\u001b[39msignature\u001b[39m.\u001b[39mname),\n\u001b[0;32m    <a href='file:///c%3A/Users/Rawan%20Alamily/AppData/Local/Programs/Python/Python310/lib/site-packages/tensorflow/python/eager/polymorphic_function/monomorphic_function.py?line=389'>390</a>\u001b[0m         num_outputs\u001b[39m=\u001b[39m\u001b[39mself\u001b[39m\u001b[39m.\u001b[39m_num_outputs,\n\u001b[1;32m   (...)\u001b[0m\n\u001b[0;32m    <a href='file:///c%3A/Users/Rawan%20Alamily/AppData/Local/Programs/Python/Python310/lib/site-packages/tensorflow/python/eager/polymorphic_function/monomorphic_function.py?line=392'>393</a>\u001b[0m         ctx\u001b[39m=\u001b[39mctx,\n\u001b[0;32m    <a href='file:///c%3A/Users/Rawan%20Alamily/AppData/Local/Programs/Python/Python310/lib/site-packages/tensorflow/python/eager/polymorphic_function/monomorphic_function.py?line=393'>394</a>\u001b[0m         cancellation_manager\u001b[39m=\u001b[39mcancellation_manager)\n",
      "File \u001b[1;32mc:\\Users\\Rawan Alamily\\AppData\\Local\\Programs\\Python\\Python310\\lib\\site-packages\\tensorflow\\python\\eager\\execute.py:52\u001b[0m, in \u001b[0;36mquick_execute\u001b[1;34m(op_name, num_outputs, inputs, attrs, ctx, name)\u001b[0m\n\u001b[0;32m     <a href='file:///c%3A/Users/Rawan%20Alamily/AppData/Local/Programs/Python/Python310/lib/site-packages/tensorflow/python/eager/execute.py?line=49'>50</a>\u001b[0m \u001b[39mtry\u001b[39;00m:\n\u001b[0;32m     <a href='file:///c%3A/Users/Rawan%20Alamily/AppData/Local/Programs/Python/Python310/lib/site-packages/tensorflow/python/eager/execute.py?line=50'>51</a>\u001b[0m   ctx\u001b[39m.\u001b[39mensure_initialized()\n\u001b[1;32m---> <a href='file:///c%3A/Users/Rawan%20Alamily/AppData/Local/Programs/Python/Python310/lib/site-packages/tensorflow/python/eager/execute.py?line=51'>52</a>\u001b[0m   tensors \u001b[39m=\u001b[39m pywrap_tfe\u001b[39m.\u001b[39;49mTFE_Py_Execute(ctx\u001b[39m.\u001b[39;49m_handle, device_name, op_name,\n\u001b[0;32m     <a href='file:///c%3A/Users/Rawan%20Alamily/AppData/Local/Programs/Python/Python310/lib/site-packages/tensorflow/python/eager/execute.py?line=52'>53</a>\u001b[0m                                       inputs, attrs, num_outputs)\n\u001b[0;32m     <a href='file:///c%3A/Users/Rawan%20Alamily/AppData/Local/Programs/Python/Python310/lib/site-packages/tensorflow/python/eager/execute.py?line=53'>54</a>\u001b[0m \u001b[39mexcept\u001b[39;00m core\u001b[39m.\u001b[39m_NotOkStatusException \u001b[39mas\u001b[39;00m e:\n\u001b[0;32m     <a href='file:///c%3A/Users/Rawan%20Alamily/AppData/Local/Programs/Python/Python310/lib/site-packages/tensorflow/python/eager/execute.py?line=54'>55</a>\u001b[0m   \u001b[39mif\u001b[39;00m name \u001b[39mis\u001b[39;00m \u001b[39mnot\u001b[39;00m \u001b[39mNone\u001b[39;00m:\n",
      "\u001b[1;31mKeyboardInterrupt\u001b[0m: "
     ]
    }
   ],
   "metadata": {}
  },
  {
   "cell_type": "code",
   "execution_count": 10,
   "source": [
    "def df_to_dataset(df, batch_size=32, resample=False):\n",
    "    df = df.copy()\n",
    "    if resample:\n",
    "        pos_df = df[df['target'] == 1]\n",
    "        neg_df = df[df['target'] == 0]\n",
    "        pos_labels = pos_df.pop('target')\n",
    "        pos_features = pos_df\n",
    "        neg_labels = neg_df.pop('target')\n",
    "        neg_features = neg_df\n",
    "        pos_ds = tf.data.Dataset.from_tensor_slices((dict(pos_features), pos_labels))\n",
    "        neg_ds = tf.data.Dataset.from_tensor_slices((dict(neg_features), neg_labels))\n",
    "        \n",
    "        resampled_ds = tf.data.Dataset.sample_from_datasets([pos_ds, neg_ds], weights=[0.5, 0.5])\n",
    "        #resampled_ds = resampled_ds.apply(tf.data.experimental.assert_cardinality(54748))\n",
    "        resampled_ds = resampled_ds.shuffle(buffer_size=len(df))\n",
    "        resampled_ds = resampled_ds.batch(batch_size).prefetch(2)\n",
    "        return resampled_ds.repeat(3)\n",
    "    else:\n",
    "        labels = df.pop('target')\n",
    "        tf_dataset = tf.data.Dataset.from_tensor_slices((dict(df), labels))\n",
    "        shuffled_tf_dataset = tf_dataset.shuffle(buffer_size=len(df)) # shuffling values \n",
    "        return shuffled_tf_dataset.batch(batch_size).prefetch(2).repeat(2) # returning 32 samples per batch"
   ],
   "outputs": [],
   "metadata": {}
  },
  {
   "cell_type": "code",
   "execution_count": 11,
   "source": [
    "# with large batch size\n",
    "batch_size=1024\n",
    "train, val, test = np.split(dataframe.sample(frac=1), [int(0.8*len(dataframe)), int(0.9*len(dataframe))])\n",
    "train_ds = df_to_dataset(df=train, batch_size=batch_size )\n",
    "val_ds = df_to_dataset(df=val, batch_size=batch_size)\n",
    "test_ds = df_to_dataset(df=test, batch_size=batch_size)\n",
    "##steps_per_epoch = np.ceil(2.0*pos/batch_size)\n",
    "##print(steps_per_epoch)"
   ],
   "outputs": [],
   "metadata": {}
  },
  {
   "cell_type": "code",
   "execution_count": 12,
   "source": [
    "def get_normalization_layer(feature_name, dataset):\n",
    "    # normalize numeric features\n",
    "    normalizer = layers.Normalization(axis=None)\n",
    "    # extract feature from dataset\n",
    "    feature_ds = dataset.map(lambda x, y: x[feature_name])\n",
    "    normalizer.adapt(feature_ds)\n",
    "    return normalizer\n",
    "def get_category_encoding_layer(feature_name, dataset, dtype, max_tokens=None):\n",
    "    if dtype == 'string':\n",
    "        index = layers.StringLookup(max_tokens=max_tokens)\n",
    "    else:\n",
    "        index = layers.IntegerLookup(max_tokens=max_tokens)\n",
    "    # extract feature from dataset\n",
    "    feature_ds = dataset.map(lambda x, y: x[feature_name])\n",
    "    # 'learn' all possible feature values, assign each an int index \n",
    "    index.adapt(feature_ds)\n",
    "    # encode integer index\n",
    "    encoder = layers.CategoryEncoding(num_tokens=index.vocabulary_size(), output_mode=\"one_hot\")\n",
    "    # multi-hot encode indeices - lambda function captures layers\n",
    "    return lambda feature: encoder(index(feature))"
   ],
   "outputs": [],
   "metadata": {}
  },
  {
   "cell_type": "code",
   "execution_count": 14,
   "source": [
    "heart_csv_path = 'C:/Users/Rawan Alamily/Downloads/McSCert Co-op/explainable-ai-heart/models/lifestyle-metrics-model/data/life-heart.csv'\n",
    "dataframe = pd.read_csv(heart_csv_path)\n",
    "print(dataframe.describe())\n",
    "print(dataframe.shape)\n",
    "dataframe['target'] = np.where(dataframe['heartDisease']=='Yes', 1, 0)\n",
    "dataframe = dataframe.drop(columns=['heartDisease'])\n",
    "dataframe = dataframe.sample(frac=1)\n",
    "RANDOM_SEED = 42\n",
    "np.random.seed(RANDOM_SEED)\n",
    "neg, pos = np.bincount(dataframe['target'])"
   ],
   "outputs": [
    {
     "output_type": "stream",
     "name": "stdout",
     "text": [
      "                 bmi  physicalHealth   mentalHealth     sleepHours\n",
      "count  319795.000000    319795.00000  319795.000000  319795.000000\n",
      "mean       28.325399         3.37171       3.898366       7.097075\n",
      "std         6.356100         7.95085       7.955235       1.436007\n",
      "min        12.020000         0.00000       0.000000       1.000000\n",
      "25%        24.030000         0.00000       0.000000       6.000000\n",
      "50%        27.340000         0.00000       0.000000       7.000000\n",
      "75%        31.420000         2.00000       3.000000       8.000000\n",
      "max        94.850000        30.00000      30.000000      24.000000\n",
      "(319795, 17)\n"
     ]
    }
   ],
   "metadata": {}
  },
  {
   "cell_type": "code",
   "execution_count": 15,
   "source": [
    "def df_to_dataset(df, batch_size=32, resample=False):\n",
    "    df = df.copy()\n",
    "    if resample:\n",
    "        pos_df = df[df['target'] == 1]\n",
    "        neg_df = df[df['target'] == 0]\n",
    "        pos_labels = pos_df.pop('target')\n",
    "        pos_features = pos_df\n",
    "        neg_labels = neg_df.pop('target')\n",
    "        neg_features = neg_df\n",
    "        pos_ds = tf.data.Dataset.from_tensor_slices((dict(pos_features), pos_labels))\n",
    "        neg_ds = tf.data.Dataset.from_tensor_slices((dict(neg_features), neg_labels))\n",
    "        \n",
    "        resampled_ds = tf.data.Dataset.sample_from_datasets([pos_ds, neg_ds], weights=[0.5, 0.5])\n",
    "        #resampled_ds = resampled_ds.apply(tf.data.experimental.assert_cardinality(54748))\n",
    "        resampled_ds = resampled_ds.shuffle(buffer_size=len(df))\n",
    "        resampled_ds = resampled_ds.batch(batch_size).prefetch(2)\n",
    "        return resampled_ds.repeat(3)\n",
    "    else:\n",
    "        labels = df.pop('target')\n",
    "        tf_dataset = tf.data.Dataset.from_tensor_slices((dict(df), labels))\n",
    "        shuffled_tf_dataset = tf_dataset.shuffle(buffer_size=len(df)) # shuffling values \n",
    "        return shuffled_tf_dataset.batch(batch_size).prefetch(2).repeat(2) # returning 32 samples per batch"
   ],
   "outputs": [],
   "metadata": {}
  },
  {
   "cell_type": "code",
   "execution_count": 17,
   "source": [
    "def df_to_dataset(df, batch_size=32, resample=False):\n",
    "    df = df.copy()\n",
    "    if resample:\n",
    "        pos_df = df[df['target'] == 1]\n",
    "        neg_df = df[df['target'] == 0]\n",
    "        pos_labels = pos_df.pop('target')\n",
    "        pos_features = pos_df\n",
    "        neg_labels = neg_df.pop('target')\n",
    "        neg_features = neg_df\n",
    "        pos_ds = tf.data.Dataset.from_tensor_slices((dict(pos_features), pos_labels))\n",
    "        neg_ds = tf.data.Dataset.from_tensor_slices((dict(neg_features), neg_labels))\n",
    "        \n",
    "        resampled_ds = tf.data.Dataset.sample_from_datasets([pos_ds, neg_ds], weights=[0.5, 0.5])\n",
    "        #resampled_ds = resampled_ds.apply(tf.data.experimental.assert_cardinality(54748))\n",
    "        resampled_ds = resampled_ds.shuffle(buffer_size=len(df))\n",
    "        resampled_ds = resampled_ds.batch(batch_size).prefetch(2)\n",
    "        return resampled_ds.repeat(3)\n",
    "    else:\n",
    "        labels = df.pop('target')\n",
    "        tf_dataset = tf.data.Dataset.from_tensor_slices((dict(df), labels))\n",
    "        shuffled_tf_dataset = tf_dataset.shuffle(buffer_size=len(df)) # shuffling values \n",
    "        return shuffled_tf_dataset.batch(batch_size).prefetch(2)# returning 32 samples per batch"
   ],
   "outputs": [],
   "metadata": {}
  },
  {
   "cell_type": "code",
   "execution_count": 19,
   "source": [
    "# with large batch size\n",
    "batch_size=1024\n",
    "# train, val, test = np.split(dataframe.sample(frac=1), [int(0.8*len(dataframe)), int(0.9*len(dataframe))])\n",
    "train, val = train_test_split(dataframe, test_size=0.2, random_state=RANDOM_SEED)\n",
    "train_ds = df_to_dataset(df=train, batch_size=batch_size )\n",
    "val_ds = df_to_dataset(df=val, batch_size=batch_size)\n",
    "# test_ds = df_to_dataset(df=test, batch_size=batch_size)\n",
    "##steps_per_epoch = np.ceil(2.0*pos/batch_size)\n",
    "##print(steps_per_epoch)"
   ],
   "outputs": [],
   "metadata": {}
  },
  {
   "cell_type": "code",
   "execution_count": 20,
   "source": [
    "def get_normalization_layer(feature_name, dataset):\n",
    "    # normalize numeric features\n",
    "    normalizer = layers.Normalization(axis=None)\n",
    "    # extract feature from dataset\n",
    "    feature_ds = dataset.map(lambda x, y: x[feature_name])\n",
    "    normalizer.adapt(feature_ds)\n",
    "    return normalizer\n",
    "def get_category_encoding_layer(feature_name, dataset, dtype, max_tokens=None):\n",
    "    if dtype == 'string':\n",
    "        index = layers.StringLookup(max_tokens=max_tokens)\n",
    "    else:\n",
    "        index = layers.IntegerLookup(max_tokens=max_tokens)\n",
    "    # extract feature from dataset\n",
    "    feature_ds = dataset.map(lambda x, y: x[feature_name])\n",
    "    # 'learn' all possible feature values, assign each an int index \n",
    "    index.adapt(feature_ds)\n",
    "    # encode integer index\n",
    "    encoder = layers.CategoryEncoding(num_tokens=index.vocabulary_size(), output_mode=\"one_hot\")\n",
    "    # multi-hot encode indeices - lambda function captures layers\n",
    "    return lambda feature: encoder(index(feature))"
   ],
   "outputs": [],
   "metadata": {}
  },
  {
   "cell_type": "code",
   "execution_count": 21,
   "source": [
    "# preprocess all features:\n",
    "inputs = []\n",
    "encoded_features =[]\n",
    "\n",
    "# numerical\n",
    "for header in [\"bmi\", \"physicalHealth\", \"mentalHealth\", 'sleepHours' ]:\n",
    "    num_col = tf.keras.Input(shape=(1,), name=header)\n",
    "    # keras inputs array\n",
    "    inputs.append(num_col)\n",
    "\n",
    "    norm_layer = get_normalization_layer(feature_name=header, dataset=train_ds)\n",
    "    encoded_num_col = norm_layer(num_col)\n",
    "    # encoded feature\n",
    "    encoded_features.append(encoded_num_col)\n",
    "\n",
    "# categorical\n",
    "for header in [\"smoking\",\"alcoholDrinking\",\"stroke\",\"diffWalk\",\n",
    "                \"sex\", \"ageGroup\", \"diabetic\", \"physicalActivity\", \n",
    "                \"overallHealth\", \"asthma\", \"kidneyDisease\", \"skinCancer\"]:\n",
    "    \n",
    "    # declare header as a keras Input\n",
    "    cat_col = tf.keras.Input(shape=(1,), name=header, dtype='string')\n",
    "    # keras inputs array\n",
    "    inputs.append(cat_col)\n",
    "\n",
    "    # get preprocessing layer \n",
    "    cat_layer = get_category_encoding_layer(feature_name=header,\n",
    "                                            dataset=train_ds, \n",
    "                                            dtype='string', \n",
    "                                            max_tokens=None)\n",
    "    encoded_cat_col = cat_layer(cat_col)\n",
    "    # encoded feature\n",
    "    encoded_features.append(encoded_cat_col)"
   ],
   "outputs": [],
   "metadata": {}
  },
  {
   "cell_type": "code",
   "execution_count": 22,
   "source": [
    "# KERAS FUNCTIONAL API - MODEL BUILD   \n",
    "# merge list feature inputs into one vector\n",
    "features = tf.keras.layers.concatenate(encoded_features)\n",
    "x = tf.keras.layers.Dense(units=128, activation=\"relu\")(features)\n",
    "x = tf.keras.layers.Dropout(rate=0.2)(x)\n",
    "x = tf.keras.layers.Dense(units=128, activation='relu')(x)\n",
    "output = tf.keras.layers.Dense(units=1, activation='sigmoid')(x)\n",
    "model = tf.keras.Model(inputs, output)"
   ],
   "outputs": [],
   "metadata": {}
  },
  {
   "cell_type": "code",
   "execution_count": 23,
   "source": [
    "model.compile(optimizer='adam', \n",
    "              loss='binary_crossentropy', \n",
    "              metrics = ['accuracy'])\n",
    "\n",
    "result = model.fit(train_ds, \n",
    "                    validation_data=val_ds, \n",
    "                    epochs=20,\n",
    "                    # steps_per_epoch=steps_per_epoch,\n",
    "                    use_multiprocessing=True, \n",
    "                    verbose=2)\n",
    "\n",
    "predictions = model.predict(val_ds)\n",
    "\n",
    "binary_predictions = tf.round(predictions).numpy().flatten()"
   ],
   "outputs": [
    {
     "output_type": "stream",
     "name": "stdout",
     "text": [
      "Epoch 1/20\n",
      "250/250 - 21s - loss: 0.2533 - accuracy: 0.9075 - val_loss: 0.2255 - val_accuracy: 0.9165 - 21s/epoch - 83ms/step\n",
      "Epoch 2/20\n",
      "250/250 - 19s - loss: 0.2282 - accuracy: 0.9158 - val_loss: 0.2248 - val_accuracy: 0.9162 - 19s/epoch - 76ms/step\n",
      "Epoch 3/20\n",
      "250/250 - 20s - loss: 0.2270 - accuracy: 0.9161 - val_loss: 0.2249 - val_accuracy: 0.9161 - 20s/epoch - 80ms/step\n",
      "Epoch 4/20\n",
      "250/250 - 33s - loss: 0.2269 - accuracy: 0.9159 - val_loss: 0.2250 - val_accuracy: 0.9162 - 33s/epoch - 134ms/step\n",
      "Epoch 5/20\n",
      "250/250 - 33s - loss: 0.2263 - accuracy: 0.9160 - val_loss: 0.2247 - val_accuracy: 0.9163 - 33s/epoch - 133ms/step\n",
      "Epoch 6/20\n",
      "250/250 - 28s - loss: 0.2258 - accuracy: 0.9162 - val_loss: 0.2248 - val_accuracy: 0.9160 - 28s/epoch - 112ms/step\n",
      "Epoch 7/20\n",
      "250/250 - 31s - loss: 0.2256 - accuracy: 0.9163 - val_loss: 0.2250 - val_accuracy: 0.9164 - 31s/epoch - 124ms/step\n",
      "Epoch 8/20\n",
      "250/250 - 31s - loss: 0.2255 - accuracy: 0.9162 - val_loss: 0.2245 - val_accuracy: 0.9160 - 31s/epoch - 123ms/step\n",
      "Epoch 9/20\n",
      "250/250 - 30s - loss: 0.2253 - accuracy: 0.9162 - val_loss: 0.2249 - val_accuracy: 0.9161 - 30s/epoch - 121ms/step\n",
      "Epoch 10/20\n",
      "250/250 - 30s - loss: 0.2252 - accuracy: 0.9165 - val_loss: 0.2245 - val_accuracy: 0.9160 - 30s/epoch - 119ms/step\n",
      "Epoch 11/20\n",
      "250/250 - 25s - loss: 0.2249 - accuracy: 0.9166 - val_loss: 0.2257 - val_accuracy: 0.9159 - 25s/epoch - 99ms/step\n",
      "Epoch 12/20\n",
      "250/250 - 30s - loss: 0.2247 - accuracy: 0.9166 - val_loss: 0.2248 - val_accuracy: 0.9163 - 30s/epoch - 122ms/step\n",
      "Epoch 13/20\n",
      "250/250 - 31s - loss: 0.2245 - accuracy: 0.9166 - val_loss: 0.2253 - val_accuracy: 0.9159 - 31s/epoch - 122ms/step\n",
      "Epoch 14/20\n",
      "250/250 - 30s - loss: 0.2246 - accuracy: 0.9166 - val_loss: 0.2247 - val_accuracy: 0.9160 - 30s/epoch - 121ms/step\n",
      "Epoch 15/20\n",
      "250/250 - 32s - loss: 0.2242 - accuracy: 0.9167 - val_loss: 0.2252 - val_accuracy: 0.9159 - 32s/epoch - 127ms/step\n",
      "Epoch 16/20\n",
      "250/250 - 30s - loss: 0.2242 - accuracy: 0.9165 - val_loss: 0.2251 - val_accuracy: 0.9155 - 30s/epoch - 121ms/step\n",
      "Epoch 17/20\n",
      "250/250 - 30s - loss: 0.2238 - accuracy: 0.9169 - val_loss: 0.2250 - val_accuracy: 0.9161 - 30s/epoch - 120ms/step\n",
      "Epoch 18/20\n",
      "250/250 - 31s - loss: 0.2238 - accuracy: 0.9167 - val_loss: 0.2250 - val_accuracy: 0.9156 - 31s/epoch - 122ms/step\n",
      "Epoch 19/20\n",
      "250/250 - 24s - loss: 0.2235 - accuracy: 0.9168 - val_loss: 0.2250 - val_accuracy: 0.9156 - 24s/epoch - 98ms/step\n",
      "Epoch 20/20\n",
      "250/250 - 33s - loss: 0.2235 - accuracy: 0.9169 - val_loss: 0.2261 - val_accuracy: 0.9158 - 33s/epoch - 131ms/step\n",
      "63/63 [==============================] - 7s 34ms/step\n"
     ]
    }
   ],
   "metadata": {}
  },
  {
   "cell_type": "code",
   "execution_count": 24,
   "source": [
    "plt.plot(result.history['loss'], label='loss')\n",
    "plt.plot(result.history['val_loss'], label='val_loss')\n",
    "plt.legend()"
   ],
   "outputs": [
    {
     "output_type": "execute_result",
     "data": {
      "text/plain": [
       "<matplotlib.legend.Legend at 0x1d31e4bf820>"
      ]
     },
     "metadata": {},
     "execution_count": 24
    },
    {
     "output_type": "display_data",
     "data": {
      "image/png": "[encoded data removed]",
      "text/plain": [
       "<Figure size 640x480 with 1 Axes>"
      ]
     },
     "metadata": {}
    }
   ],
   "metadata": {}
  },
  {
   "cell_type": "code",
   "execution_count": 25,
   "source": [
    "print(classification_report(val.get('target'), binary_predictions))\n",
    "# layer connectivity visualization\n",
    "#tf.keras.utils.plot_model(model, show_shapes=True, rankdir=\"LR\")"
   ],
   "outputs": [
    {
     "output_type": "stream",
     "name": "stdout",
     "text": [
      "              precision    recall  f1-score   support\n",
      "\n",
      "           0       0.91      0.99      0.95     58511\n",
      "           1       0.09      0.01      0.02      5448\n",
      "\n",
      "    accuracy                           0.90     63959\n",
      "   macro avg       0.50      0.50      0.49     63959\n",
      "weighted avg       0.84      0.90      0.87     63959\n",
      "\n"
     ]
    }
   ],
   "metadata": {}
  },
  {
   "cell_type": "code",
   "execution_count": 26,
   "source": [
    "# with large batch size\n",
    "batch_size=1024\n",
    "# train, val, test = np.split(dataframe.sample(frac=1), [int(0.8*len(dataframe)), int(0.9*len(dataframe))])\n",
    "train, val = train_test_split(dataframe, test_size=0.2, random_state=RANDOM_SEED)\n",
    "train_ds = df_to_dataset(df=train, batch_size=batch_size, resample=True)\n",
    "val_ds = df_to_dataset(df=val, batch_size=batch_size, resample=True)\n",
    "# test_ds = df_to_dataset(df=test, batch_size=batch_size)\n",
    "##steps_per_epoch = np.ceil(2.0*pos/batch_size)\n",
    "##print(steps_per_epoch)"
   ],
   "outputs": [],
   "metadata": {}
  },
  {
   "cell_type": "code",
   "execution_count": 27,
   "source": [
    "def get_normalization_layer(feature_name, dataset):\n",
    "    # normalize numeric features\n",
    "    normalizer = layers.Normalization(axis=None)\n",
    "    # extract feature from dataset\n",
    "    feature_ds = dataset.map(lambda x, y: x[feature_name])\n",
    "    normalizer.adapt(feature_ds)\n",
    "    return normalizer\n",
    "def get_category_encoding_layer(feature_name, dataset, dtype, max_tokens=None):\n",
    "    if dtype == 'string':\n",
    "        index = layers.StringLookup(max_tokens=max_tokens)\n",
    "    else:\n",
    "        index = layers.IntegerLookup(max_tokens=max_tokens)\n",
    "    # extract feature from dataset\n",
    "    feature_ds = dataset.map(lambda x, y: x[feature_name])\n",
    "    # 'learn' all possible feature values, assign each an int index \n",
    "    index.adapt(feature_ds)\n",
    "    # encode integer index\n",
    "    encoder = layers.CategoryEncoding(num_tokens=index.vocabulary_size(), output_mode=\"one_hot\")\n",
    "    # multi-hot encode indeices - lambda function captures layers\n",
    "    return lambda feature: encoder(index(feature))"
   ],
   "outputs": [],
   "metadata": {}
  },
  {
   "cell_type": "code",
   "execution_count": 29,
   "source": [
    "def df_to_dataset(df, batch_size=32, resample=False):\n",
    "    df = df.copy()\n",
    "    if resample:\n",
    "        pos_df = df[df['target'] == 1]\n",
    "        neg_df = df[df['target'] == 0]\n",
    "        pos_labels = pos_df.pop('target')\n",
    "        pos_features = pos_df\n",
    "        neg_labels = neg_df.pop('target')\n",
    "        neg_features = neg_df\n",
    "        pos_ds = tf.data.Dataset.from_tensor_slices((dict(pos_features), pos_labels))\n",
    "        neg_ds = tf.data.Dataset.from_tensor_slices((dict(neg_features), neg_labels))\n",
    "        \n",
    "        resampled_ds = tf.data.Dataset.sample_from_datasets([pos_ds, neg_ds], weights=[0.5, 0.5])\n",
    "        #resampled_ds = resampled_ds.apply(tf.data.experimental.assert_cardinality(54748))\n",
    "        #resampled_ds = resampled_ds.shuffle(buffer_size=len(df))\n",
    "        resampled_ds = resampled_ds.batch(batch_size).prefetch(2)\n",
    "        return resampled_ds\n",
    "    else:\n",
    "        labels = df.pop('target')\n",
    "        tf_dataset = tf.data.Dataset.from_tensor_slices((dict(df), labels)).cache()\n",
    "        # shuffled_tf_dataset = tf_dataset.shuffle(buffer_size=len(df)) # shuffling values \n",
    "        return tf_dataset.batch(batch_size).prefetch(2)# returning 32 samples per batch"
   ],
   "outputs": [],
   "metadata": {}
  },
  {
   "cell_type": "code",
   "execution_count": 30,
   "source": [
    "# with large batch size\n",
    "batch_size=1024\n",
    "# train, val, test = np.split(dataframe.sample(frac=1), [int(0.8*len(dataframe)), int(0.9*len(dataframe))])\n",
    "train, val = train_test_split(dataframe, test_size=0.2, random_state=RANDOM_SEED)\n",
    "resampled_train_ds = df_to_dataset(df=train, batch_size=batch_size, resample=True)\n",
    "val_ds = df_to_dataset(df=val, batch_size=batch_size, resample=False)\n",
    "# test_ds = df_to_dataset(df=test, batch_size=batch_size)\n",
    "##steps_per_epoch = np.ceil(2.0*pos/batch_size)\n",
    "##print(steps_per_epoch)"
   ],
   "outputs": [],
   "metadata": {}
  },
  {
   "cell_type": "code",
   "execution_count": 31,
   "source": [
    "# with large batch size\n",
    "batch_size=256\n",
    "# train, val, test = np.split(dataframe.sample(frac=1), [int(0.8*len(dataframe)), int(0.9*len(dataframe))])\n",
    "train, val = train_test_split(dataframe, test_size=0.2, random_state=RANDOM_SEED)\n",
    "resampled_train_ds = df_to_dataset(df=train, batch_size=batch_size, resample=True)\n",
    "val_ds = df_to_dataset(df=val, batch_size=batch_size, resample=False)\n",
    "# test_ds = df_to_dataset(df=test, batch_size=batch_size)\n",
    "##steps_per_epoch = np.ceil(2.0*pos/batch_size)\n",
    "##print(steps_per_epoch)"
   ],
   "outputs": [],
   "metadata": {}
  },
  {
   "cell_type": "code",
   "execution_count": 32,
   "source": [
    "def get_normalization_layer(feature_name, dataset):\n",
    "    # normalize numeric features\n",
    "    normalizer = layers.Normalization(axis=None)\n",
    "    # extract feature from dataset\n",
    "    feature_ds = dataset.map(lambda x, y: x[feature_name])\n",
    "    normalizer.adapt(feature_ds)\n",
    "    return normalizer\n",
    "def get_category_encoding_layer(feature_name, dataset, dtype, max_tokens=None):\n",
    "    if dtype == 'string':\n",
    "        index = layers.StringLookup(max_tokens=max_tokens)\n",
    "    else:\n",
    "        index = layers.IntegerLookup(max_tokens=max_tokens)\n",
    "    # extract feature from dataset\n",
    "    feature_ds = dataset.map(lambda x, y: x[feature_name])\n",
    "    # 'learn' all possible feature values, assign each an int index \n",
    "    index.adapt(feature_ds)\n",
    "    # encode integer index\n",
    "    encoder = layers.CategoryEncoding(num_tokens=index.vocabulary_size(), output_mode=\"one_hot\")\n",
    "    # multi-hot encode indeices - lambda function captures layers\n",
    "    return lambda feature: encoder(index(feature))"
   ],
   "outputs": [],
   "metadata": {}
  },
  {
   "cell_type": "code",
   "execution_count": 33,
   "source": [
    "# preprocess all features:\n",
    "inputs = []\n",
    "encoded_features =[]\n",
    "\n",
    "# numerical\n",
    "for header in [\"bmi\", \"physicalHealth\", \"mentalHealth\", 'sleepHours' ]:\n",
    "    num_col = tf.keras.Input(shape=(1,), name=header)\n",
    "    # keras inputs array\n",
    "    inputs.append(num_col)\n",
    "\n",
    "    norm_layer = get_normalization_layer(feature_name=header, dataset=resampled_train_ds)\n",
    "    encoded_num_col = norm_layer(num_col)\n",
    "    # encoded feature\n",
    "    encoded_features.append(encoded_num_col)\n",
    "\n",
    "# categorical\n",
    "for header in [\"smoking\",\"alcoholDrinking\",\"stroke\",\"diffWalk\",\n",
    "                \"sex\", \"ageGroup\", \"diabetic\", \"physicalActivity\", \n",
    "                \"overallHealth\", \"asthma\", \"kidneyDisease\", \"skinCancer\"]:\n",
    "    \n",
    "    # declare header as a keras Input\n",
    "    cat_col = tf.keras.Input(shape=(1,), name=header, dtype='string')\n",
    "    # keras inputs array\n",
    "    inputs.append(cat_col)\n",
    "\n",
    "    # get preprocessing layer \n",
    "    cat_layer = get_category_encoding_layer(feature_name=header,\n",
    "                                            dataset=resampled_train_ds, \n",
    "                                            dtype='string', \n",
    "                                            max_tokens=None)\n",
    "    encoded_cat_col = cat_layer(cat_col)\n",
    "    # encoded feature\n",
    "    encoded_features.append(encoded_cat_col)"
   ],
   "outputs": [],
   "metadata": {}
  },
  {
   "cell_type": "code",
   "execution_count": 34,
   "source": [
    "# KERAS FUNCTIONAL API - MODEL BUILD   \n",
    "# merge list feature inputs into one vector\n",
    "features = tf.keras.layers.concatenate(encoded_features)\n",
    "x = tf.keras.layers.Dense(units=128, activation=\"relu\")(features)\n",
    "x = tf.keras.layers.Dropout(rate=0.2)(x)\n",
    "x = tf.keras.layers.Dense(units=128, activation='relu')(x)\n",
    "output = tf.keras.layers.Dense(units=1, activation='sigmoid')(x)\n",
    "model = tf.keras.Model(inputs, output)"
   ],
   "outputs": [],
   "metadata": {}
  },
  {
   "cell_type": "code",
   "execution_count": 35,
   "source": [
    "model.compile(optimizer='adam', \n",
    "              loss='binary_crossentropy', \n",
    "              metrics = ['accuracy'])\n",
    "\n",
    "result = model.fit(resampled_train_ds, \n",
    "                    validation_data=val_ds, \n",
    "                    epochs=5,\n",
    "                    # steps_per_epoch=steps_per_epoch,\n",
    "                    use_multiprocessing=True, \n",
    "                    verbose=2)\n",
    "\n",
    "predictions = model.predict(val_ds)\n",
    "\n",
    "binary_predictions = tf.round(predictions).numpy().flatten()"
   ],
   "outputs": [
    {
     "output_type": "stream",
     "name": "stdout",
     "text": [
      "Epoch 1/5\n",
      "1000/1000 - 25s - loss: 0.0924 - accuracy: 0.9545 - val_loss: 0.9665 - val_accuracy: 0.9148 - 25s/epoch - 25ms/step\n",
      "Epoch 2/5\n",
      "1000/1000 - 20s - loss: 0.1164 - accuracy: 0.9493 - val_loss: 1.0557 - val_accuracy: 0.9148 - 20s/epoch - 20ms/step\n",
      "Epoch 3/5\n",
      "1000/1000 - 23s - loss: 0.1375 - accuracy: 0.9512 - val_loss: 0.9981 - val_accuracy: 0.9148 - 23s/epoch - 23ms/step\n",
      "Epoch 4/5\n",
      "1000/1000 - 22s - loss: 0.1353 - accuracy: 0.9495 - val_loss: 1.2979 - val_accuracy: 0.9148 - 22s/epoch - 22ms/step\n",
      "Epoch 5/5\n",
      "1000/1000 - 28s - loss: 0.1616 - accuracy: 0.9487 - val_loss: 1.1806 - val_accuracy: 0.9148 - 28s/epoch - 28ms/step\n",
      "250/250 [==============================] - 5s 12ms/step\n"
     ]
    }
   ],
   "metadata": {}
  },
  {
   "cell_type": "code",
   "execution_count": 36,
   "source": [
    "plt.plot(result.history['loss'], label='loss')\n",
    "plt.plot(result.history['val_loss'], label='val_loss')\n",
    "plt.legend()"
   ],
   "outputs": [
    {
     "output_type": "execute_result",
     "data": {
      "text/plain": [
       "<matplotlib.legend.Legend at 0x1d28cc67dc0>"
      ]
     },
     "metadata": {},
     "execution_count": 36
    },
    {
     "output_type": "display_data",
     "data": {
      "image/png": "[encoded data removed]",
      "text/plain": [
       "<Figure size 640x480 with 1 Axes>"
      ]
     },
     "metadata": {}
    }
   ],
   "metadata": {}
  },
  {
   "cell_type": "code",
   "execution_count": 37,
   "source": [
    "print(classification_report(val.get('target'), binary_predictions))\n",
    "# layer connectivity visualization\n",
    "#tf.keras.utils.plot_model(model, show_shapes=True, rankdir=\"LR\")"
   ],
   "outputs": [
    {
     "output_type": "stream",
     "name": "stdout",
     "text": [
      "              precision    recall  f1-score   support\n",
      "\n",
      "           0       0.91      1.00      0.96     58511\n",
      "           1       0.00      0.00      0.00      5448\n",
      "\n",
      "    accuracy                           0.91     63959\n",
      "   macro avg       0.46      0.50      0.48     63959\n",
      "weighted avg       0.84      0.91      0.87     63959\n",
      "\n"
     ]
    },
    {
     "output_type": "stream",
     "name": "stderr",
     "text": [
      "c:\\Users\\Rawan Alamily\\AppData\\Local\\Programs\\Python\\Python310\\lib\\site-packages\\sklearn\\metrics\\_classification.py:1344: UndefinedMetricWarning: Precision and F-score are ill-defined and being set to 0.0 in labels with no predicted samples. Use `zero_division` parameter to control this behavior.\n",
      "  _warn_prf(average, modifier, msg_start, len(result))\n",
      "c:\\Users\\Rawan Alamily\\AppData\\Local\\Programs\\Python\\Python310\\lib\\site-packages\\sklearn\\metrics\\_classification.py:1344: UndefinedMetricWarning: Precision and F-score are ill-defined and being set to 0.0 in labels with no predicted samples. Use `zero_division` parameter to control this behavior.\n",
      "  _warn_prf(average, modifier, msg_start, len(result))\n",
      "c:\\Users\\Rawan Alamily\\AppData\\Local\\Programs\\Python\\Python310\\lib\\site-packages\\sklearn\\metrics\\_classification.py:1344: UndefinedMetricWarning: Precision and F-score are ill-defined and being set to 0.0 in labels with no predicted samples. Use `zero_division` parameter to control this behavior.\n",
      "  _warn_prf(average, modifier, msg_start, len(result))\n"
     ]
    }
   ],
   "metadata": {}
  },
  {
   "cell_type": "code",
   "execution_count": 38,
   "source": [
    "def df_to_dataset(df, batch_size=32, resample=False):\n",
    "    df = df.copy()\n",
    "    if resample:\n",
    "        pos_df = df[df['target'] == 1]\n",
    "        neg_df = df[df['target'] == 0]\n",
    "        pos_labels = pos_df.pop('target')\n",
    "        pos_features = pos_df\n",
    "        neg_labels = neg_df.pop('target')\n",
    "        neg_features = neg_df\n",
    "        pos_ds = tf.data.Dataset.from_tensor_slices((dict(pos_features), pos_labels))\n",
    "        neg_ds = tf.data.Dataset.from_tensor_slices((dict(neg_features), neg_labels))\n",
    "        \n",
    "        resampled_ds = tf.data.Dataset.sample_from_datasets([pos_ds, neg_ds], weights=[0.5, 0.5])\n",
    "        #resampled_ds = resampled_ds.apply(tf.data.experimental.assert_cardinality(54748))\n",
    "        #resampled_ds = resampled_ds.shuffle(buffer_size=len(df))\n",
    "        resampled_ds = resampled_ds.batch(batch_size).prefetch(2)\n",
    "        return resampled_ds\n",
    "    else:\n",
    "        labels = df.pop('target')\n",
    "        tf_dataset = tf.data.Dataset.from_tensor_slices((dict(df), labels)).cache()\n",
    "        # shuffled_tf_dataset = tf_dataset.shuffle(buffer_size=len(df)) # shuffling values \n",
    "        return tf_dataset.batch(batch_size).prefetch(2)# returning 32 samples per batch"
   ],
   "outputs": [],
   "metadata": {}
  },
  {
   "cell_type": "code",
   "execution_count": 39,
   "source": [
    "# with large batch size\n",
    "batch_size=256\n",
    "# train, val, test = np.split(dataframe.sample(frac=1), [int(0.8*len(dataframe)), int(0.9*len(dataframe))])\n",
    "train, val = train_test_split(dataframe, test_size=0.2, random_state=RANDOM_SEED)\n",
    "resampled_train_ds = df_to_dataset(df=train, batch_size=batch_size, resample=True)\n",
    "val_ds = df_to_dataset(df=val, batch_size=batch_size, resample=False)\n",
    "# test_ds = df_to_dataset(df=test, batch_size=batch_size)\n",
    "steps_per_epoch = np.ceil(2.0*pos/batch_size)\n",
    "##print(steps_per_epoch)"
   ],
   "outputs": [],
   "metadata": {}
  },
  {
   "cell_type": "code",
   "execution_count": 40,
   "source": [
    "def get_normalization_layer(feature_name, dataset):\n",
    "    # normalize numeric features\n",
    "    normalizer = layers.Normalization(axis=None)\n",
    "    # extract feature from dataset\n",
    "    feature_ds = dataset.map(lambda x, y: x[feature_name])\n",
    "    normalizer.adapt(feature_ds)\n",
    "    return normalizer\n",
    "def get_category_encoding_layer(feature_name, dataset, dtype, max_tokens=None):\n",
    "    if dtype == 'string':\n",
    "        index = layers.StringLookup(max_tokens=max_tokens)\n",
    "    else:\n",
    "        index = layers.IntegerLookup(max_tokens=max_tokens)\n",
    "    # extract feature from dataset\n",
    "    feature_ds = dataset.map(lambda x, y: x[feature_name])\n",
    "    # 'learn' all possible feature values, assign each an int index \n",
    "    index.adapt(feature_ds)\n",
    "    # encode integer index\n",
    "    encoder = layers.CategoryEncoding(num_tokens=index.vocabulary_size(), output_mode=\"one_hot\")\n",
    "    # multi-hot encode indeices - lambda function captures layers\n",
    "    return lambda feature: encoder(index(feature))"
   ],
   "outputs": [],
   "metadata": {}
  },
  {
   "cell_type": "code",
   "execution_count": 41,
   "source": [
    "# preprocess all features:\n",
    "inputs = []\n",
    "encoded_features =[]\n",
    "\n",
    "# numerical\n",
    "for header in [\"bmi\", \"physicalHealth\", \"mentalHealth\", 'sleepHours' ]:\n",
    "    num_col = tf.keras.Input(shape=(1,), name=header)\n",
    "    # keras inputs array\n",
    "    inputs.append(num_col)\n",
    "\n",
    "    norm_layer = get_normalization_layer(feature_name=header, dataset=resampled_train_ds)\n",
    "    encoded_num_col = norm_layer(num_col)\n",
    "    # encoded feature\n",
    "    encoded_features.append(encoded_num_col)\n",
    "\n",
    "# categorical\n",
    "for header in [\"smoking\",\"alcoholDrinking\",\"stroke\",\"diffWalk\",\n",
    "                \"sex\", \"ageGroup\", \"diabetic\", \"physicalActivity\", \n",
    "                \"overallHealth\", \"asthma\", \"kidneyDisease\", \"skinCancer\"]:\n",
    "    \n",
    "    # declare header as a keras Input\n",
    "    cat_col = tf.keras.Input(shape=(1,), name=header, dtype='string')\n",
    "    # keras inputs array\n",
    "    inputs.append(cat_col)\n",
    "\n",
    "    # get preprocessing layer \n",
    "    cat_layer = get_category_encoding_layer(feature_name=header,\n",
    "                                            dataset=resampled_train_ds, \n",
    "                                            dtype='string', \n",
    "                                            max_tokens=None)\n",
    "    encoded_cat_col = cat_layer(cat_col)\n",
    "    # encoded feature\n",
    "    encoded_features.append(encoded_cat_col)"
   ],
   "outputs": [],
   "metadata": {}
  },
  {
   "cell_type": "code",
   "execution_count": 42,
   "source": [
    "# KERAS FUNCTIONAL API - MODEL BUILD   \n",
    "# merge list feature inputs into one vector\n",
    "features = tf.keras.layers.concatenate(encoded_features)\n",
    "x = tf.keras.layers.Dense(units=128, activation=\"relu\")(features)\n",
    "x = tf.keras.layers.Dropout(rate=0.2)(x)\n",
    "x = tf.keras.layers.Dense(units=128, activation='relu')(x)\n",
    "output = tf.keras.layers.Dense(units=1, activation='sigmoid')(x)\n",
    "model = tf.keras.Model(inputs, output)"
   ],
   "outputs": [],
   "metadata": {}
  },
  {
   "cell_type": "code",
   "execution_count": 43,
   "source": [
    "model.compile(optimizer='adam', \n",
    "              loss='binary_crossentropy', \n",
    "              metrics = ['accuracy'])\n",
    "\n",
    "result = model.fit(resampled_train_ds, \n",
    "                    validation_data=val_ds, \n",
    "                    epochs=20,\n",
    "                    steps_per_epoch=steps_per_epoch,\n",
    "                    use_multiprocessing=True, \n",
    "                    verbose=2)\n",
    "\n",
    "predictions = model.predict(val_ds)\n",
    "\n",
    "binary_predictions = tf.round(predictions).numpy().flatten()"
   ],
   "outputs": [
    {
     "output_type": "stream",
     "name": "stdout",
     "text": [
      "Epoch 1/20\n",
      "214/214 - 9s - loss: 0.4313 - accuracy: 0.7864 - val_loss: 0.7889 - val_accuracy: 0.9148 - 9s/epoch - 40ms/step\n",
      "Epoch 2/20\n",
      "214/214 - 7s - loss: 5.8388e-05 - accuracy: 1.0000 - val_loss: 0.8481 - val_accuracy: 0.9148 - 7s/epoch - 31ms/step\n",
      "Epoch 3/20\n",
      "214/214 - 6s - loss: 3.7523e-05 - accuracy: 1.0000 - val_loss: 0.8850 - val_accuracy: 0.9148 - 6s/epoch - 27ms/step\n",
      "Epoch 4/20\n",
      "214/214 - 6s - loss: 2.5591e-05 - accuracy: 1.0000 - val_loss: 0.9184 - val_accuracy: 0.9148 - 6s/epoch - 26ms/step\n",
      "Epoch 5/20\n",
      "WARNING:tensorflow:Your input ran out of data; interrupting training. Make sure that your dataset or generator can generate at least `steps_per_epoch * epochs` batches (in this case, 4280.0 batches). You may need to use the repeat() function when building your dataset.\n",
      "214/214 - 5s - loss: 1.9948e-05 - accuracy: 1.0000 - val_loss: 0.9402 - val_accuracy: 0.9148 - 5s/epoch - 24ms/step\n",
      "250/250 [==============================] - 3s 9ms/step\n"
     ]
    }
   ],
   "metadata": {}
  },
  {
   "cell_type": "code",
   "execution_count": 47,
   "source": [
    "heart_csv_path = 'C:/Users/Rawan Alamily/Downloads/McSCert Co-op/explainable-ai-heart/models/lifestyle-metrics-model/data/life-heart.csv'\n",
    "dataframe = pd.read_csv(heart_csv_path)\n",
    "print(dataframe.describe())\n",
    "print(dataframe.shape)\n",
    "dataframe['target'] = np.where(dataframe['heartDisease']=='Yes', 1, 0)\n",
    "dataframe = dataframe.drop(columns=['heartDisease'])\n",
    "dataframe = dataframe.sample(frac=1)\n",
    "RANDOM_SEED = 42\n",
    "np.random.seed(RANDOM_SEED)\n",
    "neg, pos = np.bincount(dataframe['target'])"
   ],
   "outputs": [
    {
     "output_type": "stream",
     "name": "stdout",
     "text": [
      "                 bmi  physicalHealth   mentalHealth     sleepHours\n",
      "count  319795.000000    319795.00000  319795.000000  319795.000000\n",
      "mean       28.325399         3.37171       3.898366       7.097075\n",
      "std         6.356100         7.95085       7.955235       1.436007\n",
      "min        12.020000         0.00000       0.000000       1.000000\n",
      "25%        24.030000         0.00000       0.000000       6.000000\n",
      "50%        27.340000         0.00000       0.000000       7.000000\n",
      "75%        31.420000         2.00000       3.000000       8.000000\n",
      "max        94.850000        30.00000      30.000000      24.000000\n",
      "(319795, 17)\n"
     ]
    }
   ],
   "metadata": {}
  },
  {
   "cell_type": "code",
   "execution_count": 48,
   "source": [
    "def df_to_dataset(df, batch_size=32, resample=False):\n",
    "    df = df.copy()\n",
    "    if resample:\n",
    "        pos_df = df[df['target'] == 1]\n",
    "        neg_df = df[df['target'] == 0]\n",
    "        pos_labels = pos_df.pop('target')\n",
    "        pos_features = pos_df\n",
    "        neg_labels = neg_df.pop('target')\n",
    "        neg_features = neg_df\n",
    "        pos_ds = tf.data.Dataset.from_tensor_slices((dict(pos_features), pos_labels))\n",
    "        neg_ds = tf.data.Dataset.from_tensor_slices((dict(neg_features), neg_labels))\n",
    "        \n",
    "        resampled_ds = tf.data.Dataset.sample_from_datasets([pos_ds, neg_ds], weights=[0.5, 0.5])\n",
    "        #resampled_ds = resampled_ds.apply(tf.data.experimental.assert_cardinality(54748))\n",
    "        #resampled_ds = resampled_ds.shuffle(buffer_size=len(df))\n",
    "        resampled_ds = resampled_ds.batch(batch_size).prefetch(2)\n",
    "        return resampled_ds\n",
    "    else:\n",
    "        labels = df.pop('target')\n",
    "        tf_dataset = tf.data.Dataset.from_tensor_slices((dict(df), labels)).cache()\n",
    "        # shuffled_tf_dataset = tf_dataset.shuffle(buffer_size=len(df)) # shuffling values \n",
    "        return tf_dataset.batch(batch_size).prefetch(2)# returning 32 samples per batch"
   ],
   "outputs": [],
   "metadata": {}
  },
  {
   "cell_type": "code",
   "execution_count": 49,
   "source": [
    "# with large batch size\n",
    "batch_size=2048\n",
    "# train, val, test = np.split(dataframe.sample(frac=1), [int(0.8*len(dataframe)), int(0.9*len(dataframe))])\n",
    "train, val = train_test_split(dataframe, test_size=0.2, random_state=RANDOM_SEED)\n",
    "resampled_train_ds = df_to_dataset(df=train, batch_size=batch_size, resample=True)\n",
    "val_ds = df_to_dataset(df=val, batch_size=batch_size, resample=False)\n",
    "# test_ds = df_to_dataset(df=test, batch_size=batch_size)\n",
    "steps_per_epoch = np.ceil(2.0*pos/batch_size)\n",
    "print(steps_per_epoch)"
   ],
   "outputs": [
    {
     "output_type": "stream",
     "name": "stdout",
     "text": [
      "27.0\n"
     ]
    }
   ],
   "metadata": {}
  },
  {
   "cell_type": "code",
   "execution_count": 50,
   "source": [
    "def get_normalization_layer(feature_name, dataset):\n",
    "    # normalize numeric features\n",
    "    normalizer = layers.Normalization(axis=None)\n",
    "    # extract feature from dataset\n",
    "    feature_ds = dataset.map(lambda x, y: x[feature_name])\n",
    "    normalizer.adapt(feature_ds)\n",
    "    return normalizer\n",
    "def get_category_encoding_layer(feature_name, dataset, dtype, max_tokens=None):\n",
    "    if dtype == 'string':\n",
    "        index = layers.StringLookup(max_tokens=max_tokens)\n",
    "    else:\n",
    "        index = layers.IntegerLookup(max_tokens=max_tokens)\n",
    "    # extract feature from dataset\n",
    "    feature_ds = dataset.map(lambda x, y: x[feature_name])\n",
    "    # 'learn' all possible feature values, assign each an int index \n",
    "    index.adapt(feature_ds)\n",
    "    # encode integer index\n",
    "    encoder = layers.CategoryEncoding(num_tokens=index.vocabulary_size(), output_mode=\"one_hot\")\n",
    "    # multi-hot encode indeices - lambda function captures layers\n",
    "    return lambda feature: encoder(index(feature))"
   ],
   "outputs": [],
   "metadata": {}
  },
  {
   "cell_type": "code",
   "execution_count": 51,
   "source": [
    "# preprocess all features:\n",
    "inputs = []\n",
    "encoded_features =[]\n",
    "\n",
    "# numerical\n",
    "for header in [\"bmi\", \"physicalHealth\", \"mentalHealth\", 'sleepHours' ]:\n",
    "    num_col = tf.keras.Input(shape=(1,), name=header)\n",
    "    # keras inputs array\n",
    "    inputs.append(num_col)\n",
    "\n",
    "    norm_layer = get_normalization_layer(feature_name=header, dataset=resampled_train_ds)\n",
    "    encoded_num_col = norm_layer(num_col)\n",
    "    # encoded feature\n",
    "    encoded_features.append(encoded_num_col)\n",
    "\n",
    "# categorical\n",
    "for header in [\"smoking\",\"alcoholDrinking\",\"stroke\",\"diffWalk\",\n",
    "                \"sex\", \"ageGroup\", \"diabetic\", \"physicalActivity\", \n",
    "                \"overallHealth\", \"asthma\", \"kidneyDisease\", \"skinCancer\"]:\n",
    "    \n",
    "    # declare header as a keras Input\n",
    "    cat_col = tf.keras.Input(shape=(1,), name=header, dtype='string')\n",
    "    # keras inputs array\n",
    "    inputs.append(cat_col)\n",
    "\n",
    "    # get preprocessing layer \n",
    "    cat_layer = get_category_encoding_layer(feature_name=header,\n",
    "                                            dataset=resampled_train_ds, \n",
    "                                            dtype='string', \n",
    "                                            max_tokens=None)\n",
    "    encoded_cat_col = cat_layer(cat_col)\n",
    "    # encoded feature\n",
    "    encoded_features.append(encoded_cat_col)"
   ],
   "outputs": [],
   "metadata": {}
  },
  {
   "cell_type": "code",
   "execution_count": 52,
   "source": [
    "# with large batch size\n",
    "batch_size=64\n",
    "# train, val, test = np.split(dataframe.sample(frac=1), [int(0.8*len(dataframe)), int(0.9*len(dataframe))])\n",
    "train, val = train_test_split(dataframe, test_size=0.2, random_state=RANDOM_SEED)\n",
    "resampled_train_ds = df_to_dataset(df=train, batch_size=batch_size, resample=True)\n",
    "val_ds = df_to_dataset(df=val, batch_size=batch_size, resample=False)\n",
    "# test_ds = df_to_dataset(df=test, batch_size=batch_size)\n",
    "steps_per_epoch = np.ceil(2.0*pos/batch_size)\n",
    "print(steps_per_epoch)"
   ],
   "outputs": [
    {
     "output_type": "stream",
     "name": "stdout",
     "text": [
      "856.0\n"
     ]
    }
   ],
   "metadata": {}
  },
  {
   "cell_type": "code",
   "execution_count": 53,
   "source": [
    "# with large batch size\n",
    "batch_size=2048\n",
    "# train, val, test = np.split(dataframe.sample(frac=1), [int(0.8*len(dataframe)), int(0.9*len(dataframe))])\n",
    "train, val = train_test_split(dataframe, test_size=0.2, random_state=RANDOM_SEED)\n",
    "resampled_train_ds = df_to_dataset(df=train, batch_size=batch_size, resample=True)\n",
    "val_ds = df_to_dataset(df=val, batch_size=batch_size, resample=False)\n",
    "# test_ds = df_to_dataset(df=test, batch_size=batch_size)\n",
    "steps_per_epoch = np.ceil(2.0*pos/batch_size)\n",
    "print(steps_per_epoch)"
   ],
   "outputs": [
    {
     "output_type": "stream",
     "name": "stdout",
     "text": [
      "27.0\n"
     ]
    }
   ],
   "metadata": {}
  },
  {
   "cell_type": "code",
   "execution_count": 54,
   "source": [
    "# preprocess all features:\n",
    "inputs = []\n",
    "encoded_features =[]\n",
    "\n",
    "# numerical\n",
    "for header in [\"bmi\", \"physicalHealth\", \"mentalHealth\", 'sleepHours' ]:\n",
    "    num_col = tf.keras.Input(shape=(1,), name=header)\n",
    "    # keras inputs array\n",
    "    inputs.append(num_col)\n",
    "\n",
    "    norm_layer = get_normalization_layer(feature_name=header, dataset=resampled_train_ds)\n",
    "    encoded_num_col = norm_layer(num_col)\n",
    "    # encoded feature\n",
    "    encoded_features.append(encoded_num_col)\n",
    "\n",
    "# categorical\n",
    "for header in [\"smoking\",\"alcoholDrinking\",\"stroke\",\"diffWalk\",\n",
    "                \"sex\", \"ageGroup\", \"diabetic\", \"physicalActivity\", \n",
    "                \"overallHealth\", \"asthma\", \"kidneyDisease\", \"skinCancer\"]:\n",
    "    \n",
    "    # declare header as a keras Input\n",
    "    cat_col = tf.keras.Input(shape=(1,), name=header, dtype='string')\n",
    "    # keras inputs array\n",
    "    inputs.append(cat_col)\n",
    "\n",
    "    # get preprocessing layer \n",
    "    cat_layer = get_category_encoding_layer(feature_name=header,\n",
    "                                            dataset=resampled_train_ds, \n",
    "                                            dtype='string', \n",
    "                                            max_tokens=None)\n",
    "    encoded_cat_col = cat_layer(cat_col)\n",
    "    # encoded feature\n",
    "    encoded_features.append(encoded_cat_col)"
   ],
   "outputs": [],
   "metadata": {}
  },
  {
   "cell_type": "code",
   "execution_count": 55,
   "source": [
    "# KERAS FUNCTIONAL API - MODEL BUILD   \n",
    "# merge list feature inputs into one vector\n",
    "features = tf.keras.layers.concatenate(encoded_features)\n",
    "x = tf.keras.layers.Dense(units=128, activation=\"relu\")(features)\n",
    "x = tf.keras.layers.Dropout(rate=0.2)(x)\n",
    "x = tf.keras.layers.Dense(units=128, activation='relu')(x)\n",
    "output = tf.keras.layers.Dense(units=1, activation='sigmoid')(x)\n",
    "model = tf.keras.Model(inputs, output)"
   ],
   "outputs": [],
   "metadata": {}
  },
  {
   "cell_type": "code",
   "execution_count": 56,
   "source": [
    "model.compile(optimizer='adam', \n",
    "              loss='binary_crossentropy', \n",
    "              metrics = ['accuracy'])\n",
    "\n",
    "result = model.fit(resampled_train_ds, \n",
    "                    validation_data=val_ds, \n",
    "                    epochs=5,\n",
    "                    steps_per_epoch=steps_per_epoch,\n",
    "                    use_multiprocessing=True, \n",
    "                    verbose=2)\n",
    "\n",
    "predictions = model.predict(val_ds)\n",
    "\n",
    "binary_predictions = tf.round(predictions).numpy().flatten()"
   ],
   "outputs": [
    {
     "output_type": "stream",
     "name": "stdout",
     "text": [
      "Epoch 1/5\n",
      "27/27 - 6s - loss: 0.5594 - accuracy: 0.7090 - val_loss: 0.2605 - val_accuracy: 0.9039 - 6s/epoch - 214ms/step\n",
      "Epoch 2/5\n",
      "27/27 - 3s - loss: 0.0264 - accuracy: 0.9971 - val_loss: 0.5628 - val_accuracy: 0.9148 - 3s/epoch - 102ms/step\n",
      "Epoch 3/5\n",
      "27/27 - 3s - loss: 5.8386e-04 - accuracy: 1.0000 - val_loss: 0.6495 - val_accuracy: 0.9148 - 3s/epoch - 99ms/step\n",
      "Epoch 4/5\n",
      "27/27 - 3s - loss: 3.3449e-04 - accuracy: 1.0000 - val_loss: 0.6753 - val_accuracy: 0.9148 - 3s/epoch - 119ms/step\n",
      "Epoch 5/5\n",
      "WARNING:tensorflow:Your input ran out of data; interrupting training. Make sure that your dataset or generator can generate at least `steps_per_epoch * epochs` batches (in this case, 135.0 batches). You may need to use the repeat() function when building your dataset.\n",
      "27/27 - 2s - loss: 2.7680e-04 - accuracy: 1.0000 - val_loss: 0.6882 - val_accuracy: 0.9148 - 2s/epoch - 92ms/step\n",
      "32/32 [==============================] - 2s 23ms/step\n"
     ]
    }
   ],
   "metadata": {}
  },
  {
   "cell_type": "code",
   "execution_count": 57,
   "source": [
    "plt.plot(result.history['loss'], label='loss')\n",
    "plt.plot(result.history['val_loss'], label='val_loss')\n",
    "plt.legend()"
   ],
   "outputs": [
    {
     "output_type": "execute_result",
     "data": {
      "text/plain": [
       "<matplotlib.legend.Legend at 0x1d2b9bba0b0>"
      ]
     },
     "metadata": {},
     "execution_count": 57
    },
    {
     "output_type": "display_data",
     "data": {
      "image/png": "[encoded data removed]",
      "text/plain": [
       "<Figure size 640x480 with 1 Axes>"
      ]
     },
     "metadata": {}
    }
   ],
   "metadata": {}
  },
  {
   "cell_type": "code",
   "execution_count": 59,
   "source": [
    "heart_csv_path = 'C:/Users/Rawan Alamily/Downloads/McSCert Co-op/explainable-ai-heart/models/lifestyle-metrics-model/data/life-heart.csv'\n",
    "dataframe = pd.read_csv(heart_csv_path)\n",
    "print(dataframe.describe())\n",
    "print(dataframe.shape)\n",
    "dataframe['target'] = np.where(dataframe['heartDisease']=='Yes', 1, 0)\n",
    "dataframe = dataframe.drop(columns=['heartDisease'])\n",
    "RANDOM_SEED = 42\n",
    "np.random.seed(RANDOM_SEED)\n",
    "neg, pos = np.bincount(dataframe['target'])"
   ],
   "outputs": [
    {
     "output_type": "stream",
     "name": "stdout",
     "text": [
      "                 bmi  physicalHealth   mentalHealth     sleepHours\n",
      "count  319795.000000    319795.00000  319795.000000  319795.000000\n",
      "mean       28.325399         3.37171       3.898366       7.097075\n",
      "std         6.356100         7.95085       7.955235       1.436007\n",
      "min        12.020000         0.00000       0.000000       1.000000\n",
      "25%        24.030000         0.00000       0.000000       6.000000\n",
      "50%        27.340000         0.00000       0.000000       7.000000\n",
      "75%        31.420000         2.00000       3.000000       8.000000\n",
      "max        94.850000        30.00000      30.000000      24.000000\n",
      "(319795, 17)\n"
     ]
    }
   ],
   "metadata": {}
  },
  {
   "cell_type": "code",
   "execution_count": 60,
   "source": [
    "def df_to_dataset(df, batch_size=32, resample=False):\n",
    "    df = df.copy()\n",
    "    if resample:\n",
    "        pos_df = df[df['target'] == 1]\n",
    "        neg_df = df[df['target'] == 0]\n",
    "        pos_labels = pos_df.pop('target')\n",
    "        pos_features = pos_df\n",
    "        neg_labels = neg_df.pop('target')\n",
    "        neg_features = neg_df\n",
    "        pos_ds = tf.data.Dataset.from_tensor_slices((dict(pos_features), pos_labels))\n",
    "        neg_ds = tf.data.Dataset.from_tensor_slices((dict(neg_features), neg_labels))\n",
    "        \n",
    "        resampled_ds = tf.data.Dataset.sample_from_datasets([pos_ds, neg_ds], weights=[0.5, 0.5])\n",
    "        #resampled_ds = resampled_ds.apply(tf.data.experimental.assert_cardinality(54748))\n",
    "        resampled_ds = resampled_ds.shuffle(buffer_size=len(df))\n",
    "        resampled_ds = resampled_ds.batch(batch_size).prefetch(2)\n",
    "        return resampled_ds\n",
    "    else:\n",
    "        labels = df.pop('target')\n",
    "        tf_dataset = tf.data.Dataset.from_tensor_slices((dict(df), labels)).cache()\n",
    "        # shuffled_tf_dataset = tf_dataset.shuffle(buffer_size=len(df)) # shuffling values \n",
    "        return tf_dataset.batch(batch_size).prefetch(2)# returning 32 samples per batch"
   ],
   "outputs": [],
   "metadata": {}
  },
  {
   "cell_type": "code",
   "execution_count": 61,
   "source": [
    "def df_to_dataset(df, batch_size=32, resample=False):\n",
    "    df = df.copy()\n",
    "    if resample:\n",
    "        pos_df = df[df['target'] == 1]\n",
    "        neg_df = df[df['target'] == 0]\n",
    "        pos_labels = pos_df.pop('target')\n",
    "        pos_features = pos_df\n",
    "        neg_labels = neg_df.pop('target')\n",
    "        neg_features = neg_df\n",
    "        pos_ds = tf.data.Dataset.from_tensor_slices((dict(pos_features), pos_labels))\n",
    "        neg_ds = tf.data.Dataset.from_tensor_slices((dict(neg_features), neg_labels))\n",
    "        \n",
    "        resampled_ds = tf.data.Dataset.sample_from_datasets([pos_ds, neg_ds], weights=[0.5, 0.5])\n",
    "        #resampled_ds = resampled_ds.apply(tf.data.experimental.assert_cardinality(54748))\n",
    "        resampled_ds = resampled_ds.shuffle(buffer_size=len(df))\n",
    "        resampled_ds = resampled_ds.batch(batch_size).prefetch(2)\n",
    "        return resampled_ds\n",
    "    else:\n",
    "        labels = df.pop('target')\n",
    "        tf_dataset = tf.data.Dataset.from_tensor_slices((dict(df), labels)).cache()\n",
    "        shuffled_tf_dataset = tf_dataset.shuffle(buffer_size=len(df)) # shuffling values \n",
    "        return tf_dataset.batch(batch_size).prefetch(2)# returning 32 samples per batch"
   ],
   "outputs": [],
   "metadata": {}
  },
  {
   "cell_type": "code",
   "execution_count": 62,
   "source": [
    "# with large batch size\n",
    "batch_size=64\n",
    "# train, val, test = np.split(dataframe.sample(frac=1), [int(0.8*len(dataframe)), int(0.9*len(dataframe))])\n",
    "dataframe = dataframe.sample(frac=1)\n",
    "train, val = train_test_split(dataframe, test_size=0.3, random_state=RANDOM_SEED)\n",
    "resampled_train_ds = df_to_dataset(df=train, batch_size=batch_size, resample=True)\n",
    "val_ds = df_to_dataset(df=val, batch_size=batch_size, resample=False)\n",
    "# test_ds = df_to_dataset(df=test, batch_size=batch_size)\n",
    "steps_per_epoch = np.ceil(2.0*pos/batch_size)\n",
    "print(steps_per_epoch)"
   ],
   "outputs": [
    {
     "output_type": "stream",
     "name": "stdout",
     "text": [
      "856.0\n"
     ]
    }
   ],
   "metadata": {}
  },
  {
   "cell_type": "code",
   "execution_count": 64,
   "source": [
    "def get_normalization_layer(feature_name, dataset):\n",
    "    # normalize numeric features\n",
    "    normalizer = layers.Normalization(axis=None)\n",
    "    # extract feature from dataset\n",
    "    feature_ds = dataset.map(lambda x, y: x[feature_name])\n",
    "    normalizer.adapt(feature_ds)\n",
    "    return normalizer\n",
    "def get_category_encoding_layer(feature_name, dataset, dtype, max_tokens=None):\n",
    "    if dtype == 'string':\n",
    "        index = layers.StringLookup(max_tokens=max_tokens)\n",
    "    else:\n",
    "        index = layers.IntegerLookup(max_tokens=max_tokens)\n",
    "    # extract feature from dataset\n",
    "    feature_ds = dataset.map(lambda x, y: x[feature_name])\n",
    "    # 'learn' all possible feature values, assign each an int index \n",
    "    index.adapt(feature_ds)\n",
    "    # encode integer index\n",
    "    encoder = layers.CategoryEncoding(num_tokens=index.vocabulary_size(), output_mode=\"one_hot\")\n",
    "    # multi-hot encode indeices - lambda function captures layers\n",
    "    return lambda feature: encoder(index(feature))"
   ],
   "outputs": [],
   "metadata": {}
  },
  {
   "cell_type": "code",
   "execution_count": 65,
   "source": [
    "# preprocess all features:\n",
    "inputs = []\n",
    "encoded_features =[]\n",
    "\n",
    "# numerical\n",
    "for header in [\"bmi\", \"physicalHealth\", \"mentalHealth\", 'sleepHours' ]:\n",
    "    num_col = tf.keras.Input(shape=(1,), name=header)\n",
    "    # keras inputs array\n",
    "    inputs.append(num_col)\n",
    "\n",
    "    norm_layer = get_normalization_layer(feature_name=header, dataset=resampled_train_ds)\n",
    "    encoded_num_col = norm_layer(num_col)\n",
    "    # encoded feature\n",
    "    encoded_features.append(encoded_num_col)\n",
    "\n",
    "# categorical\n",
    "for header in [\"smoking\",\"alcoholDrinking\",\"stroke\",\"diffWalk\",\n",
    "                \"sex\", \"ageGroup\", \"diabetic\", \"physicalActivity\", \n",
    "                \"overallHealth\", \"asthma\", \"kidneyDisease\", \"skinCancer\"]:\n",
    "    \n",
    "    # declare header as a keras Input\n",
    "    cat_col = tf.keras.Input(shape=(1,), name=header, dtype='string')\n",
    "    # keras inputs array\n",
    "    inputs.append(cat_col)\n",
    "\n",
    "    # get preprocessing layer \n",
    "    cat_layer = get_category_encoding_layer(feature_name=header,\n",
    "                                            dataset=resampled_train_ds, \n",
    "                                            dtype='string', \n",
    "                                            max_tokens=None)\n",
    "    encoded_cat_col = cat_layer(cat_col)\n",
    "    # encoded feature\n",
    "    encoded_features.append(encoded_cat_col)"
   ],
   "outputs": [],
   "metadata": {}
  },
  {
   "cell_type": "code",
   "execution_count": 66,
   "source": [
    "# KERAS FUNCTIONAL API - MODEL BUILD   \n",
    "# merge list feature inputs into one vector\n",
    "features = tf.keras.layers.concatenate(encoded_features)\n",
    "x = tf.keras.layers.Dense(units=128, activation=\"relu\")(features)\n",
    "x = tf.keras.layers.Dropout(rate=0.2)(x)\n",
    "x = tf.keras.layers.Dense(units=128, activation='relu')(x)\n",
    "output = tf.keras.layers.Dense(units=1, activation='sigmoid')(x)\n",
    "model = tf.keras.Model(inputs, output)"
   ],
   "outputs": [],
   "metadata": {}
  },
  {
   "cell_type": "code",
   "execution_count": 68,
   "source": [
    "model.compile(optimizer='adam', \n",
    "              loss='binary_crossentropy', \n",
    "              metrics = ['accuracy'])\n",
    "\n",
    "result = model.fit(resampled_train_ds, \n",
    "                    validation_data=val_ds, \n",
    "                    epochs=5,\n",
    "                    steps_per_epoch=steps_per_epoch,\n",
    "                    use_multiprocessing=True, \n",
    "                    verbose=1)\n",
    "\n",
    "predictions = model.predict(val_ds)\n",
    "\n",
    "binary_predictions = tf.round(predictions).numpy().flatten()"
   ],
   "outputs": [
    {
     "output_type": "stream",
     "name": "stdout",
     "text": [
      "Epoch 1/5\n",
      "856/856 [==============================] - 34s 27ms/step - loss: 0.2323 - accuracy: 0.9149 - val_loss: 0.2344 - val_accuracy: 0.9150\n",
      "Epoch 2/5\n",
      "856/856 [==============================] - 18s 21ms/step - loss: 0.2261 - accuracy: 0.9170 - val_loss: 0.2305 - val_accuracy: 0.9155\n",
      "Epoch 3/5\n",
      "856/856 [==============================] - 19s 22ms/step - loss: 0.2270 - accuracy: 0.9165 - val_loss: 0.2292 - val_accuracy: 0.9157\n",
      "Epoch 4/5\n",
      "856/856 [==============================] - 19s 22ms/step - loss: 0.2270 - accuracy: 0.9154 - val_loss: 0.2287 - val_accuracy: 0.9153\n",
      "Epoch 5/5\n",
      " 72/856 [=>............................] - ETA: 10s - loss: 0.2313 - accuracy: 0.9158WARNING:tensorflow:Your input ran out of data; interrupting training. Make sure that your dataset or generator can generate at least `steps_per_epoch * epochs` batches (in this case, 4280.0 batches). You may need to use the repeat() function when building your dataset.\n",
      "856/856 [==============================] - 8s 9ms/step - loss: 0.2318 - accuracy: 0.9157 - val_loss: 0.2327 - val_accuracy: 0.9156\n",
      "1500/1500 [==============================] - 10s 6ms/step\n"
     ]
    }
   ],
   "metadata": {}
  },
  {
   "cell_type": "code",
   "execution_count": 69,
   "source": [
    "plt.plot(result.history['loss'], label='loss')\n",
    "plt.plot(result.history['val_loss'], label='val_loss')\n",
    "plt.legend()"
   ],
   "outputs": [
    {
     "output_type": "execute_result",
     "data": {
      "text/plain": [
       "<matplotlib.legend.Legend at 0x1d286bcb2b0>"
      ]
     },
     "metadata": {},
     "execution_count": 69
    },
    {
     "output_type": "display_data",
     "data": {
      "image/png": "[encoded data removed]",
      "text/plain": [
       "<Figure size 640x480 with 1 Axes>"
      ]
     },
     "metadata": {}
    }
   ],
   "metadata": {}
  },
  {
   "cell_type": "code",
   "execution_count": 70,
   "source": [
    "print(classification_report(val.get('target'), binary_predictions))\n",
    "# layer connectivity visualization\n",
    "#tf.keras.utils.plot_model(model, show_shapes=True, rankdir=\"LR\")"
   ],
   "outputs": [
    {
     "output_type": "stream",
     "name": "stdout",
     "text": [
      "              precision    recall  f1-score   support\n",
      "\n",
      "           0       0.92      1.00      0.96     87681\n",
      "           1       0.61      0.05      0.10      8258\n",
      "\n",
      "    accuracy                           0.92     95939\n",
      "   macro avg       0.76      0.53      0.53     95939\n",
      "weighted avg       0.89      0.92      0.88     95939\n",
      "\n"
     ]
    }
   ],
   "metadata": {}
  },
  {
   "cell_type": "code",
   "execution_count": 71,
   "source": [
    "def df_to_dataset(df, batch_size=32, resample=False):\n",
    "    df = df.copy()\n",
    "    if resample:\n",
    "        pos_df = df[df['target'] == 1]\n",
    "        neg_df = df[df['target'] == 0]\n",
    "        pos_labels = pos_df.pop('target')\n",
    "        pos_features = pos_df\n",
    "        neg_labels = neg_df.pop('target')\n",
    "        neg_features = neg_df\n",
    "        pos_ds = tf.data.Dataset.from_tensor_slices((dict(pos_features), pos_labels))\n",
    "        neg_ds = tf.data.Dataset.from_tensor_slices((dict(neg_features), neg_labels))\n",
    "        \n",
    "        resampled_ds = tf.data.Dataset.sample_from_datasets([pos_ds, neg_ds], weights=[0.5, 0.5])\n",
    "        #resampled_ds = resampled_ds.apply(tf.data.experimental.assert_cardinality(54748))\n",
    "        resampled_ds = resampled_ds.shuffle(buffer_size=len(df))\n",
    "        resampled_ds = resampled_ds.batch(batch_size).prefetch(2).repeat()\n",
    "        return resampled_ds\n",
    "    else:\n",
    "        labels = df.pop('target')\n",
    "        tf_dataset = tf.data.Dataset.from_tensor_slices((dict(df), labels)).cache()\n",
    "        shuffled_tf_dataset = tf_dataset.shuffle(buffer_size=len(df)) # shuffling values \n",
    "        return tf_dataset.batch(batch_size).prefetch(2)# returning 32 samples per batch"
   ],
   "outputs": [],
   "metadata": {}
  },
  {
   "cell_type": "code",
   "execution_count": 72,
   "source": [
    "# with large batch size\n",
    "batch_size=64\n",
    "# train, val, test = np.split(dataframe.sample(frac=1), [int(0.8*len(dataframe)), int(0.9*len(dataframe))])\n",
    "dataframe = dataframe.sample(frac=1)\n",
    "train, val = train_test_split(dataframe, test_size=0.3, random_state=RANDOM_SEED)\n",
    "resampled_train_ds = df_to_dataset(df=train, batch_size=batch_size, resample=True)\n",
    "val_ds = df_to_dataset(df=val, batch_size=batch_size, resample=False)\n",
    "# test_ds = df_to_dataset(df=test, batch_size=batch_size)\n",
    "steps_per_epoch = np.ceil(2.0*pos/batch_size)\n",
    "print(steps_per_epoch)"
   ],
   "outputs": [
    {
     "output_type": "stream",
     "name": "stdout",
     "text": [
      "856.0\n"
     ]
    }
   ],
   "metadata": {}
  },
  {
   "cell_type": "code",
   "execution_count": 73,
   "source": [
    "def get_normalization_layer(feature_name, dataset):\n",
    "    # normalize numeric features\n",
    "    normalizer = layers.Normalization(axis=None)\n",
    "    # extract feature from dataset\n",
    "    feature_ds = dataset.map(lambda x, y: x[feature_name])\n",
    "    normalizer.adapt(feature_ds)\n",
    "    return normalizer\n",
    "def get_category_encoding_layer(feature_name, dataset, dtype, max_tokens=None):\n",
    "    if dtype == 'string':\n",
    "        index = layers.StringLookup(max_tokens=max_tokens)\n",
    "    else:\n",
    "        index = layers.IntegerLookup(max_tokens=max_tokens)\n",
    "    # extract feature from dataset\n",
    "    feature_ds = dataset.map(lambda x, y: x[feature_name])\n",
    "    # 'learn' all possible feature values, assign each an int index \n",
    "    index.adapt(feature_ds)\n",
    "    # encode integer index\n",
    "    encoder = layers.CategoryEncoding(num_tokens=index.vocabulary_size(), output_mode=\"one_hot\")\n",
    "    # multi-hot encode indeices - lambda function captures layers\n",
    "    return lambda feature: encoder(index(feature))"
   ],
   "outputs": [],
   "metadata": {}
  },
  {
   "cell_type": "code",
   "execution_count": 74,
   "source": [
    "# preprocess all features:\n",
    "inputs = []\n",
    "encoded_features =[]\n",
    "\n",
    "# numerical\n",
    "for header in [\"bmi\", \"physicalHealth\", \"mentalHealth\", 'sleepHours' ]:\n",
    "    num_col = tf.keras.Input(shape=(1,), name=header)\n",
    "    # keras inputs array\n",
    "    inputs.append(num_col)\n",
    "\n",
    "    norm_layer = get_normalization_layer(feature_name=header, dataset=resampled_train_ds)\n",
    "    encoded_num_col = norm_layer(num_col)\n",
    "    # encoded feature\n",
    "    encoded_features.append(encoded_num_col)\n",
    "\n",
    "# categorical\n",
    "for header in [\"smoking\",\"alcoholDrinking\",\"stroke\",\"diffWalk\",\n",
    "                \"sex\", \"ageGroup\", \"diabetic\", \"physicalActivity\", \n",
    "                \"overallHealth\", \"asthma\", \"kidneyDisease\", \"skinCancer\"]:\n",
    "    \n",
    "    # declare header as a keras Input\n",
    "    cat_col = tf.keras.Input(shape=(1,), name=header, dtype='string')\n",
    "    # keras inputs array\n",
    "    inputs.append(cat_col)\n",
    "\n",
    "    # get preprocessing layer \n",
    "    cat_layer = get_category_encoding_layer(feature_name=header,\n",
    "                                            dataset=resampled_train_ds, \n",
    "                                            dtype='string', \n",
    "                                            max_tokens=None)\n",
    "    encoded_cat_col = cat_layer(cat_col)\n",
    "    # encoded feature\n",
    "    encoded_features.append(encoded_cat_col)"
   ],
   "outputs": [
    {
     "output_type": "error",
     "ename": "ValueError",
     "evalue": "When providing an infinite dataset, you must specify the number of steps to run (if you did not intend to create an infinite dataset, make sure to not call `repeat()` on the dataset).",
     "traceback": [
      "\u001b[1;31m---------------------------------------------------------------------------\u001b[0m",
      "\u001b[1;31mValueError\u001b[0m                                Traceback (most recent call last)",
      "\u001b[1;32mc:\\Users\\Rawan Alamily\\Downloads\\McSCert Co-op\\explainable-ai-heart\\models\\lifestyle-metrics-model\\resampled-lifestyle-metrics.py\u001b[0m in \u001b[0;36mline 12\n\u001b[0;32m      <a href='file:///c%3A/Users/Rawan%20Alamily/Downloads/McSCert%20Co-op/explainable-ai-heart/models/lifestyle-metrics-model/resampled-lifestyle-metrics.py?line=88'>89</a>\u001b[0m \u001b[39m# keras inputs array\u001b[39;00m\n\u001b[0;32m     <a href='file:///c%3A/Users/Rawan%20Alamily/Downloads/McSCert%20Co-op/explainable-ai-heart/models/lifestyle-metrics-model/resampled-lifestyle-metrics.py?line=89'>90</a>\u001b[0m inputs\u001b[39m.\u001b[39mappend(num_col)\n\u001b[1;32m---> <a href='file:///c%3A/Users/Rawan%20Alamily/Downloads/McSCert%20Co-op/explainable-ai-heart/models/lifestyle-metrics-model/resampled-lifestyle-metrics.py?line=91'>92</a>\u001b[0m norm_layer \u001b[39m=\u001b[39m get_normalization_layer(feature_name\u001b[39m=\u001b[39;49mheader, dataset\u001b[39m=\u001b[39;49mresampled_train_ds)\n\u001b[0;32m     <a href='file:///c%3A/Users/Rawan%20Alamily/Downloads/McSCert%20Co-op/explainable-ai-heart/models/lifestyle-metrics-model/resampled-lifestyle-metrics.py?line=92'>93</a>\u001b[0m encoded_num_col \u001b[39m=\u001b[39m norm_layer(num_col)\n\u001b[0;32m     <a href='file:///c%3A/Users/Rawan%20Alamily/Downloads/McSCert%20Co-op/explainable-ai-heart/models/lifestyle-metrics-model/resampled-lifestyle-metrics.py?line=93'>94</a>\u001b[0m \u001b[39m# encoded feature\u001b[39;00m\n",
      "\u001b[1;32mc:\\Users\\Rawan Alamily\\Downloads\\McSCert Co-op\\explainable-ai-heart\\models\\lifestyle-metrics-model\\resampled-lifestyle-metrics.py\u001b[0m in \u001b[0;36mline 7\u001b[0m, in \u001b[0;36mget_normalization_layer\u001b[1;34m(feature_name, dataset)\n\u001b[0;32m      <a href='file:///c%3A/Users/Rawan%20Alamily/Downloads/McSCert%20Co-op/explainable-ai-heart/models/lifestyle-metrics-model/resampled-lifestyle-metrics.py?line=62'>63</a>\u001b[0m \u001b[39m# extract feature from dataset\u001b[39;00m\n\u001b[0;32m      <a href='file:///c%3A/Users/Rawan%20Alamily/Downloads/McSCert%20Co-op/explainable-ai-heart/models/lifestyle-metrics-model/resampled-lifestyle-metrics.py?line=63'>64</a>\u001b[0m feature_ds \u001b[39m=\u001b[39m dataset\u001b[39m.\u001b[39mmap(\u001b[39mlambda\u001b[39;00m x, y: x[feature_name])\n\u001b[1;32m----> <a href='file:///c%3A/Users/Rawan%20Alamily/Downloads/McSCert%20Co-op/explainable-ai-heart/models/lifestyle-metrics-model/resampled-lifestyle-metrics.py?line=64'>65</a>\u001b[0m normalizer\u001b[39m.\u001b[39;49madapt(feature_ds)\n\u001b[0;32m      <a href='file:///c%3A/Users/Rawan%20Alamily/Downloads/McSCert%20Co-op/explainable-ai-heart/models/lifestyle-metrics-model/resampled-lifestyle-metrics.py?line=65'>66</a>\u001b[0m \u001b[39mreturn\u001b[39;00m normalizer\n",
      "File \u001b[1;32mc:\\Users\\Rawan Alamily\\AppData\\Local\\Programs\\Python\\Python310\\lib\\site-packages\\keras\\layers\\preprocessing\\normalization.py:286\u001b[0m, in \u001b[0;36mNormalization.adapt\u001b[1;34m(self, data, batch_size, steps)\u001b[0m\n\u001b[0;32m    <a href='file:///c%3A/Users/Rawan%20Alamily/AppData/Local/Programs/Python/Python310/lib/site-packages/keras/layers/preprocessing/normalization.py?line=239'>240</a>\u001b[0m \u001b[39mdef\u001b[39;00m \u001b[39madapt\u001b[39m(\u001b[39mself\u001b[39m, data, batch_size\u001b[39m=\u001b[39m\u001b[39mNone\u001b[39;00m, steps\u001b[39m=\u001b[39m\u001b[39mNone\u001b[39;00m):\n\u001b[0;32m    <a href='file:///c%3A/Users/Rawan%20Alamily/AppData/Local/Programs/Python/Python310/lib/site-packages/keras/layers/preprocessing/normalization.py?line=240'>241</a>\u001b[0m \u001b[39m    \u001b[39m\u001b[39m\"\"\"Computes the mean and variance of values in a dataset.\u001b[39;00m\n\u001b[0;32m    <a href='file:///c%3A/Users/Rawan%20Alamily/AppData/Local/Programs/Python/Python310/lib/site-packages/keras/layers/preprocessing/normalization.py?line=241'>242</a>\u001b[0m \n\u001b[0;32m    <a href='file:///c%3A/Users/Rawan%20Alamily/AppData/Local/Programs/Python/Python310/lib/site-packages/keras/layers/preprocessing/normalization.py?line=242'>243</a>\u001b[0m \u001b[39m    Calling `adapt()` on a `Normalization` layer is an alternative to\u001b[39;00m\n\u001b[1;32m   (...)\u001b[0m\n\u001b[0;32m    <a href='file:///c%3A/Users/Rawan%20Alamily/AppData/Local/Programs/Python/Python310/lib/site-packages/keras/layers/preprocessing/normalization.py?line=283'>284</a>\u001b[0m \u001b[39m          argument is not supported with array inputs.\u001b[39;00m\n\u001b[0;32m    <a href='file:///c%3A/Users/Rawan%20Alamily/AppData/Local/Programs/Python/Python310/lib/site-packages/keras/layers/preprocessing/normalization.py?line=284'>285</a>\u001b[0m \u001b[39m    \"\"\"\u001b[39;00m\n\u001b[1;32m--> <a href='file:///c%3A/Users/Rawan%20Alamily/AppData/Local/Programs/Python/Python310/lib/site-packages/keras/layers/preprocessing/normalization.py?line=285'>286</a>\u001b[0m     \u001b[39msuper\u001b[39;49m()\u001b[39m.\u001b[39;49madapt(data, batch_size\u001b[39m=\u001b[39;49mbatch_size, steps\u001b[39m=\u001b[39;49msteps)\n",
      "File \u001b[1;32mc:\\Users\\Rawan Alamily\\AppData\\Local\\Programs\\Python\\Python310\\lib\\site-packages\\keras\\engine\\base_preprocessing_layer.py:246\u001b[0m, in \u001b[0;36mPreprocessingLayer.adapt\u001b[1;34m(self, data, batch_size, steps)\u001b[0m\n\u001b[0;32m    <a href='file:///c%3A/Users/Rawan%20Alamily/AppData/Local/Programs/Python/Python310/lib/site-packages/keras/engine/base_preprocessing_layer.py?line=243'>244</a>\u001b[0m \u001b[39mif\u001b[39;00m \u001b[39mself\u001b[39m\u001b[39m.\u001b[39mbuilt:\n\u001b[0;32m    <a href='file:///c%3A/Users/Rawan%20Alamily/AppData/Local/Programs/Python/Python310/lib/site-packages/keras/engine/base_preprocessing_layer.py?line=244'>245</a>\u001b[0m     \u001b[39mself\u001b[39m\u001b[39m.\u001b[39mreset_state()\n\u001b[1;32m--> <a href='file:///c%3A/Users/Rawan%20Alamily/AppData/Local/Programs/Python/Python310/lib/site-packages/keras/engine/base_preprocessing_layer.py?line=245'>246</a>\u001b[0m data_handler \u001b[39m=\u001b[39m data_adapter\u001b[39m.\u001b[39;49mDataHandler(\n\u001b[0;32m    <a href='file:///c%3A/Users/Rawan%20Alamily/AppData/Local/Programs/Python/Python310/lib/site-packages/keras/engine/base_preprocessing_layer.py?line=246'>247</a>\u001b[0m     data,\n\u001b[0;32m    <a href='file:///c%3A/Users/Rawan%20Alamily/AppData/Local/Programs/Python/Python310/lib/site-packages/keras/engine/base_preprocessing_layer.py?line=247'>248</a>\u001b[0m     batch_size\u001b[39m=\u001b[39;49mbatch_size,\n\u001b[0;32m    <a href='file:///c%3A/Users/Rawan%20Alamily/AppData/Local/Programs/Python/Python310/lib/site-packages/keras/engine/base_preprocessing_layer.py?line=248'>249</a>\u001b[0m     steps_per_epoch\u001b[39m=\u001b[39;49msteps,\n\u001b[0;32m    <a href='file:///c%3A/Users/Rawan%20Alamily/AppData/Local/Programs/Python/Python310/lib/site-packages/keras/engine/base_preprocessing_layer.py?line=249'>250</a>\u001b[0m     epochs\u001b[39m=\u001b[39;49m\u001b[39m1\u001b[39;49m,\n\u001b[0;32m    <a href='file:///c%3A/Users/Rawan%20Alamily/AppData/Local/Programs/Python/Python310/lib/site-packages/keras/engine/base_preprocessing_layer.py?line=250'>251</a>\u001b[0m     steps_per_execution\u001b[39m=\u001b[39;49m\u001b[39mself\u001b[39;49m\u001b[39m.\u001b[39;49m_steps_per_execution,\n\u001b[0;32m    <a href='file:///c%3A/Users/Rawan%20Alamily/AppData/Local/Programs/Python/Python310/lib/site-packages/keras/engine/base_preprocessing_layer.py?line=251'>252</a>\u001b[0m     distribute\u001b[39m=\u001b[39;49m\u001b[39mFalse\u001b[39;49;00m,\n\u001b[0;32m    <a href='file:///c%3A/Users/Rawan%20Alamily/AppData/Local/Programs/Python/Python310/lib/site-packages/keras/engine/base_preprocessing_layer.py?line=252'>253</a>\u001b[0m )\n\u001b[0;32m    <a href='file:///c%3A/Users/Rawan%20Alamily/AppData/Local/Programs/Python/Python310/lib/site-packages/keras/engine/base_preprocessing_layer.py?line=253'>254</a>\u001b[0m \u001b[39mself\u001b[39m\u001b[39m.\u001b[39m_adapt_function \u001b[39m=\u001b[39m \u001b[39mself\u001b[39m\u001b[39m.\u001b[39mmake_adapt_function()\n\u001b[0;32m    <a href='file:///c%3A/Users/Rawan%20Alamily/AppData/Local/Programs/Python/Python310/lib/site-packages/keras/engine/base_preprocessing_layer.py?line=254'>255</a>\u001b[0m \u001b[39mfor\u001b[39;00m _, iterator \u001b[39min\u001b[39;00m data_handler\u001b[39m.\u001b[39menumerate_epochs():\n",
      "File \u001b[1;32mc:\\Users\\Rawan Alamily\\AppData\\Local\\Programs\\Python\\Python310\\lib\\site-packages\\keras\\engine\\data_adapter.py:1260\u001b[0m, in \u001b[0;36mDataHandler.__init__\u001b[1;34m(self, x, y, sample_weight, batch_size, steps_per_epoch, initial_epoch, epochs, shuffle, class_weight, max_queue_size, workers, use_multiprocessing, model, steps_per_execution, distribute)\u001b[0m\n\u001b[0;32m   <a href='file:///c%3A/Users/Rawan%20Alamily/AppData/Local/Programs/Python/Python310/lib/site-packages/keras/engine/data_adapter.py?line=1256'>1257</a>\u001b[0m     \u001b[39mself\u001b[39m\u001b[39m.\u001b[39m_steps_per_execution \u001b[39m=\u001b[39m steps_per_execution\n\u001b[0;32m   <a href='file:///c%3A/Users/Rawan%20Alamily/AppData/Local/Programs/Python/Python310/lib/site-packages/keras/engine/data_adapter.py?line=1258'>1259</a>\u001b[0m adapter_cls \u001b[39m=\u001b[39m select_data_adapter(x, y)\n\u001b[1;32m-> <a href='file:///c%3A/Users/Rawan%20Alamily/AppData/Local/Programs/Python/Python310/lib/site-packages/keras/engine/data_adapter.py?line=1259'>1260</a>\u001b[0m \u001b[39mself\u001b[39m\u001b[39m.\u001b[39m_adapter \u001b[39m=\u001b[39m adapter_cls(\n\u001b[0;32m   <a href='file:///c%3A/Users/Rawan%20Alamily/AppData/Local/Programs/Python/Python310/lib/site-packages/keras/engine/data_adapter.py?line=1260'>1261</a>\u001b[0m     x,\n\u001b[0;32m   <a href='file:///c%3A/Users/Rawan%20Alamily/AppData/Local/Programs/Python/Python310/lib/site-packages/keras/engine/data_adapter.py?line=1261'>1262</a>\u001b[0m     y,\n\u001b[0;32m   <a href='file:///c%3A/Users/Rawan%20Alamily/AppData/Local/Programs/Python/Python310/lib/site-packages/keras/engine/data_adapter.py?line=1262'>1263</a>\u001b[0m     batch_size\u001b[39m=\u001b[39;49mbatch_size,\n\u001b[0;32m   <a href='file:///c%3A/Users/Rawan%20Alamily/AppData/Local/Programs/Python/Python310/lib/site-packages/keras/engine/data_adapter.py?line=1263'>1264</a>\u001b[0m     steps\u001b[39m=\u001b[39;49msteps_per_epoch,\n\u001b[0;32m   <a href='file:///c%3A/Users/Rawan%20Alamily/AppData/Local/Programs/Python/Python310/lib/site-packages/keras/engine/data_adapter.py?line=1264'>1265</a>\u001b[0m     epochs\u001b[39m=\u001b[39;49mepochs \u001b[39m-\u001b[39;49m initial_epoch,\n\u001b[0;32m   <a href='file:///c%3A/Users/Rawan%20Alamily/AppData/Local/Programs/Python/Python310/lib/site-packages/keras/engine/data_adapter.py?line=1265'>1266</a>\u001b[0m     sample_weights\u001b[39m=\u001b[39;49msample_weight,\n\u001b[0;32m   <a href='file:///c%3A/Users/Rawan%20Alamily/AppData/Local/Programs/Python/Python310/lib/site-packages/keras/engine/data_adapter.py?line=1266'>1267</a>\u001b[0m     shuffle\u001b[39m=\u001b[39;49mshuffle,\n\u001b[0;32m   <a href='file:///c%3A/Users/Rawan%20Alamily/AppData/Local/Programs/Python/Python310/lib/site-packages/keras/engine/data_adapter.py?line=1267'>1268</a>\u001b[0m     max_queue_size\u001b[39m=\u001b[39;49mmax_queue_size,\n\u001b[0;32m   <a href='file:///c%3A/Users/Rawan%20Alamily/AppData/Local/Programs/Python/Python310/lib/site-packages/keras/engine/data_adapter.py?line=1268'>1269</a>\u001b[0m     workers\u001b[39m=\u001b[39;49mworkers,\n\u001b[0;32m   <a href='file:///c%3A/Users/Rawan%20Alamily/AppData/Local/Programs/Python/Python310/lib/site-packages/keras/engine/data_adapter.py?line=1269'>1270</a>\u001b[0m     use_multiprocessing\u001b[39m=\u001b[39;49muse_multiprocessing,\n\u001b[0;32m   <a href='file:///c%3A/Users/Rawan%20Alamily/AppData/Local/Programs/Python/Python310/lib/site-packages/keras/engine/data_adapter.py?line=1270'>1271</a>\u001b[0m     distribution_strategy\u001b[39m=\u001b[39;49mtf\u001b[39m.\u001b[39;49mdistribute\u001b[39m.\u001b[39;49mget_strategy(),\n\u001b[0;32m   <a href='file:///c%3A/Users/Rawan%20Alamily/AppData/Local/Programs/Python/Python310/lib/site-packages/keras/engine/data_adapter.py?line=1271'>1272</a>\u001b[0m     model\u001b[39m=\u001b[39;49mmodel,\n\u001b[0;32m   <a href='file:///c%3A/Users/Rawan%20Alamily/AppData/Local/Programs/Python/Python310/lib/site-packages/keras/engine/data_adapter.py?line=1272'>1273</a>\u001b[0m )\n\u001b[0;32m   <a href='file:///c%3A/Users/Rawan%20Alamily/AppData/Local/Programs/Python/Python310/lib/site-packages/keras/engine/data_adapter.py?line=1274'>1275</a>\u001b[0m strategy \u001b[39m=\u001b[39m tf\u001b[39m.\u001b[39mdistribute\u001b[39m.\u001b[39mget_strategy()\n\u001b[0;32m   <a href='file:///c%3A/Users/Rawan%20Alamily/AppData/Local/Programs/Python/Python310/lib/site-packages/keras/engine/data_adapter.py?line=1276'>1277</a>\u001b[0m \u001b[39mself\u001b[39m\u001b[39m.\u001b[39m_current_step \u001b[39m=\u001b[39m \u001b[39m0\u001b[39m\n",
      "File \u001b[1;32mc:\\Users\\Rawan Alamily\\AppData\\Local\\Programs\\Python\\Python310\\lib\\site-packages\\keras\\engine\\data_adapter.py:762\u001b[0m, in \u001b[0;36mDatasetAdapter.__init__\u001b[1;34m(self, x, y, sample_weights, steps, **kwargs)\u001b[0m\n\u001b[0;32m    <a href='file:///c%3A/Users/Rawan%20Alamily/AppData/Local/Programs/Python/Python310/lib/site-packages/keras/engine/data_adapter.py?line=758'>759</a>\u001b[0m \u001b[39m# The user-provided steps.\u001b[39;00m\n\u001b[0;32m    <a href='file:///c%3A/Users/Rawan%20Alamily/AppData/Local/Programs/Python/Python310/lib/site-packages/keras/engine/data_adapter.py?line=759'>760</a>\u001b[0m \u001b[39mself\u001b[39m\u001b[39m.\u001b[39m_user_steps \u001b[39m=\u001b[39m steps\n\u001b[1;32m--> <a href='file:///c%3A/Users/Rawan%20Alamily/AppData/Local/Programs/Python/Python310/lib/site-packages/keras/engine/data_adapter.py?line=761'>762</a>\u001b[0m \u001b[39mself\u001b[39;49m\u001b[39m.\u001b[39;49m_validate_args(y, sample_weights, steps)\n",
      "File \u001b[1;32mc:\\Users\\Rawan Alamily\\AppData\\Local\\Programs\\Python\\Python310\\lib\\site-packages\\keras\\engine\\data_adapter.py:819\u001b[0m, in \u001b[0;36mDatasetAdapter._validate_args\u001b[1;34m(self, y, sample_weights, steps)\u001b[0m\n\u001b[0;32m    <a href='file:///c%3A/Users/Rawan%20Alamily/AppData/Local/Programs/Python/Python310/lib/site-packages/keras/engine/data_adapter.py?line=813'>814</a>\u001b[0m size \u001b[39m=\u001b[39m tf\u001b[39m.\u001b[39mdata\u001b[39m.\u001b[39mexperimental\u001b[39m.\u001b[39mcardinality(\u001b[39mself\u001b[39m\u001b[39m.\u001b[39m_dataset)\u001b[39m.\u001b[39mnumpy()\n\u001b[0;32m    <a href='file:///c%3A/Users/Rawan%20Alamily/AppData/Local/Programs/Python/Python310/lib/site-packages/keras/engine/data_adapter.py?line=814'>815</a>\u001b[0m \u001b[39mif\u001b[39;00m (\n\u001b[0;32m    <a href='file:///c%3A/Users/Rawan%20Alamily/AppData/Local/Programs/Python/Python310/lib/site-packages/keras/engine/data_adapter.py?line=815'>816</a>\u001b[0m     size \u001b[39m==\u001b[39m tf\u001b[39m.\u001b[39mdata\u001b[39m.\u001b[39mexperimental\u001b[39m.\u001b[39mINFINITE_CARDINALITY\n\u001b[0;32m    <a href='file:///c%3A/Users/Rawan%20Alamily/AppData/Local/Programs/Python/Python310/lib/site-packages/keras/engine/data_adapter.py?line=816'>817</a>\u001b[0m     \u001b[39mand\u001b[39;00m steps \u001b[39mis\u001b[39;00m \u001b[39mNone\u001b[39;00m\n\u001b[0;32m    <a href='file:///c%3A/Users/Rawan%20Alamily/AppData/Local/Programs/Python/Python310/lib/site-packages/keras/engine/data_adapter.py?line=817'>818</a>\u001b[0m ):\n\u001b[1;32m--> <a href='file:///c%3A/Users/Rawan%20Alamily/AppData/Local/Programs/Python/Python310/lib/site-packages/keras/engine/data_adapter.py?line=818'>819</a>\u001b[0m     \u001b[39mraise\u001b[39;00m \u001b[39mValueError\u001b[39;00m(\n\u001b[0;32m    <a href='file:///c%3A/Users/Rawan%20Alamily/AppData/Local/Programs/Python/Python310/lib/site-packages/keras/engine/data_adapter.py?line=819'>820</a>\u001b[0m         \u001b[39m\"\u001b[39m\u001b[39mWhen providing an infinite dataset, you must specify \u001b[39m\u001b[39m\"\u001b[39m\n\u001b[0;32m    <a href='file:///c%3A/Users/Rawan%20Alamily/AppData/Local/Programs/Python/Python310/lib/site-packages/keras/engine/data_adapter.py?line=820'>821</a>\u001b[0m         \u001b[39m\"\u001b[39m\u001b[39mthe number of steps to run (if you did not intend to \u001b[39m\u001b[39m\"\u001b[39m\n\u001b[0;32m    <a href='file:///c%3A/Users/Rawan%20Alamily/AppData/Local/Programs/Python/Python310/lib/site-packages/keras/engine/data_adapter.py?line=821'>822</a>\u001b[0m         \u001b[39m\"\u001b[39m\u001b[39mcreate an infinite dataset, make sure to not call \u001b[39m\u001b[39m\"\u001b[39m\n\u001b[0;32m    <a href='file:///c%3A/Users/Rawan%20Alamily/AppData/Local/Programs/Python/Python310/lib/site-packages/keras/engine/data_adapter.py?line=822'>823</a>\u001b[0m         \u001b[39m\"\u001b[39m\u001b[39m`repeat()` on the dataset).\u001b[39m\u001b[39m\"\u001b[39m\n\u001b[0;32m    <a href='file:///c%3A/Users/Rawan%20Alamily/AppData/Local/Programs/Python/Python310/lib/site-packages/keras/engine/data_adapter.py?line=823'>824</a>\u001b[0m     )\n",
      "\u001b[1;31mValueError\u001b[0m: When providing an infinite dataset, you must specify the number of steps to run (if you did not intend to create an infinite dataset, make sure to not call `repeat()` on the dataset)."
     ]
    }
   ],
   "metadata": {}
  },
  {
   "cell_type": "code",
   "execution_count": 75,
   "source": [
    "def get_normalization_layer(feature_name, dataset):\n",
    "    # normalize numeric features\n",
    "    normalizer = layers.Normalization(axis=None)\n",
    "    # extract feature from dataset\n",
    "    feature_ds = dataset.map(lambda x, y: x[feature_name])\n",
    "    normalizer.adapt(feature_ds, batch_size=batch_size, steps=steps_per_epoch)\n",
    "    return normalizer\n",
    "def get_category_encoding_layer(feature_name, dataset, dtype, max_tokens=None):\n",
    "    if dtype == 'string':\n",
    "        index = layers.StringLookup(max_tokens=max_tokens)\n",
    "    else:\n",
    "        index = layers.IntegerLookup(max_tokens=max_tokens)\n",
    "    # extract feature from dataset\n",
    "    feature_ds = dataset.map(lambda x, y: x[feature_name])\n",
    "    # 'learn' all possible feature values, assign each an int index \n",
    "    index.adapt(feature_ds, batch_size=batch_size, steps=steps_per_epoch)\n",
    "    # encode integer index\n",
    "    encoder = layers.CategoryEncoding(num_tokens=index.vocabulary_size(), output_mode=\"one_hot\")\n",
    "    # multi-hot encode indeices - lambda function captures layers\n",
    "    return lambda feature: encoder(index(feature))"
   ],
   "outputs": [],
   "metadata": {}
  },
  {
   "cell_type": "code",
   "execution_count": 76,
   "source": [
    "# preprocess all features:\n",
    "inputs = []\n",
    "encoded_features =[]\n",
    "\n",
    "# numerical\n",
    "for header in [\"bmi\", \"physicalHealth\", \"mentalHealth\", 'sleepHours' ]:\n",
    "    num_col = tf.keras.Input(shape=(1,), name=header)\n",
    "    # keras inputs array\n",
    "    inputs.append(num_col)\n",
    "\n",
    "    norm_layer = get_normalization_layer(feature_name=header, dataset=resampled_train_ds)\n",
    "    encoded_num_col = norm_layer(num_col)\n",
    "    # encoded feature\n",
    "    encoded_features.append(encoded_num_col)\n",
    "\n",
    "# categorical\n",
    "for header in [\"smoking\",\"alcoholDrinking\",\"stroke\",\"diffWalk\",\n",
    "                \"sex\", \"ageGroup\", \"diabetic\", \"physicalActivity\", \n",
    "                \"overallHealth\", \"asthma\", \"kidneyDisease\", \"skinCancer\"]:\n",
    "    \n",
    "    # declare header as a keras Input\n",
    "    cat_col = tf.keras.Input(shape=(1,), name=header, dtype='string')\n",
    "    # keras inputs array\n",
    "    inputs.append(cat_col)\n",
    "\n",
    "    # get preprocessing layer \n",
    "    cat_layer = get_category_encoding_layer(feature_name=header,\n",
    "                                            dataset=resampled_train_ds, \n",
    "                                            dtype='string', \n",
    "                                            max_tokens=None)\n",
    "    encoded_cat_col = cat_layer(cat_col)\n",
    "    # encoded feature\n",
    "    encoded_features.append(encoded_cat_col)"
   ],
   "outputs": [],
   "metadata": {}
  },
  {
   "cell_type": "code",
   "execution_count": 77,
   "source": [
    "# KERAS FUNCTIONAL API - MODEL BUILD   \n",
    "# merge list feature inputs into one vector\n",
    "features = tf.keras.layers.concatenate(encoded_features)\n",
    "x = tf.keras.layers.Dense(units=128, activation=\"relu\")(features)\n",
    "x = tf.keras.layers.Dropout(rate=0.2)(x)\n",
    "x = tf.keras.layers.Dense(units=128, activation='relu')(x)\n",
    "output = tf.keras.layers.Dense(units=1, activation='sigmoid')(x)\n",
    "model = tf.keras.Model(inputs, output)"
   ],
   "outputs": [],
   "metadata": {}
  },
  {
   "cell_type": "code",
   "execution_count": 78,
   "source": [
    "model.compile(optimizer='adam', \n",
    "              loss='binary_crossentropy', \n",
    "              metrics = ['accuracy'])\n",
    "\n",
    "result = model.fit(resampled_train_ds, \n",
    "                    validation_data=val_ds, \n",
    "                    epochs=5,\n",
    "                    steps_per_epoch=steps_per_epoch,\n",
    "                    use_multiprocessing=True, \n",
    "                    verbose=1)\n",
    "\n",
    "predictions = model.predict(val_ds)\n",
    "\n",
    "binary_predictions = tf.round(predictions).numpy().flatten()"
   ],
   "outputs": [
    {
     "output_type": "stream",
     "name": "stdout",
     "text": [
      "Epoch 1/5\n",
      "856/856 [==============================] - 18s 16ms/step - loss: 0.2387 - accuracy: 0.9142 - val_loss: 0.2288 - val_accuracy: 0.9142\n",
      "Epoch 2/5\n",
      "856/856 [==============================] - 11s 13ms/step - loss: 0.2278 - accuracy: 0.9162 - val_loss: 0.2276 - val_accuracy: 0.9153\n",
      "Epoch 3/5\n",
      "856/856 [==============================] - 13s 15ms/step - loss: 0.2325 - accuracy: 0.9146 - val_loss: 0.2286 - val_accuracy: 0.9153\n",
      "Epoch 4/5\n",
      "856/856 [==============================] - 17s 20ms/step - loss: 0.2296 - accuracy: 0.9158 - val_loss: 0.2313 - val_accuracy: 0.9156\n",
      "Epoch 5/5\n",
      "856/856 [==============================] - 26s 30ms/step - loss: 0.2307 - accuracy: 0.9146 - val_loss: 0.2270 - val_accuracy: 0.9154\n",
      "1500/1500 [==============================] - 9s 5ms/step\n"
     ]
    }
   ],
   "metadata": {}
  },
  {
   "cell_type": "code",
   "execution_count": 79,
   "source": [
    "plt.plot(result.history['loss'], label='loss')\n",
    "plt.plot(result.history['val_loss'], label='val_loss')\n",
    "plt.legend()"
   ],
   "outputs": [
    {
     "output_type": "execute_result",
     "data": {
      "text/plain": [
       "<matplotlib.legend.Legend at 0x1d28d07d960>"
      ]
     },
     "metadata": {},
     "execution_count": 79
    },
    {
     "output_type": "display_data",
     "data": {
      "image/png": "[encoded data removed]",
      "text/plain": [
       "<Figure size 640x480 with 1 Axes>"
      ]
     },
     "metadata": {}
    }
   ],
   "metadata": {}
  },
  {
   "cell_type": "code",
   "execution_count": 80,
   "source": [
    "print(classification_report(val.get('target'), binary_predictions))\n",
    "# layer connectivity visualization\n",
    "#tf.keras.utils.plot_model(model, show_shapes=True, rankdir=\"LR\")"
   ],
   "outputs": [
    {
     "output_type": "stream",
     "name": "stdout",
     "text": [
      "              precision    recall  f1-score   support\n",
      "\n",
      "           0       0.92      1.00      0.96     87722\n",
      "           1       0.58      0.05      0.09      8217\n",
      "\n",
      "    accuracy                           0.92     95939\n",
      "   macro avg       0.75      0.52      0.52     95939\n",
      "weighted avg       0.89      0.92      0.88     95939\n",
      "\n"
     ]
    }
   ],
   "metadata": {}
  },
  {
   "cell_type": "code",
   "execution_count": 81,
   "source": [
    "model.compile(optimizer='adam', \n",
    "              loss='binary_crossentropy', \n",
    "              metrics = ['accuracy'])\n",
    "\n",
    "result = model.fit(resampled_train_ds, \n",
    "                    validation_data=val_ds, \n",
    "                    epochs=20,\n",
    "                    steps_per_epoch=steps_per_epoch,\n",
    "                    use_multiprocessing=True, \n",
    "                    verbose=1)\n",
    "\n",
    "predictions = model.predict(val_ds)\n",
    "\n",
    "binary_predictions = tf.round(predictions).numpy().flatten()"
   ],
   "outputs": [
    {
     "output_type": "stream",
     "name": "stdout",
     "text": [
      "Epoch 1/20\n",
      "856/856 [==============================] - 19s 18ms/step - loss: 0.2317 - accuracy: 0.9149 - val_loss: 0.2274 - val_accuracy: 0.9158\n",
      "Epoch 2/20\n",
      "856/856 [==============================] - 16s 19ms/step - loss: 0.2269 - accuracy: 0.9165 - val_loss: 0.2277 - val_accuracy: 0.9156\n",
      "Epoch 3/20\n",
      "856/856 [==============================] - 16s 19ms/step - loss: 0.2272 - accuracy: 0.9165 - val_loss: 0.2264 - val_accuracy: 0.9153\n",
      "Epoch 4/20\n",
      "856/856 [==============================] - 15s 18ms/step - loss: 0.2252 - accuracy: 0.9164 - val_loss: 0.2269 - val_accuracy: 0.9151\n",
      "Epoch 5/20\n",
      "856/856 [==============================] - 19s 22ms/step - loss: 0.2227 - accuracy: 0.9177 - val_loss: 0.2260 - val_accuracy: 0.9155\n",
      "Epoch 6/20\n",
      "856/856 [==============================] - 17s 20ms/step - loss: 0.2295 - accuracy: 0.9156 - val_loss: 0.2272 - val_accuracy: 0.9144\n",
      "Epoch 7/20\n",
      "856/856 [==============================] - 17s 20ms/step - loss: 0.2260 - accuracy: 0.9160 - val_loss: 0.2268 - val_accuracy: 0.9155\n",
      "Epoch 8/20\n",
      "856/856 [==============================] - 15s 17ms/step - loss: 0.2276 - accuracy: 0.9153 - val_loss: 0.2291 - val_accuracy: 0.9150\n",
      "Epoch 9/20\n",
      "856/856 [==============================] - 18s 21ms/step - loss: 0.2276 - accuracy: 0.9149 - val_loss: 0.2276 - val_accuracy: 0.9153\n",
      "Epoch 10/20\n",
      "856/856 [==============================] - 17s 20ms/step - loss: 0.2247 - accuracy: 0.9164 - val_loss: 0.2261 - val_accuracy: 0.9154\n",
      "Epoch 11/20\n",
      "856/856 [==============================] - 16s 18ms/step - loss: 0.2262 - accuracy: 0.9161 - val_loss: 0.2281 - val_accuracy: 0.9152\n",
      "Epoch 12/20\n",
      "856/856 [==============================] - 16s 19ms/step - loss: 0.2256 - accuracy: 0.9179 - val_loss: 0.2262 - val_accuracy: 0.9155\n",
      "Epoch 13/20\n",
      "856/856 [==============================] - 17s 20ms/step - loss: 0.2282 - accuracy: 0.9149 - val_loss: 0.2265 - val_accuracy: 0.9152\n",
      "Epoch 14/20\n",
      "856/856 [==============================] - 15s 17ms/step - loss: 0.2244 - accuracy: 0.9172 - val_loss: 0.2267 - val_accuracy: 0.9153\n",
      "Epoch 15/20\n",
      "856/856 [==============================] - 15s 17ms/step - loss: 0.2259 - accuracy: 0.9165 - val_loss: 0.2270 - val_accuracy: 0.9155\n",
      "Epoch 16/20\n",
      "856/856 [==============================] - 9s 10ms/step - loss: 0.2263 - accuracy: 0.9157 - val_loss: 0.2258 - val_accuracy: 0.9154\n",
      "Epoch 17/20\n",
      "856/856 [==============================] - 12s 14ms/step - loss: 0.2271 - accuracy: 0.9168 - val_loss: 0.2261 - val_accuracy: 0.9151\n",
      "Epoch 18/20\n",
      "856/856 [==============================] - 10s 12ms/step - loss: 0.2231 - accuracy: 0.9182 - val_loss: 0.2260 - val_accuracy: 0.9151\n",
      "Epoch 19/20\n",
      "856/856 [==============================] - 10s 12ms/step - loss: 0.2277 - accuracy: 0.9160 - val_loss: 0.2261 - val_accuracy: 0.9152\n",
      "Epoch 20/20\n",
      "856/856 [==============================] - 9s 10ms/step - loss: 0.2228 - accuracy: 0.9169 - val_loss: 0.2261 - val_accuracy: 0.9155\n",
      "1500/1500 [==============================] - 5s 3ms/step\n"
     ]
    }
   ],
   "metadata": {}
  },
  {
   "cell_type": "code",
   "execution_count": 82,
   "source": [
    "plt.plot(result.history['loss'], label='loss')\n",
    "plt.plot(result.history['val_loss'], label='val_loss')\n",
    "plt.legend()"
   ],
   "outputs": [
    {
     "output_type": "execute_result",
     "data": {
      "text/plain": [
       "<matplotlib.legend.Legend at 0x1d2b9dbf010>"
      ]
     },
     "metadata": {},
     "execution_count": 82
    },
    {
     "output_type": "display_data",
     "data": {
      "image/png": "[encoded data removed]",
      "text/plain": [
       "<Figure size 640x480 with 1 Axes>"
      ]
     },
     "metadata": {}
    }
   ],
   "metadata": {}
  },
  {
   "cell_type": "code",
   "execution_count": 83,
   "source": [
    "print(classification_report(val.get('target'), binary_predictions))\n",
    "# layer connectivity visualization\n",
    "#tf.keras.utils.plot_model(model, show_shapes=True, rankdir=\"LR\")"
   ],
   "outputs": [
    {
     "output_type": "stream",
     "name": "stdout",
     "text": [
      "              precision    recall  f1-score   support\n",
      "\n",
      "           0       0.92      0.99      0.96     87722\n",
      "           1       0.55      0.08      0.13      8217\n",
      "\n",
      "    accuracy                           0.92     95939\n",
      "   macro avg       0.73      0.53      0.54     95939\n",
      "weighted avg       0.89      0.92      0.89     95939\n",
      "\n"
     ]
    }
   ],
   "metadata": {}
  }
 ],
 "nbformat": 4,
 "nbformat_minor": 2,
 "metadata": {
  "language_info": {
   "codemirror_mode": {
    "name": "ipython",
    "version": 3
   },
   "file_extension": ".py",
   "mimetype": "text/x-python",
   "name": "python",
   "nbconvert_exporter": "python",
   "pygments_lexer": "ipython3",
   "version": 3
  },
  "orig_nbformat": 4
 }
}